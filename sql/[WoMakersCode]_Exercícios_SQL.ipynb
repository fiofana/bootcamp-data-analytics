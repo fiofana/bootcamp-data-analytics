{
  "nbformat": 4,
  "nbformat_minor": 0,
  "metadata": {
    "colab": {
      "provenance": [],
      "include_colab_link": true
    },
    "kernelspec": {
      "name": "python3",
      "display_name": "Python 3"
    },
    "language_info": {
      "name": "python"
    }
  },
  "cells": [
    {
      "cell_type": "markdown",
      "metadata": {
        "id": "view-in-github",
        "colab_type": "text"
      },
      "source": [
        "<a href=\"https://colab.research.google.com/github/fiofana/bootcamp-data-analytics/blob/main/sql/%5BWoMakersCode%5D_Exerc%C3%ADcios_SQL.ipynb\" target=\"_parent\"><img src=\"https://colab.research.google.com/assets/colab-badge.svg\" alt=\"Open In Colab\"/></a>"
      ]
    },
    {
      "cell_type": "code",
      "source": [
        "%load_ext sql"
      ],
      "metadata": {
        "id": "ZUjPZqcXeOFk"
      },
      "execution_count": 1,
      "outputs": []
    },
    {
      "cell_type": "code",
      "source": [
        "%%sql\n",
        "sqlite:///test.db"
      ],
      "metadata": {
        "id": "JqPsXTSveQoC"
      },
      "execution_count": 2,
      "outputs": []
    },
    {
      "cell_type": "code",
      "execution_count": 3,
      "metadata": {
        "id": "kl_YgIYKdl_k"
      },
      "outputs": [],
      "source": [
        "import sqlite3\n",
        "import pandas as pd"
      ]
    },
    {
      "cell_type": "code",
      "source": [
        "conexao = sqlite3.connect('test.db')\n",
        "cursor = conexao.cursor()"
      ],
      "metadata": {
        "id": "U4igX73-GYYY"
      },
      "execution_count": 4,
      "outputs": []
    },
    {
      "cell_type": "markdown",
      "source": [
        "1. Crie uma tabela chamada \"alunos\" com os seguintes campos: id\n",
        "(inteiro), nome (texto), idade (inteiro) e curso (texto)."
      ],
      "metadata": {
        "id": "CulFJOBsFLz6"
      }
    },
    {
      "cell_type": "code",
      "source": [
        "cursor.execute('CREATE TABLE alunos(id INT, nome VARCHAR(100), idade INT, curso VARCHAR(100));')\n",
        "\n",
        "conexao.commit()\n",
        "conexao.close"
      ],
      "metadata": {
        "colab": {
          "base_uri": "https://localhost:8080/"
        },
        "id": "Vr07Seg0dolW",
        "outputId": "146b353f-ca8d-480a-b1af-803bde106ccf"
      },
      "execution_count": 5,
      "outputs": [
        {
          "output_type": "execute_result",
          "data": {
            "text/plain": [
              "<function Connection.close()>"
            ]
          },
          "metadata": {},
          "execution_count": 5
        }
      ]
    },
    {
      "cell_type": "markdown",
      "source": [
        "2. Insira pelo menos 5 registros de alunos na tabela que você criou no\n",
        "exercício anterior."
      ],
      "metadata": {
        "id": "swKJMrHnFOdZ"
      }
    },
    {
      "cell_type": "code",
      "source": [
        "cursor.execute('INSERT INTO alunos(id, nome, idade, curso) VALUES (1, \"Malena\", 25, \"Ciência da Computação\");')\n",
        "cursor.execute('INSERT INTO alunos(id, nome, idade, curso) VALUES (2, \"Igor\", 23, \"Engenharia Elétrica\");')\n",
        "cursor.execute('INSERT INTO alunos(id, nome, idade, curso) VALUES (3, \"Pedro\", 20, \"Engenharia Mecânica\");')\n",
        "cursor.execute('INSERT INTO alunos(id, nome, idade, curso) VALUES (4, \"Júlia\", 18, \"Engenharia Mecânica\");')\n",
        "cursor.execute('INSERT INTO alunos(id, nome, idade, curso) VALUES (5, \"Teresa\", 37, \"Letras\");')\n",
        "\n",
        "conexao.commit()\n",
        "conexao.close"
      ],
      "metadata": {
        "colab": {
          "base_uri": "https://localhost:8080/"
        },
        "id": "lE5HPkzKGAR-",
        "outputId": "608679dc-6e3a-4313-d649-a5aa7d29a398"
      },
      "execution_count": 6,
      "outputs": [
        {
          "output_type": "execute_result",
          "data": {
            "text/plain": [
              "<function Connection.close()>"
            ]
          },
          "metadata": {},
          "execution_count": 6
        }
      ]
    },
    {
      "cell_type": "markdown",
      "source": [
        "3. Consultas Básicas - Escreva consultas SQL para realizar as seguintes tarefas:\n",
        "\n",
        "a) Selecionar todos os registros da tabela \"alunos\".\n",
        "\n",
        "b) Selecionar o nome e a idade dos alunos com mais de 20 anos.\n",
        "\n",
        "c) Selecionar os alunos do curso de \"Engenharia\" em ordem\n",
        "alfabética.\n",
        "\n",
        "d) Contar o número total de alunos na tabela"
      ],
      "metadata": {
        "id": "3Q-dwNFfFPwn"
      }
    },
    {
      "cell_type": "code",
      "source": [
        "dados = cursor.execute('SELECT * FROM alunos;')\n",
        "\n",
        "conexao.commit()\n",
        "conexao.close\n",
        "\n",
        "for aluno in dados:\n",
        "    print(aluno)"
      ],
      "metadata": {
        "colab": {
          "base_uri": "https://localhost:8080/"
        },
        "id": "MbEbdzrMFjjp",
        "outputId": "cd047432-3e5e-4911-a362-ec96d1235fdd"
      },
      "execution_count": 7,
      "outputs": [
        {
          "output_type": "stream",
          "name": "stdout",
          "text": [
            "(1, 'Malena', 25, 'Ciência da Computação')\n",
            "(2, 'Igor', 23, 'Engenharia Elétrica')\n",
            "(3, 'Pedro', 20, 'Engenharia Mecânica')\n",
            "(4, 'Júlia', 18, 'Engenharia Mecânica')\n",
            "(5, 'Teresa', 37, 'Letras')\n"
          ]
        }
      ]
    },
    {
      "cell_type": "code",
      "source": [
        "nome_idade = cursor.execute('SELECT nome, idade FROM alunos WHERE idade>20;')\n",
        "\n",
        "conexao.commit()\n",
        "conexao.close\n",
        "\n",
        "for aluno in nome_idade:\n",
        "    print(aluno)"
      ],
      "metadata": {
        "colab": {
          "base_uri": "https://localhost:8080/"
        },
        "id": "Bw_rAZWBG1OB",
        "outputId": "4c16bfb8-b5bd-44bb-d4fa-25a0b908519e"
      },
      "execution_count": 8,
      "outputs": [
        {
          "output_type": "stream",
          "name": "stdout",
          "text": [
            "('Malena', 25)\n",
            "('Igor', 23)\n",
            "('Teresa', 37)\n"
          ]
        }
      ]
    },
    {
      "cell_type": "code",
      "source": [
        "dados_eng = cursor.execute('SELECT * FROM alunos WHERE curso LIKE \"Engenharia%\";')\n",
        "\n",
        "conexao.commit()\n",
        "conexao.close\n",
        "\n",
        "for aluno in dados_eng:\n",
        "    print(aluno)"
      ],
      "metadata": {
        "colab": {
          "base_uri": "https://localhost:8080/"
        },
        "id": "78R3W3k1HNc_",
        "outputId": "c39e7c08-4eb6-4900-a2f1-9537e82273c4"
      },
      "execution_count": 9,
      "outputs": [
        {
          "output_type": "stream",
          "name": "stdout",
          "text": [
            "(2, 'Igor', 23, 'Engenharia Elétrica')\n",
            "(3, 'Pedro', 20, 'Engenharia Mecânica')\n",
            "(4, 'Júlia', 18, 'Engenharia Mecânica')\n"
          ]
        }
      ]
    },
    {
      "cell_type": "code",
      "source": [
        "cursor.execute('SELECT COUNT(*) FROM alunos')\n",
        "\n",
        "conexao.commit()\n",
        "conexao.close\n",
        "\n",
        "total_alunos = cursor.fetchone()[0]\n",
        "print(total_alunos)"
      ],
      "metadata": {
        "colab": {
          "base_uri": "https://localhost:8080/"
        },
        "id": "R9T0ZE5lICUy",
        "outputId": "7a9b7662-6192-4093-ed00-3d2d5b60a877"
      },
      "execution_count": 10,
      "outputs": [
        {
          "output_type": "stream",
          "name": "stdout",
          "text": [
            "5\n"
          ]
        }
      ]
    },
    {
      "cell_type": "markdown",
      "source": [
        "4. Atualização e Remoção\n",
        "\n",
        "a) Atualize a idade de um aluno específico na tabela.\n",
        "\n",
        "b) Remova um aluno pelo seu ID."
      ],
      "metadata": {
        "id": "XT9N7Z7RFSaz"
      }
    },
    {
      "cell_type": "code",
      "source": [
        "cursor.execute('UPDATE alunos SET idade = 21 WHERE id = 3')\n",
        "\n",
        "conexao.commit()\n",
        "conexao.close"
      ],
      "metadata": {
        "colab": {
          "base_uri": "https://localhost:8080/"
        },
        "id": "dcYOaz_QIZAH",
        "outputId": "0845b2d1-0953-4b24-b430-cef1aa30c174"
      },
      "execution_count": 11,
      "outputs": [
        {
          "output_type": "execute_result",
          "data": {
            "text/plain": [
              "<function Connection.close()>"
            ]
          },
          "metadata": {},
          "execution_count": 11
        }
      ]
    },
    {
      "cell_type": "code",
      "source": [
        "cursor.execute('DELETE FROM alunos WHERE id = 4')\n",
        "\n",
        "conexao.commit()\n",
        "conexao.close"
      ],
      "metadata": {
        "colab": {
          "base_uri": "https://localhost:8080/"
        },
        "id": "vZF5mocVIsg1",
        "outputId": "f73928f6-f2eb-42be-a4c2-83cebd1c2421"
      },
      "execution_count": 12,
      "outputs": [
        {
          "output_type": "execute_result",
          "data": {
            "text/plain": [
              "<function Connection.close()>"
            ]
          },
          "metadata": {},
          "execution_count": 12
        }
      ]
    },
    {
      "cell_type": "code",
      "source": [
        "dados = cursor.execute('SELECT * FROM alunos;')\n",
        "\n",
        "conexao.commit()\n",
        "conexao.close\n",
        "\n",
        "for aluno in dados:\n",
        "    print(aluno)"
      ],
      "metadata": {
        "colab": {
          "base_uri": "https://localhost:8080/"
        },
        "id": "Y2ihhHruIy_y",
        "outputId": "e0307669-06f0-4a9a-a7ad-0c5c516ffaa3"
      },
      "execution_count": 13,
      "outputs": [
        {
          "output_type": "stream",
          "name": "stdout",
          "text": [
            "(1, 'Malena', 25, 'Ciência da Computação')\n",
            "(2, 'Igor', 23, 'Engenharia Elétrica')\n",
            "(3, 'Pedro', 21, 'Engenharia Mecânica')\n",
            "(5, 'Teresa', 37, 'Letras')\n"
          ]
        }
      ]
    },
    {
      "cell_type": "markdown",
      "source": [
        "5. Criar uma Tabela e Inserir Dados\n",
        "\n",
        "Crie uma tabela chamada \"clientes\" com os campos: id (chave\n",
        "primária), nome (texto), idade (inteiro) e saldo (float). Insira alguns\n",
        "registros de clientes na tabela."
      ],
      "metadata": {
        "id": "UuX8NbZxFUMh"
      }
    },
    {
      "cell_type": "code",
      "source": [
        "cursor.execute('CREATE TABLE clientes(id INT, nome VARCHAR(100), idade INT, saldo REAL);')\n",
        "\n",
        "cursor.execute('INSERT INTO clientes (id, nome, idade, saldo) VALUES (1, \"Ana\", 34, 1500.75);')\n",
        "cursor.execute('INSERT INTO clientes (id, nome, idade, saldo) VALUES (2, \"Bruno\", 28, 950.50);')\n",
        "cursor.execute('INSERT INTO clientes (id, nome, idade, saldo) VALUES (3, \"Carla\", 45, 2000.00);')\n",
        "cursor.execute('INSERT INTO clientes (id, nome, idade, saldo) VALUES (4, \"Daniel\", 22, 500.00);')\n",
        "cursor.execute('INSERT INTO clientes (id, nome, idade, saldo) VALUES (5, \"Eduarda\", 38, 3000.20);')\n",
        "\n",
        "conexao.commit()\n",
        "conexao.close"
      ],
      "metadata": {
        "colab": {
          "base_uri": "https://localhost:8080/"
        },
        "id": "ig9UNyJhI0ny",
        "outputId": "bc85ad6e-8bfd-45e0-e117-80e05b466fc7"
      },
      "execution_count": 14,
      "outputs": [
        {
          "output_type": "execute_result",
          "data": {
            "text/plain": [
              "<function Connection.close()>"
            ]
          },
          "metadata": {},
          "execution_count": 14
        }
      ]
    },
    {
      "cell_type": "markdown",
      "source": [
        "6. Consultas e Funções Agregadas\n",
        "\n",
        "Escreva consultas SQL para realizar as seguintes tarefas:\n",
        "\n",
        "a) Selecione o nome e a idade dos clientes com idade superior a\n",
        "30 anos.\n",
        "\n",
        "b) Calcule o saldo médio dos clientes.\n",
        "\n",
        "c) Encontre o cliente com o saldo máximo.\n",
        "\n",
        "d) Conte quantos clientes têm saldo acima de 1000."
      ],
      "metadata": {
        "id": "VKqR9NJ5FV8h"
      }
    },
    {
      "cell_type": "code",
      "source": [
        "nome_idade = cursor.execute('SELECT nome, idade FROM clientes WHERE idade>30;')\n",
        "\n",
        "conexao.commit()\n",
        "conexao.close\n",
        "\n",
        "for cliente in nome_idade:\n",
        "    print(cliente)"
      ],
      "metadata": {
        "id": "HXBILsCZJW5x",
        "colab": {
          "base_uri": "https://localhost:8080/"
        },
        "outputId": "8e8946a0-b3bc-40e8-c799-cdbe932af6f4"
      },
      "execution_count": 15,
      "outputs": [
        {
          "output_type": "stream",
          "name": "stdout",
          "text": [
            "('Ana', 34)\n",
            "('Carla', 45)\n",
            "('Eduarda', 38)\n"
          ]
        }
      ]
    },
    {
      "cell_type": "code",
      "source": [
        "cursor.execute('SELECT AVG(saldo) FROM clientes;')\n",
        "\n",
        "conexao.commit()\n",
        "conexao.close\n",
        "\n",
        "saldo_medio = cursor.fetchone()[0]\n",
        "print(saldo_medio)"
      ],
      "metadata": {
        "colab": {
          "base_uri": "https://localhost:8080/"
        },
        "id": "jLBb7E7LKUmN",
        "outputId": "eee8eedd-1134-4cc7-febd-514eb550c3b6"
      },
      "execution_count": 16,
      "outputs": [
        {
          "output_type": "stream",
          "name": "stdout",
          "text": [
            "1590.29\n"
          ]
        }
      ]
    },
    {
      "cell_type": "code",
      "source": [
        "cursor.execute('SELECT nome, saldo FROM clientes ORDER BY saldo DESC LIMIT 1;')\n",
        "\n",
        "conexao.commit()\n",
        "conexao.close\n",
        "\n",
        "maior_saldo = cursor.fetchone()[0]\n",
        "print(maior_saldo)"
      ],
      "metadata": {
        "colab": {
          "base_uri": "https://localhost:8080/"
        },
        "id": "yvegNM5bKsid",
        "outputId": "680ea211-b47b-48f3-8ead-3b37528f566e"
      },
      "execution_count": 17,
      "outputs": [
        {
          "output_type": "stream",
          "name": "stdout",
          "text": [
            "Eduarda\n"
          ]
        }
      ]
    },
    {
      "cell_type": "code",
      "source": [
        "cursor.execute('SELECT COUNT(*) AS clientes_acima_de_1000 FROM clientes WHERE saldo > 1000;')\n",
        "\n",
        "conexao.commit()\n",
        "conexao.close\n",
        "\n",
        "acima_mil = cursor.fetchone()[0]\n",
        "print(acima_mil)"
      ],
      "metadata": {
        "colab": {
          "base_uri": "https://localhost:8080/"
        },
        "id": "0AufjrxhK4Ie",
        "outputId": "f49f8411-6f9f-4d22-f037-839dee8b0382"
      },
      "execution_count": 18,
      "outputs": [
        {
          "output_type": "stream",
          "name": "stdout",
          "text": [
            "3\n"
          ]
        }
      ]
    },
    {
      "cell_type": "markdown",
      "source": [
        "7. Atualização e Remoção com Condições\n",
        "\n",
        "a) Atualize o saldo de um cliente específico.\n",
        "\n",
        "b) Remova um cliente pelo seu ID."
      ],
      "metadata": {
        "id": "2Y-800_RFX0R"
      }
    },
    {
      "cell_type": "code",
      "source": [
        "cursor.execute('UPDATE clientes SET saldo = 1600.00 WHERE nome = \"Ana\";')\n",
        "\n",
        "conexao.commit()\n",
        "conexao.close"
      ],
      "metadata": {
        "colab": {
          "base_uri": "https://localhost:8080/"
        },
        "id": "57FkbjT5LISz",
        "outputId": "41d5d883-55f3-4a78-b9e3-8c1ee84a8963"
      },
      "execution_count": 19,
      "outputs": [
        {
          "output_type": "execute_result",
          "data": {
            "text/plain": [
              "<function Connection.close()>"
            ]
          },
          "metadata": {},
          "execution_count": 19
        }
      ]
    },
    {
      "cell_type": "code",
      "source": [
        "cursor.execute('DELETE FROM clientes WHERE id = 2;')\n",
        "\n",
        "conexao.commit()\n",
        "conexao.close"
      ],
      "metadata": {
        "colab": {
          "base_uri": "https://localhost:8080/"
        },
        "id": "gc4h7q-_LPMS",
        "outputId": "2faf587c-0158-44f9-aa91-b3aad5552552"
      },
      "execution_count": 20,
      "outputs": [
        {
          "output_type": "execute_result",
          "data": {
            "text/plain": [
              "<function Connection.close()>"
            ]
          },
          "metadata": {},
          "execution_count": 20
        }
      ]
    },
    {
      "cell_type": "markdown",
      "source": [
        "8. Junção de Tabelas\n",
        "\n",
        "Crie uma segunda tabela chamada \"compras\" com os campos: id\n",
        "(chave primária), cliente_id (chave estrangeira referenciando o id\n",
        "da tabela \"clientes\"), produto (texto) e valor (real). Insira algumas\n",
        "compras associadas a clientes existentes na tabela \"clientes\".\n",
        "Escreva uma consulta para exibir o nome do cliente, o produto e o\n",
        "valor de cada compra."
      ],
      "metadata": {
        "id": "VtkgF-S_FK5g"
      }
    },
    {
      "cell_type": "code",
      "source": [
        "cursor.execute('CREATE TABLE compras(id INTEGER PRIMARY KEY, cliente_id INTEGER, produto TEXT, valor REAL, FOREIGN KEY(cliente_id) REFERENCES clientes(id));')\n",
        "\n",
        "cursor.execute('INSERT INTO compras (id, cliente_id, produto, valor) VALUES (1, 1, \"Notebook\", 1200.00);')\n",
        "cursor.execute('INSERT INTO compras (id, cliente_id, produto, valor) VALUES (2, 3, \"Smartphone\", 800.00);')\n",
        "cursor.execute('INSERT INTO compras (id, cliente_id, produto, valor) VALUES (3, 4, \"Tablet\", 400.00);')\n",
        "cursor.execute('INSERT INTO compras (id, cliente_id, produto, valor) VALUES (4, 5, \"TV\", 1500.00);')\n",
        "cursor.execute('INSERT INTO compras (id, cliente_id, produto, valor) VALUES (5, 3, \"Smartphone\", 3500.00);')\n",
        "\n",
        "conexao.commit()\n",
        "conexao.close"
      ],
      "metadata": {
        "colab": {
          "base_uri": "https://localhost:8080/"
        },
        "id": "lqBNmWa7LTmb",
        "outputId": "e1891f49-6578-4612-dc91-421b9924472f"
      },
      "execution_count": 21,
      "outputs": [
        {
          "output_type": "execute_result",
          "data": {
            "text/plain": [
              "<function Connection.close()>"
            ]
          },
          "metadata": {},
          "execution_count": 21
        }
      ]
    },
    {
      "cell_type": "code",
      "source": [
        "clientes_compras = cursor.execute('SELECT clientes.nome, compras.produto, compras.valor FROM compras JOIN clientes ON compras.cliente_id = clientes.id;')\n",
        "\n",
        "for compra in clientes_compras:\n",
        "    print(compra)"
      ],
      "metadata": {
        "colab": {
          "base_uri": "https://localhost:8080/"
        },
        "id": "caABZXkiMcYN",
        "outputId": "bb07fc46-fb17-4505-b9c0-fc20c831911a"
      },
      "execution_count": 23,
      "outputs": [
        {
          "output_type": "stream",
          "name": "stdout",
          "text": [
            "('Ana', 'Notebook', 1200.0)\n",
            "('Carla', 'Smartphone', 800.0)\n",
            "('Daniel', 'Tablet', 400.0)\n",
            "('Eduarda', 'TV', 1500.0)\n",
            "('Carla', 'Smartphone', 3500.0)\n"
          ]
        }
      ]
    }
  ]
}