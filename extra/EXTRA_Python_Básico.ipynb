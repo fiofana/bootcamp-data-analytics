{
  "nbformat": 4,
  "nbformat_minor": 0,
  "metadata": {
    "colab": {
      "provenance": [],
      "authorship_tag": "ABX9TyNyqhv7OCdS69ECafqc/mnA",
      "include_colab_link": true
    },
    "kernelspec": {
      "name": "python3",
      "display_name": "Python 3"
    },
    "language_info": {
      "name": "python"
    }
  },
  "cells": [
    {
      "cell_type": "markdown",
      "metadata": {
        "id": "view-in-github",
        "colab_type": "text"
      },
      "source": [
        "<a href=\"https://colab.research.google.com/github/fiofana/bootcamp-data-analytics/blob/main/extra/EXTRA_Python_B%C3%A1sico.ipynb\" target=\"_parent\"><img src=\"https://colab.research.google.com/assets/colab-badge.svg\" alt=\"Open In Colab\"/></a>"
      ]
    },
    {
      "cell_type": "markdown",
      "source": [
        "# Exercícios Conceitos Básicos de Python"
      ],
      "metadata": {
        "id": "bhUNc2Z65ZuK"
      }
    },
    {
      "cell_type": "markdown",
      "source": [
        "1) Faça um Programa que peça dois números, realize as principais\n",
        "operações soma, subtração, multiplicação, divisão."
      ],
      "metadata": {
        "id": "67RXq8F85VaP"
      }
    },
    {
      "cell_type": "code",
      "execution_count": null,
      "metadata": {
        "colab": {
          "base_uri": "https://localhost:8080/"
        },
        "id": "4C8ASBfX4qx8",
        "outputId": "9f173f50-92d4-4ee9-d111-ea1e234f75fb"
      },
      "outputs": [
        {
          "output_type": "stream",
          "name": "stdout",
          "text": [
            "Digite o primeiro número: 56.8664\n",
            "Digite o segundo número: 523.3465\n",
            "A soma dos valores é 580.21.\n",
            "A subtração dos valores é -466.48.\n",
            "A multiplicação dos valores é 29760.83.\n",
            "A divisão dos valores é 0.11.\n"
          ]
        }
      ],
      "source": [
        "def calcula_valores(x, y):\n",
        "    soma = x + y\n",
        "    print(f'A soma dos valores é {soma:.2f}.')\n",
        "    subtracao = x - y\n",
        "    print(f'A subtração dos valores é {subtracao:.2f}.')\n",
        "    multiplicacao = x * y\n",
        "    print(f'A multiplicação dos valores é {multiplicacao:.2f}.')\n",
        "    divisao = x / y\n",
        "    print(f'A divisão dos valores é {divisao:.2f}.')\n",
        "\n",
        "num1 = float(input('Digite o primeiro número: '))\n",
        "num2 = float(input('Digite o segundo número: '))\n",
        "\n",
        "calcula_valores(num1, num2)"
      ]
    },
    {
      "cell_type": "markdown",
      "source": [
        "2) Peça ao usuário para informar o ano de nascimento. Em seguida,\n",
        "calcule e imprima a idade atual."
      ],
      "metadata": {
        "id": "rYY01e1U5mWP"
      }
    },
    {
      "cell_type": "code",
      "source": [
        "ano_atual = 2024\n",
        "ano_nasc = int(input('Digite seu ano de nascimento: '))\n",
        "\n",
        "print(f'Como estamos em {ano_atual}, esse ano você tem ou terá {ano_atual-ano_nasc} anos.')"
      ],
      "metadata": {
        "colab": {
          "base_uri": "https://localhost:8080/"
        },
        "id": "orc7wea45nBv",
        "outputId": "d357427b-7ec1-4394-8230-6796ea632380"
      },
      "execution_count": null,
      "outputs": [
        {
          "output_type": "stream",
          "name": "stdout",
          "text": [
            "Digite seu ano de nascimento: 2003\n",
            "Como estamos em 2024, esse ano você tem ou terá 21 anos.\n"
          ]
        }
      ]
    },
    {
      "cell_type": "markdown",
      "source": [
        "3) Faça um Programa que peça a quantidade de quilômetros, transforme\n",
        "em metros, centímetros e milímetros."
      ],
      "metadata": {
        "id": "cuTo9t115nNU"
      }
    },
    {
      "cell_type": "code",
      "source": [
        "def converte_metrico(km):\n",
        "    m = km * 1000\n",
        "    print(f'Isso equivale a {m:.2f} metros.')\n",
        "    cm = m * 100\n",
        "    print(f'Isso equivale a {cm:.2f} centímetros.')\n",
        "    mm = m * 1000\n",
        "    print(f'Isso equivale a {mm:.2f} milímetros.')\n",
        "\n",
        "km = float(input('Digite a quantidade de quilômetros: '))\n",
        "\n",
        "converte_metrico(km)"
      ],
      "metadata": {
        "colab": {
          "base_uri": "https://localhost:8080/"
        },
        "id": "PyMSHqop5pOH",
        "outputId": "42e40e92-947d-48e7-b432-9967bcd2d477"
      },
      "execution_count": null,
      "outputs": [
        {
          "output_type": "stream",
          "name": "stdout",
          "text": [
            "Digite a quantidade de quilômetros: 0.07\n",
            "Isso equivale a 70.00 metros.\n",
            "Isso equivale a 7000.00 centímetros.\n",
            "Isso equivale a 70000.00 milímetros.\n"
          ]
        }
      ]
    },
    {
      "cell_type": "markdown",
      "source": [
        "4) Receba do usuário a quantidade de litros de combustível consumidos e\n",
        "a distância percorrida. Calcule e imprima o consumo médio em km/l."
      ],
      "metadata": {
        "id": "7CLyWgP_5rme"
      }
    },
    {
      "cell_type": "code",
      "source": [
        "distancia = float(input('Quantos kilômetros você percorreu? '))\n",
        "combustivel = float(input('Quantos litros de combustível você gastou? '))\n",
        "\n",
        "print(f'Seu consumo médio foi de {(distancia/combustivel):.2f} km/L.')"
      ],
      "metadata": {
        "colab": {
          "base_uri": "https://localhost:8080/"
        },
        "id": "2XARyYSM5sCQ",
        "outputId": "8a907900-8ffc-4c33-a78b-0c3d08b2d7c0"
      },
      "execution_count": null,
      "outputs": [
        {
          "output_type": "stream",
          "name": "stdout",
          "text": [
            "Quantos kilômetros você percorreu? 2304\n",
            "Quantos litros de combustível você gastou? 56\n",
            "Seu consumo médio foi de 41.14 km/L.\n"
          ]
        }
      ]
    },
    {
      "cell_type": "markdown",
      "source": [
        "5) Escreva um programa que calcule o tempo de uma viagem. Faça um\n",
        "comparativo do mesmo percurso de avião, carro e ônibus.\n",
        "Levando em consideração:\n",
        "* avião = 600 km/h\n",
        "* carro = 100 km/h\n",
        "* ônibus = 80 km/h"
      ],
      "metadata": {
        "id": "wI7ANiNg5sTS"
      }
    },
    {
      "cell_type": "code",
      "source": [
        "# Em 1 h, km percorridos\n",
        "aviao = 600\n",
        "carro = 100\n",
        "onibus = 80\n",
        "\n",
        "distancia = float(input('Qual é a distância (km) do seu trajeto? '))\n",
        "\n",
        "print(f'Usando avião, demoraria {(distancia / aviao):.1f} hora(s).')\n",
        "print(f'Usando carro, demoraria {(distancia / carro):.1f} hora(s).')\n",
        "print(f'Usando ônibus, demoraria {(distancia / onibus):.1f} hora(s).')"
      ],
      "metadata": {
        "colab": {
          "base_uri": "https://localhost:8080/"
        },
        "id": "xr9bnQud5udn",
        "outputId": "f908ac7d-3ad6-4346-cb37-94e9450316d3"
      },
      "execution_count": null,
      "outputs": [
        {
          "output_type": "stream",
          "name": "stdout",
          "text": [
            "Qual é a distância (km) do seu trajeto? 379.87\n",
            "Usando avião, demoraria 0.6 hora(s).\n",
            "Usando carro, demoraria 3.8 hora(s).\n",
            "Usando ônibus, demoraria 4.7 hora(s).\n"
          ]
        }
      ]
    },
    {
      "cell_type": "markdown",
      "source": [
        "6) Solicite ao usuário o peso em kg e a altura em metros. Calcule e\n",
        "imprima o Índice de Massa Corporal (IMC) usando a fórmula:\n",
        "IMC = peso / (altura x altura).\n"
      ],
      "metadata": {
        "id": "LcW8BI1I5ul7"
      }
    },
    {
      "cell_type": "code",
      "source": [
        "altura = float(input('Informe sua altura (m): '))\n",
        "peso = float(input('Informe sua massa (kg): '))\n",
        "\n",
        "IMC = peso / altura ** 2\n",
        "\n",
        "print(f'Seu IMC é {IMC:.2f}.')"
      ],
      "metadata": {
        "colab": {
          "base_uri": "https://localhost:8080/"
        },
        "id": "YdefL0bV5wzN",
        "outputId": "9e7c90e5-d2ba-4942-a77d-96856f6cb244"
      },
      "execution_count": null,
      "outputs": [
        {
          "output_type": "stream",
          "name": "stdout",
          "text": [
            "Informe sua altura (m): 1.98\n",
            "Informe sua massa (kg): 67\n",
            "Seu IMC é 17.09.\n"
          ]
        }
      ]
    },
    {
      "cell_type": "markdown",
      "source": [
        "7) Faça um Programa que pergunte quanto você ganha por hora e o\n",
        "número de horas trabalhadas no mês. Calcule e mostre o total do seu\n",
        "salário no referido mês."
      ],
      "metadata": {
        "id": "5_lUf9jD5yTQ"
      }
    },
    {
      "cell_type": "code",
      "source": [
        "salario_hora = float(input('Quantos reais você ganha por hora? '))\n",
        "horas = float(input('Quantas horas você trabalha em um mês? '))\n",
        "\n",
        "print(f'Seu salário é R${(salario_hora * horas):.2f}.')"
      ],
      "metadata": {
        "colab": {
          "base_uri": "https://localhost:8080/"
        },
        "id": "wCx0VDfv53H3",
        "outputId": "122b6a27-d490-46d5-8b2e-2cbbe1e5bd65"
      },
      "execution_count": null,
      "outputs": [
        {
          "output_type": "stream",
          "name": "stdout",
          "text": [
            "Quantos reais você ganha por hora? 12\n",
            "Quantas horas você trabalha em um mês? 120\n",
            "Seu salário é R$1440.00.\n"
          ]
        }
      ]
    },
    {
      "cell_type": "markdown",
      "source": [
        "8) Solicite ao usuário o número de horas de exercício físico por semana.\n",
        "Calcule o total de calorias queimadas em um mês, considerando uma\n",
        "média de 5 calorias por minuto de exercício."
      ],
      "metadata": {
        "id": "08yuKIzl54ch"
      }
    },
    {
      "cell_type": "code",
      "source": [
        "media_cal_min = 5\n",
        "horas = float(input('Quantas horas você se exercita por semana? '))\n",
        "\n",
        "print(f'Você queima {((media_cal_min*60) * (horas*4)):.2f} cal por mês!')"
      ],
      "metadata": {
        "colab": {
          "base_uri": "https://localhost:8080/"
        },
        "id": "IcUaGD81544n",
        "outputId": "230b3750-dedb-468c-9445-2e148ed37feb"
      },
      "execution_count": null,
      "outputs": [
        {
          "output_type": "stream",
          "name": "stdout",
          "text": [
            "Quantas horas você se exercita por semana? 3.5\n",
            "Você queima 4200.00 cal por mês!\n"
          ]
        }
      ]
    },
    {
      "cell_type": "markdown",
      "source": [
        "9) Faça um Programa que utilize 4 variáveis como preferir e no final print\n",
        "uma mensagem amigável utilizando as variáveis criadas.\n",
        "Exemplos de variáveis: nome, idade, lugar, profissão ....\n",
        "Exemplo de retorno: Olá Maria, prazer te conhecer. Sou de São Paulo\n",
        "também e estou migrando de área.\n",
        "Lembrando que para o retorno vamos usar print com as variáveis\n",
        "criadas e este texto é somente um exemplo, utilizem a criatividade."
      ],
      "metadata": {
        "id": "-3IiD6hh56-D"
      }
    },
    {
      "cell_type": "code",
      "source": [
        "cor = input('Qual sua cor favorita? ')\n",
        "comida = input('Qual é sua comida preferida? ')\n",
        "presente = input('Qual é sua coisa favorita no mundo? ')\n",
        "lugar = input('Se você pudesse estar em qualquer país, onde seria? ')\n",
        "\n",
        "print(f'Você é muito legal! Se eu pudesse, te levaria para {lugar} e saíriamos para comer {comida}. Depois, te daria {presente} {cor} em uma linda caixinha.')"
      ],
      "metadata": {
        "colab": {
          "base_uri": "https://localhost:8080/"
        },
        "id": "FINxuWNaHgV3",
        "outputId": "9b25d913-53f2-4562-8798-5522a08900fc"
      },
      "execution_count": null,
      "outputs": [
        {
          "output_type": "stream",
          "name": "stdout",
          "text": [
            "Qual sua cor favorita? roxo\n",
            "Qual é sua comida preferida? bolo de morango\n",
            "Qual é sua coisa favorita no mundo? amor\n",
            "Se você pudesse estar em qualquer país, onde seria? Dinamarca\n",
            "Você é muito legal! Se eu pudesse, te levaria para Dinamarca e saíriamos para comer bolo de morango. Depois, te daria amor roxo em uma linda caixinha.\n"
          ]
        }
      ]
    },
    {
      "cell_type": "markdown",
      "source": [
        "# Exercícios Tomada de Decisão e Estruturas de Repetição"
      ],
      "metadata": {
        "id": "S29r-v2gLoTX"
      }
    },
    {
      "cell_type": "markdown",
      "source": [
        "1) Faça um Programa que peça dois números e imprima o maior deles."
      ],
      "metadata": {
        "id": "l0k9bx0KWyPz"
      }
    },
    {
      "cell_type": "code",
      "source": [
        "num1 = float(input('Digite um número: '))\n",
        "num2 = float(input('Digite outro número: '))\n",
        "\n",
        "if num1 > num2:\n",
        "    print(f'O maior número é o primeiro,  {num1}.')\n",
        "if num1 == num2:\n",
        "    print('Os números são iguais!')\n",
        "else:\n",
        "    print(f'O maior número é o segundo, {num2}.')"
      ],
      "metadata": {
        "id": "cCuof-wXWxqd",
        "colab": {
          "base_uri": "https://localhost:8080/"
        },
        "outputId": "a2751199-000c-4fb2-b2d5-a65ee450e35d"
      },
      "execution_count": null,
      "outputs": [
        {
          "output_type": "stream",
          "name": "stdout",
          "text": [
            "Digite um número: 23.76\n",
            "Digite outro número: 56.89\n",
            "O maior número é o segundo, 56.89.\n"
          ]
        }
      ]
    },
    {
      "cell_type": "markdown",
      "source": [
        "2) Faça um Programa que pergunte em que turno você estuda. Peça para\n",
        "digitar M-matutino ou V-Vespertino ou N-Noturno. Imprima a mensagem \"Bom\n",
        "Dia!\", \"Boa Tarde!\" ou \"Boa Noite!\" ou \"Valor Inválido!\", conforme o caso."
      ],
      "metadata": {
        "id": "3aoY29khW2PU"
      }
    },
    {
      "cell_type": "code",
      "source": [
        "user_turno = input('Em que turno você estuda? (M, V ou N)')\n",
        "\n",
        "if user_turno == 'M':\n",
        "    print('Bom Dia!')\n",
        "elif user_turno == 'V':\n",
        "    print('Boa Tarde!')\n",
        "elif user_turno == 'N':\n",
        "    print('Boa Noite!')\n",
        "else:\n",
        "    print('Turno inválido.')"
      ],
      "metadata": {
        "id": "O47xVWoSW2jw",
        "colab": {
          "base_uri": "https://localhost:8080/",
          "height": 495
        },
        "collapsed": true,
        "outputId": "92306b7c-7801-4149-f48d-969cde95246c"
      },
      "execution_count": 2,
      "outputs": [
        {
          "output_type": "error",
          "ename": "KeyboardInterrupt",
          "evalue": "Interrupted by user",
          "traceback": [
            "\u001b[0;31m---------------------------------------------------------------------------\u001b[0m",
            "\u001b[0;31mKeyboardInterrupt\u001b[0m                         Traceback (most recent call last)",
            "\u001b[0;32m<ipython-input-2-fe8cf7d96e1c>\u001b[0m in \u001b[0;36m<cell line: 1>\u001b[0;34m()\u001b[0m\n\u001b[0;32m----> 1\u001b[0;31m \u001b[0muser_turno\u001b[0m \u001b[0;34m=\u001b[0m \u001b[0minput\u001b[0m\u001b[0;34m(\u001b[0m\u001b[0;34m'Em que turno você estuda? (M, V ou N)'\u001b[0m\u001b[0;34m)\u001b[0m\u001b[0;34m\u001b[0m\u001b[0;34m\u001b[0m\u001b[0m\n\u001b[0m\u001b[1;32m      2\u001b[0m \u001b[0;34m\u001b[0m\u001b[0m\n\u001b[1;32m      3\u001b[0m \u001b[0;32mif\u001b[0m \u001b[0muser_turno\u001b[0m \u001b[0;34m==\u001b[0m \u001b[0;34m'M'\u001b[0m\u001b[0;34m:\u001b[0m\u001b[0;34m\u001b[0m\u001b[0;34m\u001b[0m\u001b[0m\n\u001b[1;32m      4\u001b[0m     \u001b[0mprint\u001b[0m\u001b[0;34m(\u001b[0m\u001b[0;34m'Bom Dia!'\u001b[0m\u001b[0;34m)\u001b[0m\u001b[0;34m\u001b[0m\u001b[0;34m\u001b[0m\u001b[0m\n\u001b[1;32m      5\u001b[0m \u001b[0;32melif\u001b[0m \u001b[0muser_turno\u001b[0m \u001b[0;34m==\u001b[0m \u001b[0;34m'V'\u001b[0m\u001b[0;34m:\u001b[0m\u001b[0;34m\u001b[0m\u001b[0;34m\u001b[0m\u001b[0m\n",
            "\u001b[0;32m/usr/local/lib/python3.10/dist-packages/ipykernel/kernelbase.py\u001b[0m in \u001b[0;36mraw_input\u001b[0;34m(self, prompt)\u001b[0m\n\u001b[1;32m    849\u001b[0m                 \u001b[0;34m\"raw_input was called, but this frontend does not support input requests.\"\u001b[0m\u001b[0;34m\u001b[0m\u001b[0;34m\u001b[0m\u001b[0m\n\u001b[1;32m    850\u001b[0m             )\n\u001b[0;32m--> 851\u001b[0;31m         return self._input_request(str(prompt),\n\u001b[0m\u001b[1;32m    852\u001b[0m             \u001b[0mself\u001b[0m\u001b[0;34m.\u001b[0m\u001b[0m_parent_ident\u001b[0m\u001b[0;34m,\u001b[0m\u001b[0;34m\u001b[0m\u001b[0;34m\u001b[0m\u001b[0m\n\u001b[1;32m    853\u001b[0m             \u001b[0mself\u001b[0m\u001b[0;34m.\u001b[0m\u001b[0m_parent_header\u001b[0m\u001b[0;34m,\u001b[0m\u001b[0;34m\u001b[0m\u001b[0;34m\u001b[0m\u001b[0m\n",
            "\u001b[0;32m/usr/local/lib/python3.10/dist-packages/ipykernel/kernelbase.py\u001b[0m in \u001b[0;36m_input_request\u001b[0;34m(self, prompt, ident, parent, password)\u001b[0m\n\u001b[1;32m    893\u001b[0m             \u001b[0;32mexcept\u001b[0m \u001b[0mKeyboardInterrupt\u001b[0m\u001b[0;34m:\u001b[0m\u001b[0;34m\u001b[0m\u001b[0;34m\u001b[0m\u001b[0m\n\u001b[1;32m    894\u001b[0m                 \u001b[0;31m# re-raise KeyboardInterrupt, to truncate traceback\u001b[0m\u001b[0;34m\u001b[0m\u001b[0;34m\u001b[0m\u001b[0m\n\u001b[0;32m--> 895\u001b[0;31m                 \u001b[0;32mraise\u001b[0m \u001b[0mKeyboardInterrupt\u001b[0m\u001b[0;34m(\u001b[0m\u001b[0;34m\"Interrupted by user\"\u001b[0m\u001b[0;34m)\u001b[0m \u001b[0;32mfrom\u001b[0m \u001b[0;32mNone\u001b[0m\u001b[0;34m\u001b[0m\u001b[0;34m\u001b[0m\u001b[0m\n\u001b[0m\u001b[1;32m    896\u001b[0m             \u001b[0;32mexcept\u001b[0m \u001b[0mException\u001b[0m \u001b[0;32mas\u001b[0m \u001b[0me\u001b[0m\u001b[0;34m:\u001b[0m\u001b[0;34m\u001b[0m\u001b[0;34m\u001b[0m\u001b[0m\n\u001b[1;32m    897\u001b[0m                 \u001b[0mself\u001b[0m\u001b[0;34m.\u001b[0m\u001b[0mlog\u001b[0m\u001b[0;34m.\u001b[0m\u001b[0mwarning\u001b[0m\u001b[0;34m(\u001b[0m\u001b[0;34m\"Invalid Message:\"\u001b[0m\u001b[0;34m,\u001b[0m \u001b[0mexc_info\u001b[0m\u001b[0;34m=\u001b[0m\u001b[0;32mTrue\u001b[0m\u001b[0;34m)\u001b[0m\u001b[0;34m\u001b[0m\u001b[0;34m\u001b[0m\u001b[0m\n",
            "\u001b[0;31mKeyboardInterrupt\u001b[0m: Interrupted by user"
          ]
        }
      ]
    },
    {
      "cell_type": "markdown",
      "source": [
        "3) Faça um programa que peça uma nota, entre zero e dez. Mostre uma\n",
        "mensagem caso o valor seja inválido e continue pedindo até que o usuário\n",
        "informe um valor válido."
      ],
      "metadata": {
        "id": "tvPIyL19W21L"
      }
    },
    {
      "cell_type": "code",
      "source": [],
      "metadata": {
        "id": "CFMVth2MW_LO"
      },
      "execution_count": null,
      "outputs": []
    },
    {
      "cell_type": "markdown",
      "source": [
        "4) Implemente um programa que classifique um aluno com base em sua\n",
        "pontuação em um exame. O programa deverá solicitar uma nota de 0 a 10. Se\n",
        "a pontuação for maior ou igual a 7, o aluno é aprovado; caso contrário, é\n",
        "reprovado."
      ],
      "metadata": {
        "id": "eaZGWAT4W_bH"
      }
    },
    {
      "cell_type": "code",
      "source": [],
      "metadata": {
        "id": "S7BbIGemXEPp"
      },
      "execution_count": null,
      "outputs": []
    },
    {
      "cell_type": "markdown",
      "source": [
        "5) Desenvolva um programa que solicite ao usuário os comprimentos dos três\n",
        "lados de um triângulo e classifique-o como equilátero, isósceles ou escaleno.\n",
        "equilátero: todos os lados com o mesmo valor\n",
        "isósceles: dois lados com o mesmo valor\n",
        "escaleno: todos os lados com medidas distintas."
      ],
      "metadata": {
        "id": "uetb55REXEY1"
      }
    },
    {
      "cell_type": "code",
      "source": [],
      "metadata": {
        "id": "zn7vScRhXEyN"
      },
      "execution_count": null,
      "outputs": []
    },
    {
      "cell_type": "markdown",
      "source": [
        "6) Crie um programa que solicite ao usuário um login e uma senha. O\n",
        "programa deve permitir o acesso apenas se o usuário for \"admin\" e a senha\n",
        "for \"admin123\", caso contrário imprima uma mensagem de erro."
      ],
      "metadata": {
        "id": "AK3a6DkwXK9o"
      }
    },
    {
      "cell_type": "code",
      "source": [],
      "metadata": {
        "id": "oMM2-iElXRwY"
      },
      "execution_count": null,
      "outputs": []
    },
    {
      "cell_type": "markdown",
      "source": [
        "7) Desenvolver um programa que solicite a idade do usuário e identifique se\n",
        "ele é uma criança, um adolescente, adulto ou idoso."
      ],
      "metadata": {
        "id": "r99xlX7LXFAo"
      }
    },
    {
      "cell_type": "code",
      "source": [],
      "metadata": {
        "id": "nY3CuWwbXKZ8"
      },
      "execution_count": null,
      "outputs": []
    },
    {
      "cell_type": "markdown",
      "source": [
        "8) Criar um programa em Python que solicite três números ao usuário, utilize\n",
        "estruturas condicionais para determinar o maior entre eles e apresente o\n",
        "resultado."
      ],
      "metadata": {
        "id": "Nlh_VpKKXSS2"
      }
    },
    {
      "cell_type": "code",
      "source": [],
      "metadata": {
        "id": "_49LzeHbXUOY"
      },
      "execution_count": null,
      "outputs": []
    },
    {
      "cell_type": "markdown",
      "source": [
        "9) O programa deve calcular e apresentar a quantidade de números pares e\n",
        "ímpares inseridos) O processo de leitura deve ser encerrado quando o usuário\n",
        "informar o valor zero. Certifique-se de incluir validações para garantir que\n",
        "apenas números positivos sejam considerados na contagem e cálculos."
      ],
      "metadata": {
        "id": "tEEredCLXUWC"
      }
    },
    {
      "cell_type": "code",
      "source": [],
      "metadata": {
        "id": "nJbx1nKAXYq5"
      },
      "execution_count": null,
      "outputs": []
    },
    {
      "cell_type": "markdown",
      "source": [
        "10) Faça um programa que lê três números inteiros e os mostra em ordem\n",
        "crescente."
      ],
      "metadata": {
        "id": "39mXlWPeXYz3"
      }
    },
    {
      "cell_type": "code",
      "source": [],
      "metadata": {
        "id": "UjMdE5NtXdKw"
      },
      "execution_count": null,
      "outputs": []
    },
    {
      "cell_type": "markdown",
      "source": [
        "11) Escreva um programa que calcule o salário líquido. Lembrando de\n",
        "declarar o salário bruto e o percentual de desconto do Imposto de Renda.\n",
        "\n",
        "```\n",
        "* Renda até R$ 1.903,98: isento de imposto de renda;\n",
        "\n",
        "* Renda entre R$ 1.903,99 e R$ 2.826,65: alíquota de 7,5%;\n",
        "\n",
        "* Renda entre R$ 2.826,66 e R$ 3.751,05: alíquota de 15%;\n",
        "\n",
        "* Renda entre R$ 3.751,06 e R$ 4.664,68: alíquota de 22,5%;\n",
        "\n",
        "* Renda acima de R$ 4.664,68: alíquota máxima de 27,5%.\n",
        "```"
      ],
      "metadata": {
        "id": "Xkpz0QJoXdRQ"
      }
    },
    {
      "cell_type": "code",
      "source": [],
      "metadata": {
        "id": "Wwy1O8OlXnc-"
      },
      "execution_count": null,
      "outputs": []
    },
    {
      "cell_type": "markdown",
      "source": [
        "# Exercícios Tuplas, Listas e Dicionários"
      ],
      "metadata": {
        "id": "1UtGflSf1N-p"
      }
    },
    {
      "cell_type": "markdown",
      "source": [
        "1) Utilizando listas faça um programa que faça 5 perguntas para uma\n",
        "pessoa sobre um crime.\n",
        "As perguntas são:\n",
        "\"\"Telefonou para a vítima?\"\"\n",
        "\"\"Esteve no local do crime?\"\"\n",
        "\"\"Mora perto da vítima?\"\"\n",
        "\"\"Devia para a vítima?\"\"\n",
        "\"\"Já trabalhou com a vítima?\"\"\n",
        "O programa deve no final emitir uma classificação sobre a participação\n",
        "da pessoa no crime.\n",
        "Se a pessoa responder positivamente a 2 questões ela deve ser\n",
        "classificada como \"\"Suspeita\"\", entre 3 e 4 como \"\"Cúmplice\"\" e 5 como\n",
        "\"\"Assassino\"\".\n",
        "Caso contrário,ele será classificado como\"\"Inocente\"\"."
      ],
      "metadata": {
        "id": "Ro16WtSL1TQx"
      }
    },
    {
      "cell_type": "code",
      "source": [
        "perguntas = [\n",
        "        \"Telefonou para a vítima?\",\n",
        "        \"Esteve no local do crime?\",\n",
        "        \"Mora perto da vítima?\",\n",
        "        \"Devia para a vítima?\",\n",
        "        \"Já trabalhou com a vítima?\"]\n",
        "\n",
        "respostas = []\n",
        "\n",
        "# Realiza perguntas\n",
        "for pergunta in perguntas:\n",
        "    resposta = input(pergunta + ' ').strip().lower()\n",
        "    while resposta not in ['sim', 'não']:\n",
        "        print('Resposta inválida. Por favor, responda com sim ou não.')\n",
        "        resposta = input(pergunta + ' ').strip().lower()\n",
        "        respostas.append(resposta)\n",
        "\n",
        "# Classifica usuário\n",
        "respostas_positivas = respostas.count('sim')\n",
        "\n",
        "if respostas_positivas == 2:\n",
        "    print('Suspeita')\n",
        "elif 3 <= respostas_positivas <= 4:\n",
        "    print('Cúmplice')\n",
        "elif respostas_positivas == 5:\n",
        "    print('Assassino')\n",
        "else:\n",
        "    print('Inocente')"
      ],
      "metadata": {
        "colab": {
          "base_uri": "https://localhost:8080/",
          "height": 512
        },
        "collapsed": true,
        "id": "ExHNasTy1NIi",
        "outputId": "1f43946a-ea24-47af-ea44-ab8c0a06140f"
      },
      "execution_count": 5,
      "outputs": [
        {
          "output_type": "error",
          "ename": "KeyboardInterrupt",
          "evalue": "Interrupted by user",
          "traceback": [
            "\u001b[0;31m---------------------------------------------------------------------------\u001b[0m",
            "\u001b[0;31mKeyboardInterrupt\u001b[0m                         Traceback (most recent call last)",
            "\u001b[0;32m<ipython-input-5-88b64173fd15>\u001b[0m in \u001b[0;36m<cell line: 11>\u001b[0;34m()\u001b[0m\n\u001b[1;32m     10\u001b[0m \u001b[0;31m# Realiza perguntas\u001b[0m\u001b[0;34m\u001b[0m\u001b[0;34m\u001b[0m\u001b[0m\n\u001b[1;32m     11\u001b[0m \u001b[0;32mfor\u001b[0m \u001b[0mpergunta\u001b[0m \u001b[0;32min\u001b[0m \u001b[0mperguntas\u001b[0m\u001b[0;34m:\u001b[0m\u001b[0;34m\u001b[0m\u001b[0;34m\u001b[0m\u001b[0m\n\u001b[0;32m---> 12\u001b[0;31m     \u001b[0mresposta\u001b[0m \u001b[0;34m=\u001b[0m \u001b[0minput\u001b[0m\u001b[0;34m(\u001b[0m\u001b[0mpergunta\u001b[0m \u001b[0;34m+\u001b[0m \u001b[0;34m' '\u001b[0m\u001b[0;34m)\u001b[0m\u001b[0;34m.\u001b[0m\u001b[0mstrip\u001b[0m\u001b[0;34m(\u001b[0m\u001b[0;34m)\u001b[0m\u001b[0;34m.\u001b[0m\u001b[0mlower\u001b[0m\u001b[0;34m(\u001b[0m\u001b[0;34m)\u001b[0m\u001b[0;34m\u001b[0m\u001b[0;34m\u001b[0m\u001b[0m\n\u001b[0m\u001b[1;32m     13\u001b[0m     \u001b[0;32mwhile\u001b[0m \u001b[0mresposta\u001b[0m \u001b[0;32mnot\u001b[0m \u001b[0;32min\u001b[0m \u001b[0;34m[\u001b[0m\u001b[0;34m'sim'\u001b[0m\u001b[0;34m,\u001b[0m \u001b[0;34m'não'\u001b[0m\u001b[0;34m]\u001b[0m\u001b[0;34m:\u001b[0m\u001b[0;34m\u001b[0m\u001b[0;34m\u001b[0m\u001b[0m\n\u001b[1;32m     14\u001b[0m         \u001b[0mprint\u001b[0m\u001b[0;34m(\u001b[0m\u001b[0;34m'Resposta inválida. Por favor, responda com sim ou não.'\u001b[0m\u001b[0;34m)\u001b[0m\u001b[0;34m\u001b[0m\u001b[0;34m\u001b[0m\u001b[0m\n",
            "\u001b[0;32m/usr/local/lib/python3.10/dist-packages/ipykernel/kernelbase.py\u001b[0m in \u001b[0;36mraw_input\u001b[0;34m(self, prompt)\u001b[0m\n\u001b[1;32m    849\u001b[0m                 \u001b[0;34m\"raw_input was called, but this frontend does not support input requests.\"\u001b[0m\u001b[0;34m\u001b[0m\u001b[0;34m\u001b[0m\u001b[0m\n\u001b[1;32m    850\u001b[0m             )\n\u001b[0;32m--> 851\u001b[0;31m         return self._input_request(str(prompt),\n\u001b[0m\u001b[1;32m    852\u001b[0m             \u001b[0mself\u001b[0m\u001b[0;34m.\u001b[0m\u001b[0m_parent_ident\u001b[0m\u001b[0;34m,\u001b[0m\u001b[0;34m\u001b[0m\u001b[0;34m\u001b[0m\u001b[0m\n\u001b[1;32m    853\u001b[0m             \u001b[0mself\u001b[0m\u001b[0;34m.\u001b[0m\u001b[0m_parent_header\u001b[0m\u001b[0;34m,\u001b[0m\u001b[0;34m\u001b[0m\u001b[0;34m\u001b[0m\u001b[0m\n",
            "\u001b[0;32m/usr/local/lib/python3.10/dist-packages/ipykernel/kernelbase.py\u001b[0m in \u001b[0;36m_input_request\u001b[0;34m(self, prompt, ident, parent, password)\u001b[0m\n\u001b[1;32m    893\u001b[0m             \u001b[0;32mexcept\u001b[0m \u001b[0mKeyboardInterrupt\u001b[0m\u001b[0;34m:\u001b[0m\u001b[0;34m\u001b[0m\u001b[0;34m\u001b[0m\u001b[0m\n\u001b[1;32m    894\u001b[0m                 \u001b[0;31m# re-raise KeyboardInterrupt, to truncate traceback\u001b[0m\u001b[0;34m\u001b[0m\u001b[0;34m\u001b[0m\u001b[0m\n\u001b[0;32m--> 895\u001b[0;31m                 \u001b[0;32mraise\u001b[0m \u001b[0mKeyboardInterrupt\u001b[0m\u001b[0;34m(\u001b[0m\u001b[0;34m\"Interrupted by user\"\u001b[0m\u001b[0;34m)\u001b[0m \u001b[0;32mfrom\u001b[0m \u001b[0;32mNone\u001b[0m\u001b[0;34m\u001b[0m\u001b[0;34m\u001b[0m\u001b[0m\n\u001b[0m\u001b[1;32m    896\u001b[0m             \u001b[0;32mexcept\u001b[0m \u001b[0mException\u001b[0m \u001b[0;32mas\u001b[0m \u001b[0me\u001b[0m\u001b[0;34m:\u001b[0m\u001b[0;34m\u001b[0m\u001b[0;34m\u001b[0m\u001b[0m\n\u001b[1;32m    897\u001b[0m                 \u001b[0mself\u001b[0m\u001b[0;34m.\u001b[0m\u001b[0mlog\u001b[0m\u001b[0;34m.\u001b[0m\u001b[0mwarning\u001b[0m\u001b[0;34m(\u001b[0m\u001b[0;34m\"Invalid Message:\"\u001b[0m\u001b[0;34m,\u001b[0m \u001b[0mexc_info\u001b[0m\u001b[0;34m=\u001b[0m\u001b[0;32mTrue\u001b[0m\u001b[0;34m)\u001b[0m\u001b[0;34m\u001b[0m\u001b[0;34m\u001b[0m\u001b[0m\n",
            "\u001b[0;31mKeyboardInterrupt\u001b[0m: Interrupted by user"
          ]
        }
      ]
    },
    {
      "cell_type": "markdown",
      "source": [
        "2) Faça um Programa que peça as quatro notas de 5 alunos, calcule\n",
        "e armazene numa lista a média de cada aluno, imprima o número\n",
        "de alunos com média maior ou igual a 7.0."
      ],
      "metadata": {
        "id": "IR-kRqLw1c6N"
      }
    },
    {
      "cell_type": "code",
      "source": [],
      "metadata": {
        "id": "NSCdpNbO1gck"
      },
      "execution_count": null,
      "outputs": []
    },
    {
      "cell_type": "markdown",
      "source": [
        "3) Crie um dicionário representando um carrinho de compras.\n",
        "Adicione produtos (chaves) e quantidades (valores) ao carrinho.\n",
        "Calcule o total do carrinho de compra."
      ],
      "metadata": {
        "id": "jGrWRgXE1g2W"
      }
    },
    {
      "cell_type": "code",
      "source": [],
      "metadata": {
        "id": "HWsr6Jid1j53"
      },
      "execution_count": null,
      "outputs": []
    },
    {
      "cell_type": "markdown",
      "source": [
        "4) Crie um dicionário representando contatos (nome, telefone).\n",
        "Permita ao usuário procurar por um contato pelo nome."
      ],
      "metadata": {
        "id": "hCCHf6lJ1kWn"
      }
    },
    {
      "cell_type": "code",
      "source": [],
      "metadata": {
        "id": "_VczVeyf1m6_"
      },
      "execution_count": null,
      "outputs": []
    },
    {
      "cell_type": "markdown",
      "source": [],
      "metadata": {
        "id": "sPJPc4pYCg01"
      }
    },
    {
      "cell_type": "markdown",
      "source": [
        "5) Crie duas tuplas. Concatene-as para formar uma nova tupla."
      ],
      "metadata": {
        "id": "Xh1X0F4s1nRz"
      }
    },
    {
      "cell_type": "code",
      "source": [
        "frutas_vermelhas = ('Maçã', 'Morango')\n",
        "frutas_amarelas = ('Laranja', 'Limão')\n",
        "\n",
        "salada_mista = frutas_vermelhas + frutas_amarelas\n",
        "print(salada_mista)"
      ],
      "metadata": {
        "colab": {
          "base_uri": "https://localhost:8080/"
        },
        "id": "O-lCuUgb1qbF",
        "outputId": "db531b46-a47b-475f-de74-0c2d6d9bc192"
      },
      "execution_count": 12,
      "outputs": [
        {
          "output_type": "stream",
          "name": "stdout",
          "text": [
            "('Maçã', 'Morango', 'Laranja', 'Limão')\n"
          ]
        }
      ]
    },
    {
      "cell_type": "markdown",
      "source": [
        "6) Faça um programa que permita ao usuário digitar o seu nome e\n",
        "em seguida mostre o nome do usuário de trás para frente\n",
        "utilizando somente letras maiúsculas. Dica: lembre−se que ao\n",
        "informar o nome o usuário pode digitar letras maiúsculas ou\n",
        "minúsculas."
      ],
      "metadata": {
        "id": "vAjPzfX01q0j"
      }
    },
    {
      "cell_type": "code",
      "source": [],
      "metadata": {
        "id": "U_C0uoMR1tPa"
      },
      "execution_count": null,
      "outputs": []
    },
    {
      "cell_type": "markdown",
      "source": [
        "# Exercícios Funções e Extras"
      ],
      "metadata": {
        "id": "pEcByYTDCkf7"
      }
    },
    {
      "cell_type": "markdown",
      "source": [
        "1) Faça um programa, com uma função que necessite de três\n",
        "argumentos, e que forneça a soma desses três argumentos."
      ],
      "metadata": {
        "id": "Jtme6jZCCvb3"
      }
    },
    {
      "cell_type": "code",
      "source": [
        "def soma_tres(num1, num2, num3):\n",
        "    soma = num1 + num2 + num3\n",
        "    return soma\n",
        "\n",
        "burj_khalifa = 828\n",
        "tokyo_skytree = 634\n",
        "guangzhou_tower = 610\n",
        "\n",
        "altura_total = soma_tres(burj_khalifa,  tokyo_skytree, guangzhou_tower)\n",
        "print(f'A soma da altura do Burj Khalifa, Tokyo Skytree e Guangzhou Tower é {altura_total} m!')"
      ],
      "metadata": {
        "colab": {
          "base_uri": "https://localhost:8080/"
        },
        "id": "xpmpZIJqCspo",
        "outputId": "1d2078a4-bb1d-4a0f-e495-e9af6e3e4c29"
      },
      "execution_count": 14,
      "outputs": [
        {
          "output_type": "stream",
          "name": "stdout",
          "text": [
            "A soma da altura do Burj Khalifa, Tokyo Skytree e Guangzhou Tower é 2072 m!\n"
          ]
        }
      ]
    },
    {
      "cell_type": "markdown",
      "source": [
        "2) Reverso do número. Faça uma função que retorne o reverso de um\n",
        "número inteiro informado. Por exemplo: 127 -> 721."
      ],
      "metadata": {
        "id": "PqOpy1_hC0Wq"
      }
    },
    {
      "cell_type": "code",
      "source": [
        "def reverso_texto(texto):\n",
        "    reverso = texto[::-1]\n",
        "    return reverso\n",
        "\n",
        "num = str(input('Digite um número: '))\n",
        "reverso_texto(num)"
      ],
      "metadata": {
        "colab": {
          "base_uri": "https://localhost:8080/",
          "height": 460
        },
        "collapsed": true,
        "id": "bSpabaAuEpVt",
        "outputId": "9239890e-c923-4829-bf88-ab1020d339db"
      },
      "execution_count": 18,
      "outputs": [
        {
          "output_type": "error",
          "ename": "KeyboardInterrupt",
          "evalue": "Interrupted by user",
          "traceback": [
            "\u001b[0;31m---------------------------------------------------------------------------\u001b[0m",
            "\u001b[0;31mKeyboardInterrupt\u001b[0m                         Traceback (most recent call last)",
            "\u001b[0;32m<ipython-input-18-5e3d31fc0142>\u001b[0m in \u001b[0;36m<cell line: 5>\u001b[0;34m()\u001b[0m\n\u001b[1;32m      3\u001b[0m     \u001b[0;32mreturn\u001b[0m \u001b[0mreverso\u001b[0m\u001b[0;34m\u001b[0m\u001b[0;34m\u001b[0m\u001b[0m\n\u001b[1;32m      4\u001b[0m \u001b[0;34m\u001b[0m\u001b[0m\n\u001b[0;32m----> 5\u001b[0;31m \u001b[0mnum\u001b[0m \u001b[0;34m=\u001b[0m \u001b[0mstr\u001b[0m\u001b[0;34m(\u001b[0m\u001b[0minput\u001b[0m\u001b[0;34m(\u001b[0m\u001b[0;34m'Digite um número: '\u001b[0m\u001b[0;34m)\u001b[0m\u001b[0;34m)\u001b[0m\u001b[0;34m\u001b[0m\u001b[0;34m\u001b[0m\u001b[0m\n\u001b[0m\u001b[1;32m      6\u001b[0m \u001b[0mreverso_texto\u001b[0m\u001b[0;34m(\u001b[0m\u001b[0mnum\u001b[0m\u001b[0;34m)\u001b[0m\u001b[0;34m\u001b[0m\u001b[0;34m\u001b[0m\u001b[0m\n",
            "\u001b[0;32m/usr/local/lib/python3.10/dist-packages/ipykernel/kernelbase.py\u001b[0m in \u001b[0;36mraw_input\u001b[0;34m(self, prompt)\u001b[0m\n\u001b[1;32m    849\u001b[0m                 \u001b[0;34m\"raw_input was called, but this frontend does not support input requests.\"\u001b[0m\u001b[0;34m\u001b[0m\u001b[0;34m\u001b[0m\u001b[0m\n\u001b[1;32m    850\u001b[0m             )\n\u001b[0;32m--> 851\u001b[0;31m         return self._input_request(str(prompt),\n\u001b[0m\u001b[1;32m    852\u001b[0m             \u001b[0mself\u001b[0m\u001b[0;34m.\u001b[0m\u001b[0m_parent_ident\u001b[0m\u001b[0;34m,\u001b[0m\u001b[0;34m\u001b[0m\u001b[0;34m\u001b[0m\u001b[0m\n\u001b[1;32m    853\u001b[0m             \u001b[0mself\u001b[0m\u001b[0;34m.\u001b[0m\u001b[0m_parent_header\u001b[0m\u001b[0;34m,\u001b[0m\u001b[0;34m\u001b[0m\u001b[0;34m\u001b[0m\u001b[0m\n",
            "\u001b[0;32m/usr/local/lib/python3.10/dist-packages/ipykernel/kernelbase.py\u001b[0m in \u001b[0;36m_input_request\u001b[0;34m(self, prompt, ident, parent, password)\u001b[0m\n\u001b[1;32m    893\u001b[0m             \u001b[0;32mexcept\u001b[0m \u001b[0mKeyboardInterrupt\u001b[0m\u001b[0;34m:\u001b[0m\u001b[0;34m\u001b[0m\u001b[0;34m\u001b[0m\u001b[0m\n\u001b[1;32m    894\u001b[0m                 \u001b[0;31m# re-raise KeyboardInterrupt, to truncate traceback\u001b[0m\u001b[0;34m\u001b[0m\u001b[0;34m\u001b[0m\u001b[0m\n\u001b[0;32m--> 895\u001b[0;31m                 \u001b[0;32mraise\u001b[0m \u001b[0mKeyboardInterrupt\u001b[0m\u001b[0;34m(\u001b[0m\u001b[0;34m\"Interrupted by user\"\u001b[0m\u001b[0;34m)\u001b[0m \u001b[0;32mfrom\u001b[0m \u001b[0;32mNone\u001b[0m\u001b[0;34m\u001b[0m\u001b[0;34m\u001b[0m\u001b[0m\n\u001b[0m\u001b[1;32m    896\u001b[0m             \u001b[0;32mexcept\u001b[0m \u001b[0mException\u001b[0m \u001b[0;32mas\u001b[0m \u001b[0me\u001b[0m\u001b[0;34m:\u001b[0m\u001b[0;34m\u001b[0m\u001b[0;34m\u001b[0m\u001b[0m\n\u001b[1;32m    897\u001b[0m                 \u001b[0mself\u001b[0m\u001b[0;34m.\u001b[0m\u001b[0mlog\u001b[0m\u001b[0;34m.\u001b[0m\u001b[0mwarning\u001b[0m\u001b[0;34m(\u001b[0m\u001b[0;34m\"Invalid Message:\"\u001b[0m\u001b[0;34m,\u001b[0m \u001b[0mexc_info\u001b[0m\u001b[0;34m=\u001b[0m\u001b[0;32mTrue\u001b[0m\u001b[0;34m)\u001b[0m\u001b[0;34m\u001b[0m\u001b[0;34m\u001b[0m\u001b[0m\n",
            "\u001b[0;31mKeyboardInterrupt\u001b[0m: Interrupted by user"
          ]
        }
      ]
    },
    {
      "cell_type": "markdown",
      "source": [
        "3) Escreva um script que pergunta ao usuário se ele deseja converter\n",
        "uma temperatura de grau Celsius para Fahrenheit ou vice-versa. Para\n",
        "cada opção, crie uma função.\n",
        "\n",
        "Plus: Crie uma terceira, que é um menu para o usuário escolher a opção\n",
        "desejada, onde esse menu chama a função de conversão correta."
      ],
      "metadata": {
        "id": "yM6BEtwwF0AY"
      }
    },
    {
      "cell_type": "code",
      "source": [],
      "metadata": {
        "id": "bNG68XWrGFHw"
      },
      "execution_count": null,
      "outputs": []
    },
    {
      "cell_type": "markdown",
      "source": [
        "4) Crie um programa que leia quanto dinheiro uma pessoa tem na\n",
        "carteira, e calcule quanto poderia comprar de cada moeda estrangeira.\n",
        "Considere a tabela de conversão abaixo:\n",
        "\n",
        "```\n",
        "Dólar Americano: R$ 4,91\n",
        "Peso Argentino: R$ 0,02\n",
        "Dólar Australiano: R$ 3,18\n",
        "Dólar Canadense: R$ 3,64\n",
        "Franco Suiço: R$ 0,42\n",
        "Euro: R$ 5,36\n",
        "Libra esterlina: R$ 6,21\n",
        "```"
      ],
      "metadata": {
        "id": "LMxFh08VGFme"
      }
    },
    {
      "cell_type": "code",
      "source": [],
      "metadata": {
        "id": "6xYgb5_EGMrm"
      },
      "execution_count": null,
      "outputs": []
    },
    {
      "cell_type": "markdown",
      "source": [
        "5) Crie uma função chamada contar_vogais que recebe uma string\n",
        "como parâmetro. Implemente a lógica para contar o número de vogais\n",
        "na string e retorne o total de vogais. Solicite ao usuário para inserir uma\n",
        "frase e utilize a função para contar as vogais."
      ],
      "metadata": {
        "id": "Msl6h1hqGNIy"
      }
    },
    {
      "cell_type": "code",
      "source": [],
      "metadata": {
        "id": "Bp2-RArbGpej"
      },
      "execution_count": null,
      "outputs": []
    },
    {
      "cell_type": "markdown",
      "source": [
        "6) Vamos construir um jogo de forca. O programa escolherá\n",
        "aleatoriamente uma palavra secreta de uma lista predefinida. A palavra\n",
        "secreta será representada por espaços em branco, um para cada letra da palavra. O jogador terá um número limitado de 6 tentativas. Em cada\n",
        "tentativa, o jogador pode fornecer uma letra. Se a letra estiver presente\n",
        "na palavra secreta, ela será revelada nas posições correspondentes. Se\n",
        "a letra não estiver na palavra, uma mensagem de erro deverá ser\n",
        "informada. Após um número máximo de erros, o jogador perde. O jogo\n",
        "continua até que o jogador adivinhe a palavra ou exceda o número\n",
        "máximo de tentativas.\n",
        "Dica: Você precisará importar uma biblioteca para resolver esse\n",
        "exercício"
      ],
      "metadata": {
        "id": "zwfrg6OBGqAR"
      }
    },
    {
      "cell_type": "code",
      "source": [],
      "metadata": {
        "id": "eu2Txx13Gve2"
      },
      "execution_count": null,
      "outputs": []
    }
  ]
}