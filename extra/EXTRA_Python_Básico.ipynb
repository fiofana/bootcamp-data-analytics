{
  "nbformat": 4,
  "nbformat_minor": 0,
  "metadata": {
    "colab": {
      "provenance": [],
      "toc_visible": true,
      "authorship_tag": "ABX9TyMiMTYP9BAEpj5TJ8p1atYk",
      "include_colab_link": true
    },
    "kernelspec": {
      "name": "python3",
      "display_name": "Python 3"
    },
    "language_info": {
      "name": "python"
    }
  },
  "cells": [
    {
      "cell_type": "markdown",
      "metadata": {
        "id": "view-in-github",
        "colab_type": "text"
      },
      "source": [
        "<a href=\"https://colab.research.google.com/github/fiofana/bootcamp-data-analytics/blob/main/extra/EXTRA_Python_B%C3%A1sico.ipynb\" target=\"_parent\"><img src=\"https://colab.research.google.com/assets/colab-badge.svg\" alt=\"Open In Colab\"/></a>"
      ]
    },
    {
      "cell_type": "markdown",
      "source": [
        "# Exercícios Conceitos Básicos de Python"
      ],
      "metadata": {
        "id": "bhUNc2Z65ZuK"
      }
    },
    {
      "cell_type": "markdown",
      "source": [
        "1) Faça um Programa que peça dois números, realize as principais\n",
        "operações soma, subtração, multiplicação, divisão."
      ],
      "metadata": {
        "id": "67RXq8F85VaP"
      }
    },
    {
      "cell_type": "code",
      "execution_count": null,
      "metadata": {
        "colab": {
          "base_uri": "https://localhost:8080/"
        },
        "id": "4C8ASBfX4qx8",
        "outputId": "9f173f50-92d4-4ee9-d111-ea1e234f75fb"
      },
      "outputs": [
        {
          "output_type": "stream",
          "name": "stdout",
          "text": [
            "Digite o primeiro número: 56.8664\n",
            "Digite o segundo número: 523.3465\n",
            "A soma dos valores é 580.21.\n",
            "A subtração dos valores é -466.48.\n",
            "A multiplicação dos valores é 29760.83.\n",
            "A divisão dos valores é 0.11.\n"
          ]
        }
      ],
      "source": [
        "def calcula_valores(x, y):\n",
        "    soma = x + y\n",
        "    print(f'A soma dos valores é {soma:.2f}.')\n",
        "    subtracao = x - y\n",
        "    print(f'A subtração dos valores é {subtracao:.2f}.')\n",
        "    multiplicacao = x * y\n",
        "    print(f'A multiplicação dos valores é {multiplicacao:.2f}.')\n",
        "    divisao = x / y\n",
        "    print(f'A divisão dos valores é {divisao:.2f}.')\n",
        "\n",
        "num1 = float(input('Digite o primeiro número: '))\n",
        "num2 = float(input('Digite o segundo número: '))\n",
        "\n",
        "calcula_valores(num1, num2)"
      ]
    },
    {
      "cell_type": "markdown",
      "source": [
        "2) Peça ao usuário para informar o ano de nascimento. Em seguida,\n",
        "calcule e imprima a idade atual."
      ],
      "metadata": {
        "id": "rYY01e1U5mWP"
      }
    },
    {
      "cell_type": "code",
      "source": [
        "ano_atual = 2024\n",
        "ano_nasc = int(input('Digite seu ano de nascimento: '))\n",
        "\n",
        "print(f'Como estamos em {ano_atual}, esse ano você tem ou terá {ano_atual-ano_nasc} anos.')"
      ],
      "metadata": {
        "colab": {
          "base_uri": "https://localhost:8080/"
        },
        "id": "orc7wea45nBv",
        "outputId": "d357427b-7ec1-4394-8230-6796ea632380"
      },
      "execution_count": null,
      "outputs": [
        {
          "output_type": "stream",
          "name": "stdout",
          "text": [
            "Digite seu ano de nascimento: 2003\n",
            "Como estamos em 2024, esse ano você tem ou terá 21 anos.\n"
          ]
        }
      ]
    },
    {
      "cell_type": "markdown",
      "source": [
        "3) Faça um Programa que peça a quantidade de quilômetros, transforme\n",
        "em metros, centímetros e milímetros."
      ],
      "metadata": {
        "id": "cuTo9t115nNU"
      }
    },
    {
      "cell_type": "code",
      "source": [
        "def converte_metrico(km):\n",
        "    m = km * 1000\n",
        "    print(f'Isso equivale a {m:.2f} metros.')\n",
        "    cm = m * 100\n",
        "    print(f'Isso equivale a {cm:.2f} centímetros.')\n",
        "    mm = m * 1000\n",
        "    print(f'Isso equivale a {mm:.2f} milímetros.')\n",
        "\n",
        "km = float(input('Digite a quantidade de quilômetros: '))\n",
        "\n",
        "converte_metrico(km)"
      ],
      "metadata": {
        "colab": {
          "base_uri": "https://localhost:8080/"
        },
        "id": "PyMSHqop5pOH",
        "outputId": "42e40e92-947d-48e7-b432-9967bcd2d477"
      },
      "execution_count": null,
      "outputs": [
        {
          "output_type": "stream",
          "name": "stdout",
          "text": [
            "Digite a quantidade de quilômetros: 0.07\n",
            "Isso equivale a 70.00 metros.\n",
            "Isso equivale a 7000.00 centímetros.\n",
            "Isso equivale a 70000.00 milímetros.\n"
          ]
        }
      ]
    },
    {
      "cell_type": "markdown",
      "source": [
        "4) Receba do usuário a quantidade de litros de combustível consumidos e\n",
        "a distância percorrida. Calcule e imprima o consumo médio em km/l."
      ],
      "metadata": {
        "id": "7CLyWgP_5rme"
      }
    },
    {
      "cell_type": "code",
      "source": [
        "distancia = float(input('Quantos kilômetros você percorreu? '))\n",
        "combustivel = float(input('Quantos litros de combustível você gastou? '))\n",
        "\n",
        "print(f'Seu consumo médio foi de {(distancia/combustivel):.2f} km/L.')"
      ],
      "metadata": {
        "colab": {
          "base_uri": "https://localhost:8080/"
        },
        "id": "2XARyYSM5sCQ",
        "outputId": "8a907900-8ffc-4c33-a78b-0c3d08b2d7c0"
      },
      "execution_count": null,
      "outputs": [
        {
          "output_type": "stream",
          "name": "stdout",
          "text": [
            "Quantos kilômetros você percorreu? 2304\n",
            "Quantos litros de combustível você gastou? 56\n",
            "Seu consumo médio foi de 41.14 km/L.\n"
          ]
        }
      ]
    },
    {
      "cell_type": "markdown",
      "source": [
        "5) Escreva um programa que calcule o tempo de uma viagem. Faça um\n",
        "comparativo do mesmo percurso de avião, carro e ônibus.\n",
        "Levando em consideração:\n",
        "* avião = 600 km/h\n",
        "* carro = 100 km/h\n",
        "* ônibus = 80 km/h"
      ],
      "metadata": {
        "id": "wI7ANiNg5sTS"
      }
    },
    {
      "cell_type": "code",
      "source": [
        "# Em 1 h, km percorridos\n",
        "aviao = 600\n",
        "carro = 100\n",
        "onibus = 80\n",
        "\n",
        "distancia = float(input('Qual é a distância (km) do seu trajeto? '))\n",
        "\n",
        "print(f'Usando avião, demoraria {(distancia / aviao):.1f} hora(s).')\n",
        "print(f'Usando carro, demoraria {(distancia / carro):.1f} hora(s).')\n",
        "print(f'Usando ônibus, demoraria {(distancia / onibus):.1f} hora(s).')"
      ],
      "metadata": {
        "colab": {
          "base_uri": "https://localhost:8080/"
        },
        "id": "xr9bnQud5udn",
        "outputId": "f908ac7d-3ad6-4346-cb37-94e9450316d3"
      },
      "execution_count": null,
      "outputs": [
        {
          "output_type": "stream",
          "name": "stdout",
          "text": [
            "Qual é a distância (km) do seu trajeto? 379.87\n",
            "Usando avião, demoraria 0.6 hora(s).\n",
            "Usando carro, demoraria 3.8 hora(s).\n",
            "Usando ônibus, demoraria 4.7 hora(s).\n"
          ]
        }
      ]
    },
    {
      "cell_type": "markdown",
      "source": [
        "6) Solicite ao usuário o peso em kg e a altura em metros. Calcule e\n",
        "imprima o Índice de Massa Corporal (IMC) usando a fórmula:\n",
        "IMC = peso / (altura x altura).\n"
      ],
      "metadata": {
        "id": "LcW8BI1I5ul7"
      }
    },
    {
      "cell_type": "code",
      "source": [
        "altura = float(input('Informe sua altura (m): '))\n",
        "peso = float(input('Informe sua massa (kg): '))\n",
        "\n",
        "IMC = peso / altura ** 2\n",
        "\n",
        "print(f'Seu IMC é {IMC:.2f}.')"
      ],
      "metadata": {
        "colab": {
          "base_uri": "https://localhost:8080/"
        },
        "id": "YdefL0bV5wzN",
        "outputId": "9e7c90e5-d2ba-4942-a77d-96856f6cb244"
      },
      "execution_count": null,
      "outputs": [
        {
          "output_type": "stream",
          "name": "stdout",
          "text": [
            "Informe sua altura (m): 1.98\n",
            "Informe sua massa (kg): 67\n",
            "Seu IMC é 17.09.\n"
          ]
        }
      ]
    },
    {
      "cell_type": "markdown",
      "source": [
        "7) Faça um Programa que pergunte quanto você ganha por hora e o\n",
        "número de horas trabalhadas no mês. Calcule e mostre o total do seu\n",
        "salário no referido mês."
      ],
      "metadata": {
        "id": "5_lUf9jD5yTQ"
      }
    },
    {
      "cell_type": "code",
      "source": [
        "salario_hora = float(input('Quantos reais você ganha por hora? '))\n",
        "horas = float(input('Quantas horas você trabalha em um mês? '))\n",
        "\n",
        "print(f'Seu salário é R${(salario_hora * horas):.2f}.')"
      ],
      "metadata": {
        "colab": {
          "base_uri": "https://localhost:8080/"
        },
        "id": "wCx0VDfv53H3",
        "outputId": "122b6a27-d490-46d5-8b2e-2cbbe1e5bd65"
      },
      "execution_count": null,
      "outputs": [
        {
          "output_type": "stream",
          "name": "stdout",
          "text": [
            "Quantos reais você ganha por hora? 12\n",
            "Quantas horas você trabalha em um mês? 120\n",
            "Seu salário é R$1440.00.\n"
          ]
        }
      ]
    },
    {
      "cell_type": "markdown",
      "source": [
        "8) Solicite ao usuário o número de horas de exercício físico por semana.\n",
        "Calcule o total de calorias queimadas em um mês, considerando uma\n",
        "média de 5 calorias por minuto de exercício."
      ],
      "metadata": {
        "id": "08yuKIzl54ch"
      }
    },
    {
      "cell_type": "code",
      "source": [
        "media_cal_min = 5\n",
        "horas = float(input('Quantas horas você se exercita por semana? '))\n",
        "\n",
        "print(f'Você queima {((media_cal_min*60) * (horas*4)):.2f} cal por mês!')"
      ],
      "metadata": {
        "colab": {
          "base_uri": "https://localhost:8080/"
        },
        "id": "IcUaGD81544n",
        "outputId": "230b3750-dedb-468c-9445-2e148ed37feb"
      },
      "execution_count": null,
      "outputs": [
        {
          "output_type": "stream",
          "name": "stdout",
          "text": [
            "Quantas horas você se exercita por semana? 3.5\n",
            "Você queima 4200.00 cal por mês!\n"
          ]
        }
      ]
    },
    {
      "cell_type": "markdown",
      "source": [
        "9) Faça um Programa que utilize 4 variáveis como preferir e no final print\n",
        "uma mensagem amigável utilizando as variáveis criadas.\n",
        "Exemplos de variáveis: nome, idade, lugar, profissão ....\n",
        "Exemplo de retorno: Olá Maria, prazer te conhecer. Sou de São Paulo\n",
        "também e estou migrando de área.\n",
        "Lembrando que para o retorno vamos usar print com as variáveis\n",
        "criadas e este texto é somente um exemplo, utilizem a criatividade."
      ],
      "metadata": {
        "id": "-3IiD6hh56-D"
      }
    },
    {
      "cell_type": "code",
      "source": [
        "cor = input('Qual sua cor favorita? ')\n",
        "comida = input('Qual é sua comida preferida? ')\n",
        "presente = input('Qual é sua coisa favorita no mundo? ')\n",
        "lugar = input('Se você pudesse estar em qualquer país, onde seria? ')\n",
        "\n",
        "print(f'Você é muito legal! Se eu pudesse, te levaria para {lugar} e saíriamos para comer {comida}. Depois, te daria {presente} {cor} em uma linda caixinha.')"
      ],
      "metadata": {
        "colab": {
          "base_uri": "https://localhost:8080/"
        },
        "id": "FINxuWNaHgV3",
        "outputId": "9b25d913-53f2-4562-8798-5522a08900fc"
      },
      "execution_count": null,
      "outputs": [
        {
          "output_type": "stream",
          "name": "stdout",
          "text": [
            "Qual sua cor favorita? roxo\n",
            "Qual é sua comida preferida? bolo de morango\n",
            "Qual é sua coisa favorita no mundo? amor\n",
            "Se você pudesse estar em qualquer país, onde seria? Dinamarca\n",
            "Você é muito legal! Se eu pudesse, te levaria para Dinamarca e saíriamos para comer bolo de morango. Depois, te daria amor roxo em uma linda caixinha.\n"
          ]
        }
      ]
    },
    {
      "cell_type": "markdown",
      "source": [
        "# Exercícios Tomada de Decisão e Estruturas de Repetição"
      ],
      "metadata": {
        "id": "S29r-v2gLoTX"
      }
    },
    {
      "cell_type": "markdown",
      "source": [
        "1) Faça um Programa que peça dois números e imprima o maior deles."
      ],
      "metadata": {
        "id": "l0k9bx0KWyPz"
      }
    },
    {
      "cell_type": "code",
      "source": [
        "num1 = float(input('Digite um número: '))\n",
        "num2 = float(input('Digite outro número: '))\n",
        "\n",
        "if num1 > num2:\n",
        "    print(f'O maior número é o primeiro,  {num1}.')\n",
        "elif num1 == num2:\n",
        "    print('Os números são iguais!')\n",
        "else:\n",
        "    print(f'O maior número é o segundo, {num2}.')"
      ],
      "metadata": {
        "id": "cCuof-wXWxqd",
        "colab": {
          "base_uri": "https://localhost:8080/"
        },
        "outputId": "a2751199-000c-4fb2-b2d5-a65ee450e35d"
      },
      "execution_count": null,
      "outputs": [
        {
          "output_type": "stream",
          "name": "stdout",
          "text": [
            "Digite um número: 23.76\n",
            "Digite outro número: 56.89\n",
            "O maior número é o segundo, 56.89.\n"
          ]
        }
      ]
    },
    {
      "cell_type": "markdown",
      "source": [
        "2) Faça um Programa que pergunte em que turno você estuda. Peça para\n",
        "digitar M-matutino ou V-Vespertino ou N-Noturno. Imprima a mensagem \"Bom\n",
        "Dia!\", \"Boa Tarde!\" ou \"Boa Noite!\" ou \"Valor Inválido!\", conforme o caso."
      ],
      "metadata": {
        "id": "3aoY29khW2PU"
      }
    },
    {
      "cell_type": "code",
      "source": [
        "user_turno = input('Digite em que turno você estuda (M, V ou N): ').upper()\n",
        "\n",
        "if user_turno == 'M':\n",
        "    print('Bom Dia!')\n",
        "elif user_turno == 'V':\n",
        "    print('Boa Tarde!')\n",
        "elif user_turno == 'N':\n",
        "    print('Boa Noite!')\n",
        "else:\n",
        "    print('Turno inválido.')"
      ],
      "metadata": {
        "id": "O47xVWoSW2jw",
        "colab": {
          "base_uri": "https://localhost:8080/"
        },
        "collapsed": true,
        "outputId": "4f4e2495-cccc-482f-879e-6d6a2cec61bc"
      },
      "execution_count": 130,
      "outputs": [
        {
          "output_type": "stream",
          "name": "stdout",
          "text": [
            "Digite em que turno você estuda (M, V ou N): v\n",
            "Boa Tarde!\n"
          ]
        }
      ]
    },
    {
      "cell_type": "markdown",
      "source": [
        "3) Faça um programa que peça uma nota, entre zero e dez. Mostre uma\n",
        "mensagem caso o valor seja inválido e continue pedindo até que o usuário\n",
        "informe um valor válido."
      ],
      "metadata": {
        "id": "tvPIyL19W21L"
      }
    },
    {
      "cell_type": "code",
      "source": [
        "num = -1\n",
        "\n",
        "while num < 0 or num > 10:\n",
        "    num = int(input('Digite um número inteiro entre 0 e 10: '))\n",
        "\n",
        "print('Ok!')"
      ],
      "metadata": {
        "id": "CFMVth2MW_LO",
        "colab": {
          "base_uri": "https://localhost:8080/"
        },
        "outputId": "53941b98-bc23-4cb4-a909-e316450f9a0a"
      },
      "execution_count": null,
      "outputs": [
        {
          "output_type": "stream",
          "name": "stdout",
          "text": [
            "Digite um número inteiro entre 0 e 10: 5\n",
            "Ok!\n"
          ]
        }
      ]
    },
    {
      "cell_type": "markdown",
      "source": [
        "4) Implemente um programa que classifique um aluno com base em sua\n",
        "pontuação em um exame. O programa deverá solicitar uma nota de 0 a 10. Se\n",
        "a pontuação for maior ou igual a 7, o aluno é aprovado; caso contrário, é\n",
        "reprovado."
      ],
      "metadata": {
        "id": "eaZGWAT4W_bH"
      }
    },
    {
      "cell_type": "code",
      "source": [
        "# Coleta número definido de notas do usuário\n",
        "num_notas = 3\n",
        "num_usuario_nota_atual = 0\n",
        "usuario_notas = []\n",
        "\n",
        "while num_usuario_nota_atual < num_notas:\n",
        "    num_usuario_nota_atual += 1\n",
        "    usuario_nota = float(input(f'Insira a {num_usuario_nota_atual}ª nota (0-10): '))\n",
        "\n",
        "    if 0 <= usuario_nota <= 10:\n",
        "        usuario_notas.append(usuario_nota)\n",
        "    else:\n",
        "        print('Valor inválido. Insira uma nota entre 0 e 10.')\n",
        "        num_usuario_nota_atual -= 1\n",
        "\n",
        "# Função geral para cálculo de médias a partir de uma lista\n",
        "def calcula_media(valores):\n",
        "    total = sum(valores)\n",
        "    media = total / len(valores)\n",
        "    return media\n",
        "\n",
        "# Cálculo da média das notas e classificação\n",
        "media_min = 7.0\n",
        "media_notas = calcula_media(usuario_notas)\n",
        "\n",
        "if media_notas >= media_min:\n",
        "    situacao = 'aprovado'\n",
        "else:\n",
        "    situacao = 'reprovado'\n",
        "\n",
        "print(f'Sua média é {media_notas:.1f}, por isso você está {situacao}.')"
      ],
      "metadata": {
        "id": "S7BbIGemXEPp",
        "colab": {
          "base_uri": "https://localhost:8080/"
        },
        "outputId": "10d7b9b5-75ba-4d2a-f59e-fcc481aafd93"
      },
      "execution_count": null,
      "outputs": [
        {
          "output_type": "stream",
          "name": "stdout",
          "text": [
            "Insira a 1ª nota (0-10): 7.9\n",
            "Insira a 2ª nota (0-10): 8.6\n",
            "Insira a 3ª nota (0-10): 5.9\n",
            "Sua média é 7.5, por isso você está aprovado.\n"
          ]
        }
      ]
    },
    {
      "cell_type": "markdown",
      "source": [
        "5) Desenvolva um programa que solicite ao usuário os comprimentos dos três\n",
        "lados de um triângulo e classifique-o como equilátero, isósceles ou escaleno.\n",
        "equilátero: todos os lados com o mesmo valor\n",
        "isósceles: dois lados com o mesmo valor\n",
        "escaleno: todos os lados com medidas distintas."
      ],
      "metadata": {
        "id": "uetb55REXEY1"
      }
    },
    {
      "cell_type": "code",
      "source": [
        "# Entrada dos comprimentos dos lados do triângulo\n",
        "lado1 = float(input('Digite o comprimento do primeiro lado do triângulo: '))\n",
        "lado2 = float(input('Digite o comprimento do segundo lado do triângulo: '))\n",
        "lado3 = float(input('Digite o comprimento do terceiro lado do triângulo: '))\n",
        "\n",
        "# Verificação se os lados formam um triângulo\n",
        "if (lado1 + lado2 > lado3) and (lado1 + lado3 > lado2) and (lado2 + lado3 > lado1):\n",
        "    # Classificação do triângulo\n",
        "    if lado1 == lado2 == lado3:\n",
        "        print('Seu triângulo é equilátero.')\n",
        "    elif lado1 != lado2 != lado3 or lado2 == lado3:\n",
        "        print('Seu triângulo é isósceles.')\n",
        "    else:\n",
        "        print('Seu triângulo é escaleno.')\n",
        "else:\n",
        "    print('Os valores fornecidos não podem formar um triângulo.')"
      ],
      "metadata": {
        "id": "zn7vScRhXEyN",
        "colab": {
          "base_uri": "https://localhost:8080/"
        },
        "outputId": "250b82f1-44f7-48c7-a7f3-cab0fac0749b"
      },
      "execution_count": null,
      "outputs": [
        {
          "output_type": "stream",
          "name": "stdout",
          "text": [
            "Digite o comprimento do primeiro lado do triângulo: 3\n",
            "Digite o comprimento do segundo lado do triângulo: 4\n",
            "Digite o comprimento do terceiro lado do triângulo: 3\n",
            "Seu triângulo é isósceles.\n"
          ]
        }
      ]
    },
    {
      "cell_type": "markdown",
      "source": [
        "6) Crie um programa que solicite ao usuário um login e uma senha. O\n",
        "programa deve permitir o acesso apenas se o usuário for \"admin\" e a senha\n",
        "for \"admin123\", caso contrário imprima uma mensagem de erro."
      ],
      "metadata": {
        "id": "AK3a6DkwXK9o"
      }
    },
    {
      "cell_type": "code",
      "source": [
        "user = input('Qual seu nome de usuário? ')\n",
        "senha = input('Qual sua senha? ')\n",
        "\n",
        "if user == 'admin' and senha == 'admin123':\n",
        "    print(f'Acesso permitido, bem vinda. \\n')\n",
        "    print('Informação super secreta!!! ;)')\n",
        "else:\n",
        "    print('Acesso negado.')"
      ],
      "metadata": {
        "id": "oMM2-iElXRwY",
        "colab": {
          "base_uri": "https://localhost:8080/"
        },
        "outputId": "f71ef3be-ab30-4595-c0a6-170baa5d9443"
      },
      "execution_count": null,
      "outputs": [
        {
          "output_type": "stream",
          "name": "stdout",
          "text": [
            "Qual seu nome de usuário? admin\n",
            "Qual sua senha? admin123\n",
            "Acesso permitido, bem vinda. \n",
            "\n",
            "Informação super secreta!!! ;)\n"
          ]
        }
      ]
    },
    {
      "cell_type": "markdown",
      "source": [
        "7) Desenvolver um programa que solicite a idade do usuário e identifique se\n",
        "ele é uma criança, um adolescente, adulto ou idoso."
      ],
      "metadata": {
        "id": "r99xlX7LXFAo"
      }
    },
    {
      "cell_type": "code",
      "source": [
        "user_idade = int(input('Qual sua idade? '))\n",
        "\n",
        "if user_idade < 12:\n",
        "    print('Você é uma criança.')\n",
        "elif 12 <= user_idade < 18:\n",
        "    print('Você é um adolescente.')\n",
        "elif 18 <= user_idade < 65:\n",
        "    print('Você é um adulto.')\n",
        "else:\n",
        "    print('Você é um idoso.')"
      ],
      "metadata": {
        "id": "nY3CuWwbXKZ8",
        "colab": {
          "base_uri": "https://localhost:8080/"
        },
        "outputId": "020f8f87-de8e-464e-87cc-f382f4d1d3f5"
      },
      "execution_count": null,
      "outputs": [
        {
          "output_type": "stream",
          "name": "stdout",
          "text": [
            "Qual sua idade? 20\n",
            "Você é um adulto.\n"
          ]
        }
      ]
    },
    {
      "cell_type": "markdown",
      "source": [
        "8) Criar um programa em Python que solicite três números ao usuário, utilize\n",
        "estruturas condicionais para determinar o maior entre eles e apresente o\n",
        "resultado."
      ],
      "metadata": {
        "id": "Nlh_VpKKXSS2"
      }
    },
    {
      "cell_type": "code",
      "source": [
        "num1 = float(input('Digite um número: '))\n",
        "num2 = float(input('Digite outro número: '))\n",
        "num3 = float(input('Digite o último número: '))\n",
        "\n",
        "if num1 > num2 and num1 > num3:\n",
        "    print(f'O maior número é o primeiro,  {num1}.')\n",
        "elif num2 > num3 and num2 > num1:\n",
        "    print(f'O maior número é o segundo,  {num2}.')\n",
        "elif num3 > num1 and num3 > num2:\n",
        "    print(f'O maior número é o terceiro,  {num3}.')\n",
        "else:\n",
        "    print('Os números são iguais!')"
      ],
      "metadata": {
        "id": "_49LzeHbXUOY",
        "colab": {
          "base_uri": "https://localhost:8080/"
        },
        "outputId": "dd038721-b045-4022-8688-bfe3ae9af177"
      },
      "execution_count": null,
      "outputs": [
        {
          "output_type": "stream",
          "name": "stdout",
          "text": [
            "Digite um número: 56\n",
            "Digite outro número: 56\n",
            "Digite o último número: 56\n",
            "Os números são iguais!\n"
          ]
        }
      ]
    },
    {
      "cell_type": "markdown",
      "source": [
        "9) O programa deve calcular e apresentar a quantidade de números pares e\n",
        "ímpares inseridos. O processo de leitura deve ser encerrado quando o usuário\n",
        "informar o valor zero. Certifique-se de incluir validações para garantir que\n",
        "apenas números positivos sejam considerados na contagem e cálculos."
      ],
      "metadata": {
        "id": "tEEredCLXUWC"
      }
    },
    {
      "cell_type": "code",
      "source": [
        "num = -1\n",
        "pares = 0\n",
        "impares = 0\n",
        "\n",
        "while num != 0:\n",
        "    num = int(input('Digite um número inteiro positivo: '))\n",
        "    if num > 0 and (num % 2) == 0 :\n",
        "        print('Par')\n",
        "        pares += 1\n",
        "    elif num > 0 and (num % 2) != 0 :\n",
        "        print('Ímpar')\n",
        "        impares += 1\n",
        "\n",
        "print(f'Você digitou {pares} números pares e {impares} ímpares!')"
      ],
      "metadata": {
        "id": "nJbx1nKAXYq5",
        "colab": {
          "base_uri": "https://localhost:8080/"
        },
        "outputId": "8dc0aa53-57e6-4d0d-e750-ecf6501a9445"
      },
      "execution_count": null,
      "outputs": [
        {
          "output_type": "stream",
          "name": "stdout",
          "text": [
            "Digite um número inteiro positivo: 678\n",
            "Par\n",
            "Digite um número inteiro positivo: 675\n",
            "Ímpar\n",
            "Digite um número inteiro positivo: 345\n",
            "Ímpar\n",
            "Digite um número inteiro positivo: 789\n",
            "Ímpar\n",
            "Digite um número inteiro positivo: 0\n",
            "Você digitou 1 números pares e 3 ímpares!\n"
          ]
        }
      ]
    },
    {
      "cell_type": "markdown",
      "source": [
        "10) Faça um programa que lê três números inteiros e os mostra em ordem\n",
        "crescente."
      ],
      "metadata": {
        "id": "39mXlWPeXYz3"
      }
    },
    {
      "cell_type": "code",
      "source": [
        "num1 = float(input('Digite um número: '))\n",
        "num2 = float(input('Digite outro número: '))\n",
        "num3 = float(input('Digite o último número: '))\n",
        "\n",
        "# Bubble sort simplificado\n",
        "if num1 > num2:\n",
        "    num1, num2 = num2, num1\n",
        "if num2 > num3:\n",
        "    num2, num3 = num3, num2\n",
        "if num1 > num2:\n",
        "    num1, num2 = num2, num1\n",
        "\n",
        "# Saída dos números em ordem crescente\n",
        "print(f\"Números em ordem crescente: {num1}, {num2}, {num3}\")"
      ],
      "metadata": {
        "id": "UjMdE5NtXdKw",
        "colab": {
          "base_uri": "https://localhost:8080/"
        },
        "outputId": "bc4122a6-8fdc-428a-ca1b-67033d21a568"
      },
      "execution_count": null,
      "outputs": [
        {
          "output_type": "stream",
          "name": "stdout",
          "text": [
            "Digite um número: 5674.34\n",
            "Digite outro número: 756.56\n",
            "Digite o último número: 423.7\n",
            "Números em ordem crescente: 423.7, 756.56, 5674.34\n"
          ]
        }
      ]
    },
    {
      "cell_type": "markdown",
      "source": [
        "11) Escreva um programa que calcule o salário líquido. Lembrando de\n",
        "declarar o salário bruto e o percentual de desconto do Imposto de Renda.\n",
        "\n",
        "```\n",
        "* Renda até R$ 1.903,98: isento de imposto de renda;\n",
        "\n",
        "* Renda entre R$ 1.903,99 e R$ 2.826,65: alíquota de 7,5%;\n",
        "\n",
        "* Renda entre R$ 2.826,66 e R$ 3.751,05: alíquota de 15%;\n",
        "\n",
        "* Renda entre R$ 3.751,06 e R$ 4.664,68: alíquota de 22,5%;\n",
        "\n",
        "* Renda acima de R$ 4.664,68: alíquota máxima de 27,5%.\n",
        "```"
      ],
      "metadata": {
        "id": "Xkpz0QJoXdRQ"
      }
    },
    {
      "cell_type": "code",
      "source": [
        "user_salario = float(input('Qual é seu salário? '))\n",
        "\n",
        "if user_salario <= 1903.98:\n",
        "    print(f'Seu salário líquido é R${user_salario:.2f}, isento de imposto.')\n",
        "elif 1903.98 < user_salario <= 2826.65:\n",
        "    user_imposto = user_salario * 0.075\n",
        "    user_salario -= user_imposto\n",
        "    print(f'Seu salário líquido é R${user_salario:.2f}, você precisa pagar R${user_imposto:.2f} de imposto.')\n",
        "elif 2826.65 < user_salario <= 3751.05:\n",
        "    user_imposto = user_salario * 0.15\n",
        "    user_salario -= user_imposto\n",
        "    print(f'Seu salário líquido é R${user_salario:.2f}, você precisa pagar R${user_imposto:.2f} de imposto.')\n",
        "elif 3751.05 < user_salario <= 4664.68:\n",
        "    user_imposto = user_salario * 0.225\n",
        "    user_salario -= user_imposto\n",
        "    print(f'Seu salário líquido é R${user_salario:.2f}, você precisa pagar R${user_imposto:.2f} de imposto.')\n",
        "else:\n",
        "    user_imposto = user_salario * 0.275\n",
        "    user_salario -= user_imposto\n",
        "    print(f'Seu salário líquido é R${user_salario:.2f}, você precisa pagar R${user_imposto:.2f} de imposto.')"
      ],
      "metadata": {
        "id": "Wwy1O8OlXnc-",
        "colab": {
          "base_uri": "https://localhost:8080/"
        },
        "outputId": "4ccc0df9-55ef-437a-c58d-f7dda5e78988"
      },
      "execution_count": null,
      "outputs": [
        {
          "output_type": "stream",
          "name": "stdout",
          "text": [
            "Qual é seu salário? 3456\n",
            "Seu salário líquido é R$2937.60, você precisa pagar R$518.40 de imposto.\n"
          ]
        }
      ]
    },
    {
      "cell_type": "markdown",
      "source": [
        "# Exercícios Tuplas, Listas e Dicionários"
      ],
      "metadata": {
        "id": "1UtGflSf1N-p"
      }
    },
    {
      "cell_type": "markdown",
      "source": [
        "1) Utilizando listas faça um programa que faça 5 perguntas para uma\n",
        "pessoa sobre um crime.\n",
        "As perguntas são:\n",
        "\"\"Telefonou para a vítima?\"\"\n",
        "\"\"Esteve no local do crime?\"\"\n",
        "\"\"Mora perto da vítima?\"\"\n",
        "\"\"Devia para a vítima?\"\"\n",
        "\"\"Já trabalhou com a vítima?\"\"\n",
        "O programa deve no final emitir uma classificação sobre a participação\n",
        "da pessoa no crime.\n",
        "Se a pessoa responder positivamente a 2 questões ela deve ser\n",
        "classificada como \"\"Suspeita\"\", entre 3 e 4 como \"\"Cúmplice\"\" e 5 como\n",
        "\"\"Assassino\"\".\n",
        "Caso contrário,ele será classificado como\"\"Inocente\"\"."
      ],
      "metadata": {
        "id": "Ro16WtSL1TQx"
      }
    },
    {
      "cell_type": "code",
      "source": [
        "perguntas = [\n",
        "        'Telefonou para a vítima? ',\n",
        "        'Esteve no local do crime? ',\n",
        "        'Mora perto da vítima? ',\n",
        "        'Devia para a vítima? ',\n",
        "        'Já trabalhou com a vítima? ']\n",
        "\n",
        "respostas = []\n",
        "\n",
        "# Realiza perguntas\n",
        "for pergunta in perguntas:\n",
        "    resposta = input(pergunta).strip().lower()\n",
        "    while resposta not in ['sim', 'não']:\n",
        "        print('Resposta inválida. Por favor, responda com sim ou não.')\n",
        "        resposta = input(pergunta).strip().lower()\n",
        "    respostas.append(resposta)\n",
        "\n",
        "# Classifica o usuário\n",
        "respostas_positivas = respostas.count('sim')\n",
        "if respostas_positivas == 2:\n",
        "    print('\\nSuspeita')\n",
        "elif 3 <= respostas_positivas <= 4:\n",
        "    print('\\nCúmplice')\n",
        "elif respostas_positivas == 5:\n",
        "    print('\\nAssassino')\n",
        "else:\n",
        "    print('\\nInocente')"
      ],
      "metadata": {
        "colab": {
          "base_uri": "https://localhost:8080/"
        },
        "collapsed": true,
        "id": "ExHNasTy1NIi",
        "outputId": "1fd2702a-6ee3-4930-b643-626cd11d334e"
      },
      "execution_count": null,
      "outputs": [
        {
          "output_type": "stream",
          "name": "stdout",
          "text": [
            "Telefonou para a vítima? não\n",
            "Esteve no local do crime? não\n",
            "Mora perto da vítima? sim\n",
            "Devia para a vítima? não\n",
            "Já trabalhou com a vítima? sim\n",
            "\n",
            "Suspeita\n"
          ]
        }
      ]
    },
    {
      "cell_type": "markdown",
      "source": [
        "2) Faça um Programa que peça as quatro notas de 5 alunos, calcule\n",
        "e armazene numa lista a média de cada aluno, imprima o número\n",
        "de alunos com média maior ou igual a 7.0."
      ],
      "metadata": {
        "id": "IR-kRqLw1c6N"
      }
    },
    {
      "cell_type": "code",
      "source": [
        "# Função geral para cálculo de médias a partir de uma lista\n",
        "def calcula_media(valores):\n",
        "    total = sum(valores)\n",
        "    media = total / len(valores)\n",
        "    return media\n",
        "\n",
        "# Coleta número definido de notas do usuário\n",
        "num_notas = 4\n",
        "num_alunos = 5\n",
        "\n",
        "for num_aluno in range(1, num_alunos + 1):\n",
        "    num_usuario_nota_atual = 0\n",
        "    usuario_notas = []\n",
        "\n",
        "    while num_usuario_nota_atual < num_notas:\n",
        "        num_usuario_nota_atual += 1\n",
        "        usuario_nota = float(input(f'Insira a {num_usuario_nota_atual}ª nota (0-10) para o aluno {num_aluno}: '))\n",
        "\n",
        "        if 0 <= usuario_nota <= 10:\n",
        "            usuario_notas.append(usuario_nota)\n",
        "        else:\n",
        "            print('Valor inválido. Insira uma nota entre 0 e 10.')\n",
        "            num_usuario_nota_atual -= 1\n",
        "\n",
        "    # Cálculo da média das notas e classificação\n",
        "    media_min = 7.0\n",
        "    media_notas = calcula_media(usuario_notas)\n",
        "\n",
        "    if media_notas >= media_min:\n",
        "        situacao = 'aprovado'\n",
        "    else:\n",
        "        situacao = 'reprovado'\n",
        "\n",
        "    print(f'A média do aluno {num_aluno} é {media_notas:.1f}, por isso ele está {situacao}.')\n",
        "\n",
        "    # Incremento do número do aluno\n",
        "    num_aluno += 1"
      ],
      "metadata": {
        "id": "NSCdpNbO1gck"
      },
      "execution_count": null,
      "outputs": []
    },
    {
      "cell_type": "markdown",
      "source": [
        "3) Crie um dicionário representando um carrinho de compras.\n",
        "Adicione produtos (chaves) e quantidades (valores) ao carrinho.\n",
        "Calcule o total do carrinho de compra."
      ],
      "metadata": {
        "id": "jGrWRgXE1g2W"
      }
    },
    {
      "cell_type": "code",
      "source": [
        "carrinho_compras = {}\n",
        "\n",
        "carrinho_compras['banana'] = 2.99\n",
        "carrinho_compras['pão'] = 3.88\n",
        "carrinho_compras['leite'] = 4.56\n",
        "carrinho_compras['detergente'] = 0.78\n",
        "\n",
        "# Calcula o total das compras\n",
        "total = sum(carrinho_compras.values())\n",
        "\n",
        "# Formatação para imprimir os itens comprados\n",
        "itens_comprados = ', '.join(carrinho_compras.keys())\n",
        "\n",
        "# Impressão da mensagem final\n",
        "print(f'Você comprou: {itens_comprados}, gastando R${total:.2f}.')"
      ],
      "metadata": {
        "id": "HWsr6Jid1j53",
        "colab": {
          "base_uri": "https://localhost:8080/"
        },
        "outputId": "b663a6c2-816a-4e2c-ea6c-3467ac16d7ec"
      },
      "execution_count": null,
      "outputs": [
        {
          "output_type": "stream",
          "name": "stdout",
          "text": [
            "Você comprou: banana, pão, leite, detergente, gastando R$12.21.\n"
          ]
        }
      ]
    },
    {
      "cell_type": "markdown",
      "source": [
        "4) Crie um dicionário representando contatos (nome, telefone).\n",
        "Permita ao usuário procurar por um contato pelo nome."
      ],
      "metadata": {
        "id": "hCCHf6lJ1kWn"
      }
    },
    {
      "cell_type": "code",
      "source": [
        "contatos = {}\n",
        "\n",
        "contatos['maria'] = 36243457\n",
        "contatos['pedro'] = 86778998\n",
        "contatos['tia benta'] = 85677089\n",
        "contatos['mãe'] = 36458756\n",
        "\n",
        "user_liga = input('Para quem você quer ligar? ').lower()\n",
        "\n",
        "# Verifica se o nome está no dicionário de contatos\n",
        "if user_liga in contatos:\n",
        "    print(f'Certo, o número de {user_liga} é {contatos[user_liga]}.')\n",
        "else:\n",
        "    print(f'O contato de {user_liga} não foi encontrado.')"
      ],
      "metadata": {
        "id": "_VczVeyf1m6_",
        "colab": {
          "base_uri": "https://localhost:8080/"
        },
        "outputId": "46e36600-ebb3-4688-867b-fc25cbcc1e19"
      },
      "execution_count": null,
      "outputs": [
        {
          "output_type": "stream",
          "name": "stdout",
          "text": [
            "Para quem você quer ligar? Tia Benta\n",
            "Certo, o número de tia benta é 85677089.\n"
          ]
        }
      ]
    },
    {
      "cell_type": "markdown",
      "source": [
        "5) Crie duas tuplas. Concatene-as para formar uma nova tupla."
      ],
      "metadata": {
        "id": "Xh1X0F4s1nRz"
      }
    },
    {
      "cell_type": "code",
      "source": [
        "frutas_vermelhas = ('Maçã', 'Morango')\n",
        "frutas_amarelas = ('Laranja', 'Limão')\n",
        "\n",
        "salada_mista = frutas_vermelhas + frutas_amarelas\n",
        "print(salada_mista)"
      ],
      "metadata": {
        "colab": {
          "base_uri": "https://localhost:8080/"
        },
        "id": "O-lCuUgb1qbF",
        "outputId": "db531b46-a47b-475f-de74-0c2d6d9bc192"
      },
      "execution_count": null,
      "outputs": [
        {
          "output_type": "stream",
          "name": "stdout",
          "text": [
            "('Maçã', 'Morango', 'Laranja', 'Limão')\n"
          ]
        }
      ]
    },
    {
      "cell_type": "markdown",
      "source": [
        "6) Faça um programa que permita ao usuário digitar o seu nome e\n",
        "em seguida mostre o nome do usuário de trás para frente\n",
        "utilizando somente letras maiúsculas. Dica: lembre−se que ao\n",
        "informar o nome o usuário pode digitar letras maiúsculas ou\n",
        "minúsculas."
      ],
      "metadata": {
        "id": "vAjPzfX01q0j"
      }
    },
    {
      "cell_type": "code",
      "source": [
        "nome_user = input('Qual é seu nome? ').upper()\n",
        "\n",
        "reverso = nome_user[::-1]\n",
        "print(reverso)"
      ],
      "metadata": {
        "id": "U_C0uoMR1tPa",
        "colab": {
          "base_uri": "https://localhost:8080/"
        },
        "outputId": "f77a8bf6-c71b-4049-a0c6-48359a38bdd8"
      },
      "execution_count": null,
      "outputs": [
        {
          "output_type": "stream",
          "name": "stdout",
          "text": [
            "Qual é seu nome? giovanna\n",
            "ANNAVOIG\n"
          ]
        }
      ]
    },
    {
      "cell_type": "markdown",
      "source": [
        "# Exercícios Funções e Extras"
      ],
      "metadata": {
        "id": "pEcByYTDCkf7"
      }
    },
    {
      "cell_type": "markdown",
      "source": [
        "1) Faça um programa, com uma função que necessite de três\n",
        "argumentos, e que forneça a soma desses três argumentos."
      ],
      "metadata": {
        "id": "Jtme6jZCCvb3"
      }
    },
    {
      "cell_type": "code",
      "source": [
        "def soma_tres(num1, num2, num3):\n",
        "    soma = num1 + num2 + num3\n",
        "    return soma\n",
        "\n",
        "burj_khalifa = 828\n",
        "tokyo_skytree = 634\n",
        "guangzhou_tower = 610\n",
        "\n",
        "altura_total = soma_tres(burj_khalifa,  tokyo_skytree, guangzhou_tower)\n",
        "print(f'A soma da altura do Burj Khalifa, Tokyo Skytree e Guangzhou Tower é {altura_total} m!')"
      ],
      "metadata": {
        "colab": {
          "base_uri": "https://localhost:8080/"
        },
        "id": "xpmpZIJqCspo",
        "outputId": "1d2078a4-bb1d-4a0f-e495-e9af6e3e4c29"
      },
      "execution_count": null,
      "outputs": [
        {
          "output_type": "stream",
          "name": "stdout",
          "text": [
            "A soma da altura do Burj Khalifa, Tokyo Skytree e Guangzhou Tower é 2072 m!\n"
          ]
        }
      ]
    },
    {
      "cell_type": "markdown",
      "source": [
        "2) Reverso do número. Faça uma função que retorne o reverso de um\n",
        "número inteiro informado. Por exemplo: 127 -> 721."
      ],
      "metadata": {
        "id": "PqOpy1_hC0Wq"
      }
    },
    {
      "cell_type": "code",
      "source": [
        "def reverso_texto(texto):\n",
        "    reverso = texto[::-1]\n",
        "    return reverso\n",
        "\n",
        "num = str(input('Digite um número: '))\n",
        "int(reverso_texto(num))"
      ],
      "metadata": {
        "colab": {
          "base_uri": "https://localhost:8080/"
        },
        "collapsed": true,
        "id": "bSpabaAuEpVt",
        "outputId": "64a0a6e6-0a65-4fb8-c2dc-9f12ec3b09d6"
      },
      "execution_count": 127,
      "outputs": [
        {
          "name": "stdout",
          "output_type": "stream",
          "text": [
            "Digite um número: 3456\n"
          ]
        },
        {
          "output_type": "execute_result",
          "data": {
            "text/plain": [
              "6543"
            ]
          },
          "metadata": {},
          "execution_count": 127
        }
      ]
    },
    {
      "cell_type": "markdown",
      "source": [
        "3) Escreva um script que pergunta ao usuário se ele deseja converter\n",
        "uma temperatura de grau Celsius para Fahrenheit ou vice-versa. Para\n",
        "cada opção, crie uma função.\n",
        "\n",
        "Plus: Crie uma terceira, que é um menu para o usuário escolher a opção\n",
        "desejada, onde esse menu chama a função de conversão correta."
      ],
      "metadata": {
        "id": "yM6BEtwwF0AY"
      }
    },
    {
      "cell_type": "code",
      "source": [
        "def converte_para_celsius(fahrenheit):\n",
        "    return (fahrenheit - 32) * 5 / 9\n",
        "\n",
        "def converte_para_fahrenheit(celsius):\n",
        "    return (celsius * 9 / 5) + 32\n",
        "\n",
        "def menu():\n",
        "    user_temp = float(input('Qual é a sua temperatura? '))\n",
        "    graus = input('Está em C ou F? ').upper()\n",
        "\n",
        "    if graus == 'C':\n",
        "        graus_convert = 'F'\n",
        "        user_temp_convert = converte_para_fahrenheit(user_temp)\n",
        "    elif graus == 'F':\n",
        "        graus_convert = 'C'\n",
        "        user_temp_convert = converte_para_celsius(user_temp)\n",
        "    else:\n",
        "        print('Opção inválida.')\n",
        "        return  # Retorna para encerrar a função se a opção for inválida\n",
        "\n",
        "    print(f'{user_temp:.2f} {graus} é equivalente a {user_temp_convert:.2f} {graus_convert}.')\n",
        "\n",
        "menu()"
      ],
      "metadata": {
        "id": "bNG68XWrGFHw",
        "colab": {
          "base_uri": "https://localhost:8080/"
        },
        "outputId": "f5a664e6-b75b-4293-dc77-c87416c689f1"
      },
      "execution_count": null,
      "outputs": [
        {
          "output_type": "stream",
          "name": "stdout",
          "text": [
            "Qual é a sua temperatura? 35\n",
            "Está em C ou F? c\n",
            "35.00 C é equivalente a 95.00 F.\n"
          ]
        }
      ]
    },
    {
      "cell_type": "markdown",
      "source": [
        "4) Crie um programa que leia quanto dinheiro uma pessoa tem na\n",
        "carteira, e calcule quanto poderia comprar de cada moeda estrangeira.\n",
        "Considere a tabela de conversão abaixo:\n",
        "\n",
        "```\n",
        "Dólar Americano: R$ 4,91\n",
        "Peso Argentino: R$ 0,02\n",
        "Dólar Australiano: R$ 3,18\n",
        "Dólar Canadense: R$ 3,64\n",
        "Franco Suiço: R$ 0,42\n",
        "Euro: R$ 5,36\n",
        "Libra esterlina: R$ 6,21\n",
        "```"
      ],
      "metadata": {
        "id": "LMxFh08VGFme"
      }
    },
    {
      "cell_type": "code",
      "source": [
        "def converte_moeda(reais):\n",
        "    dolares_americanos = reais / 4.91\n",
        "    pesos_argentinos = reais / 0.02\n",
        "    dolares_australianos = reais / 3.18\n",
        "    dolares_canadenses = reais / 3.64\n",
        "    francos_suicos = reais / 0.42\n",
        "    euros = reais / 5.36\n",
        "    libras_esterlinas = reais / 6.21\n",
        "\n",
        "    print(f'''Você tem:\n",
        "    BRL {reais:.2f}\n",
        "    USD {dolares_americanos:.2f}\n",
        "    ARS {pesos_argentinos:.2f}\n",
        "    AUD {dolares_australianos:.2f}\n",
        "    CAD {dolares_canadenses:.2f}\n",
        "    CHF {francos_suicos:.2f}\n",
        "    EUR {euros:.2f}\n",
        "    GBP {libras_esterlinas:.2f}''')\n",
        "carteira_user = float(input('Quantos reais você tem? '))\n",
        "converte_moeda(carteira_user)"
      ],
      "metadata": {
        "id": "6xYgb5_EGMrm",
        "colab": {
          "base_uri": "https://localhost:8080/"
        },
        "outputId": "aa151230-c11b-46da-e49c-19717bd4392a"
      },
      "execution_count": null,
      "outputs": [
        {
          "output_type": "stream",
          "name": "stdout",
          "text": [
            "Quantos reais você tem? 3546.57\n",
            "Você tem:\n",
            "    BRL 3546.57\n",
            "    USD 722.32\n",
            "    ARS 177328.50\n",
            "    AUD 1115.27\n",
            "    CAD 974.33\n",
            "    CHF 8444.21\n",
            "    EUR 661.67\n",
            "    GBP 571.11\n"
          ]
        }
      ]
    },
    {
      "cell_type": "markdown",
      "source": [
        "5) Crie uma função chamada contar_vogais que recebe uma string\n",
        "como parâmetro. Implemente a lógica para contar o número de vogais\n",
        "na string e retorne o total de vogais. Solicite ao usuário para inserir uma\n",
        "frase e utilize a função para contar as vogais."
      ],
      "metadata": {
        "id": "Msl6h1hqGNIy"
      }
    },
    {
      "cell_type": "code",
      "source": [
        "def contar_vogais(texto):\n",
        "    vogais = 0\n",
        "    vogais_lista = 'AEIOU'\n",
        "\n",
        "    for letra in texto:\n",
        "        if letra in vogais_lista:\n",
        "            vogais += 1\n",
        "    return vogais\n",
        "\n",
        "user_frase = input('Digite uma frase sem acentos: ').strip().upper().replace(' ', '')\n",
        "total_vogais = contar_vogais(user_frase)\n",
        "\n",
        "print(f'Sua frase possui {total_vogais} vogais.')"
      ],
      "metadata": {
        "id": "Bp2-RArbGpej",
        "colab": {
          "base_uri": "https://localhost:8080/"
        },
        "outputId": "cd32c5f6-5281-4735-b444-abb7714e9d83"
      },
      "execution_count": null,
      "outputs": [
        {
          "output_type": "stream",
          "name": "stdout",
          "text": [
            "Digite uma frase sem acentos: de que vale se arrepender agora\n",
            "Sua frase possui 13 vogais.\n"
          ]
        }
      ]
    },
    {
      "cell_type": "markdown",
      "source": [
        "6) Vamos construir um jogo de forca. O programa escolherá\n",
        "aleatoriamente uma palavra secreta de uma lista predefinida. A palavra\n",
        "secreta será representada por espaços em branco, um para cada letra da palavra. O jogador terá um número limitado de 6 tentativas. Em cada\n",
        "tentativa, o jogador pode fornecer uma letra. Se a letra estiver presente\n",
        "na palavra secreta, ela será revelada nas posições correspondentes. Se\n",
        "a letra não estiver na palavra, uma mensagem de erro deverá ser\n",
        "informada. Após um número máximo de erros, o jogador perde. O jogo\n",
        "continua até que o jogador adivinhe a palavra ou exceda o número\n",
        "máximo de tentativas.\n",
        "Dica: Você precisará importar uma biblioteca para resolver esse\n",
        "exercício"
      ],
      "metadata": {
        "id": "zwfrg6OBGqAR"
      }
    },
    {
      "cell_type": "code",
      "source": [
        "import random\n",
        "\n",
        "def gera_palavra_secreta():\n",
        "    lista_palavras = ['cedo', 'tarde', 'razoes', 'emocoes', 'ligacao', 'nada', 'rezo', 'confidencial', 'insubstituivel', 'mentiras', 'fracassos']\n",
        "    palavra_secreta = random.choice(lista_palavras)\n",
        "    return palavra_secreta.upper()\n",
        "\n",
        "def jogo_forca():\n",
        "    total_tentativas = 6\n",
        "    tentativa_user = 0\n",
        "\n",
        "    segredo = gera_palavra_secreta()\n",
        "\n",
        "    # Lista de letras reveladas\n",
        "    letras_reveladas = ['__' for __ in segredo]\n",
        "\n",
        "    while tentativa_user < total_tentativas:\n",
        "        print(' '.join(letras_reveladas))\n",
        "        chute_user = input('\\nDigite uma letra: ').upper()\n",
        "\n",
        "        if chute_user in segredo:\n",
        "            # Atualiza lista de letras reveladas para cada posição que tem a letra do chute\n",
        "            for idx, letra in enumerate(segredo):\n",
        "                if letra == chute_user:\n",
        "                    letras_reveladas[idx] = letra\n",
        "            if '__' not in letras_reveladas:\n",
        "                print(f'Parabéns! Você adivinhou a palavra: {segredo}')\n",
        "                return\n",
        "        else:\n",
        "            tentativa_user += 1\n",
        "            print(f'Essa letra não está presente na palavra secreta. Você tem {total_tentativas - tentativa_user} tentativas restantes.')\n",
        "\n",
        "        if tentativa_user == total_tentativas:\n",
        "            print(f'Você perdeu! A palavra secreta era: {segredo}')\n",
        "\n",
        "jogo_forca()"
      ],
      "metadata": {
        "id": "eu2Txx13Gve2",
        "colab": {
          "base_uri": "https://localhost:8080/"
        },
        "outputId": "b14223fa-dda8-4d9d-9546-265a563ccbce"
      },
      "execution_count": null,
      "outputs": [
        {
          "output_type": "stream",
          "name": "stdout",
          "text": [
            "__ __ __ __ __ __ __ __ __ __ __ __ __ __\n",
            "\n",
            "Digite uma letra: A\n",
            "Essa letra não está presente na palavra secreta. Você tem 5 tentativas restantes.\n",
            "__ __ __ __ __ __ __ __ __ __ __ __ __ __\n",
            "\n",
            "Digite uma letra: I\n",
            "I __ __ __ __ __ __ I __ __ I __ __ __\n",
            "\n",
            "Digite uma letra: E\n",
            "I __ __ __ __ __ __ I __ __ I __ E __\n",
            "\n",
            "Digite uma letra: O\n",
            "Essa letra não está presente na palavra secreta. Você tem 4 tentativas restantes.\n",
            "I __ __ __ __ __ __ I __ __ I __ E __\n",
            "\n",
            "Digite uma letra: R\n",
            "Essa letra não está presente na palavra secreta. Você tem 3 tentativas restantes.\n",
            "I __ __ __ __ __ __ I __ __ I __ E __\n",
            "\n",
            "Digite uma letra: N\n",
            "I N __ __ __ __ __ I __ __ I __ E __\n",
            "\n",
            "Digite uma letra: S\n",
            "I N S __ __ S __ I __ __ I __ E __\n",
            "\n",
            "Digite uma letra: D\n",
            "Essa letra não está presente na palavra secreta. Você tem 2 tentativas restantes.\n",
            "I N S __ __ S __ I __ __ I __ E __\n",
            "\n",
            "Digite uma letra: M\n",
            "Essa letra não está presente na palavra secreta. Você tem 1 tentativas restantes.\n",
            "I N S __ __ S __ I __ __ I __ E __\n",
            "\n",
            "Digite uma letra: L\n",
            "I N S __ __ S __ I __ __ I __ E L\n",
            "\n",
            "Digite uma letra: T\n",
            "I N S __ __ S T I T __ I __ E L\n",
            "\n",
            "Digite uma letra: U\n",
            "I N S U __ S T I T U I __ E L\n",
            "\n",
            "Digite uma letra: B\n",
            "I N S U B S T I T U I __ E L\n",
            "\n",
            "Digite uma letra: V\n",
            "Parabéns! Você adivinhou a palavra: INSUBSTITUIVEL\n"
          ]
        }
      ]
    }
  ]
}