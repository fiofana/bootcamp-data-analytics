{
  "nbformat": 4,
  "nbformat_minor": 0,
  "metadata": {
    "colab": {
      "provenance": [],
      "include_colab_link": true
    },
    "kernelspec": {
      "name": "python3",
      "display_name": "Python 3"
    },
    "language_info": {
      "name": "python"
    }
  },
  "cells": [
    {
      "cell_type": "markdown",
      "metadata": {
        "id": "view-in-github",
        "colab_type": "text"
      },
      "source": [
        "<a href=\"https://colab.research.google.com/github/fiofana/bootcamp-data-analytics/blob/main/Python_para_Dados_Numpy.ipynb\" target=\"_parent\"><img src=\"https://colab.research.google.com/assets/colab-badge.svg\" alt=\"Open In Colab\"/></a>"
      ]
    },
    {
      "cell_type": "code",
      "execution_count": 2,
      "metadata": {
        "id": "s-4cD4a2NazV"
      },
      "outputs": [],
      "source": [
        "import numpy as np"
      ]
    },
    {
      "cell_type": "markdown",
      "source": [
        "# <font color='lightskyblue'> Introdução ao Numpy</font>"
      ],
      "metadata": {
        "id": "ImIu6U1tapvP"
      }
    },
    {
      "cell_type": "markdown",
      "source": [
        "É possível criar um array a partir de uma lista, tornando-o um objeto numpy."
      ],
      "metadata": {
        "id": "yYLNDT0W-qWa"
      }
    },
    {
      "cell_type": "code",
      "source": [
        "l = [4, 8, 2, 12, 5, 8, 0]"
      ],
      "metadata": {
        "id": "Vqe9MVcRNeZR"
      },
      "execution_count": null,
      "outputs": []
    },
    {
      "cell_type": "code",
      "source": [
        "arr = np.array(l)\n",
        "arr"
      ],
      "metadata": {
        "colab": {
          "base_uri": "https://localhost:8080/"
        },
        "id": "wAaR4l8iPeB9",
        "outputId": "88771fc8-41d3-4270-e2f7-5da6f10b09bb"
      },
      "execution_count": null,
      "outputs": [
        {
          "output_type": "execute_result",
          "data": {
            "text/plain": [
              "array([ 4,  8,  2, 12,  5,  8,  0])"
            ]
          },
          "metadata": {},
          "execution_count": 3
        }
      ]
    },
    {
      "cell_type": "code",
      "source": [
        "type(arr)"
      ],
      "metadata": {
        "colab": {
          "base_uri": "https://localhost:8080/"
        },
        "id": "DRsgDeOvPj2M",
        "outputId": "86d7c04e-1d6e-47d2-f599-4243c27dfde1"
      },
      "execution_count": null,
      "outputs": [
        {
          "output_type": "execute_result",
          "data": {
            "text/plain": [
              "numpy.ndarray"
            ]
          },
          "metadata": {},
          "execution_count": 4
        }
      ]
    },
    {
      "cell_type": "code",
      "source": [
        "l2 = [[1, 2, 3],\n",
        "      [4, 5, 6]]\n",
        "\n",
        "np.array(l2)"
      ],
      "metadata": {
        "colab": {
          "base_uri": "https://localhost:8080/"
        },
        "id": "J0QdGt9fPlKi",
        "outputId": "c9ddfef5-9109-4477-e869-1cb722a5c41a"
      },
      "execution_count": null,
      "outputs": [
        {
          "output_type": "execute_result",
          "data": {
            "text/plain": [
              "array([[1, 2, 3],\n",
              "       [4, 5, 6]])"
            ]
          },
          "metadata": {},
          "execution_count": 5
        }
      ]
    },
    {
      "cell_type": "markdown",
      "source": [
        "## Inicializadores de arrays\n"
      ],
      "metadata": {
        "id": "PdRNXkLb_Lil"
      }
    },
    {
      "cell_type": "markdown",
      "source": [
        "*   np.zeros((linhas, colunas))\n",
        "*   np.arange(inicio, fim_n_incluso, passo)\n",
        "*   np.random.random((linhas, colunas))\n",
        "*   np.random.randint(min, max_n_incluso, size=(linhas, colunas))\n",
        "\n"
      ],
      "metadata": {
        "id": "o_lCHWEzASlS"
      }
    },
    {
      "cell_type": "code",
      "source": [
        "np.zeros((2, 3))"
      ],
      "metadata": {
        "id": "UXc41fNPUPHk",
        "colab": {
          "base_uri": "https://localhost:8080/"
        },
        "outputId": "cc3b6013-d42b-47cc-83da-d80adc6cf9f0"
      },
      "execution_count": null,
      "outputs": [
        {
          "output_type": "execute_result",
          "data": {
            "text/plain": [
              "array([[0., 0., 0.],\n",
              "       [0., 0., 0.]])"
            ]
          },
          "metadata": {},
          "execution_count": 15
        }
      ]
    },
    {
      "cell_type": "code",
      "source": [
        "np.arange(1, 10)"
      ],
      "metadata": {
        "colab": {
          "base_uri": "https://localhost:8080/"
        },
        "id": "e7zFBX32_69k",
        "outputId": "85b1dd3a-d11c-4c3d-a18f-5c3701006f93"
      },
      "execution_count": null,
      "outputs": [
        {
          "output_type": "execute_result",
          "data": {
            "text/plain": [
              "array([1, 2, 3, 4, 5, 6, 7, 8, 9])"
            ]
          },
          "metadata": {},
          "execution_count": 17
        }
      ]
    },
    {
      "cell_type": "code",
      "source": [
        "np.random.random((2, 2))"
      ],
      "metadata": {
        "colab": {
          "base_uri": "https://localhost:8080/"
        },
        "id": "cXbcHlU2AE8o",
        "outputId": "5f9eb15b-c8b0-417a-8f50-141fc4ac8ffd"
      },
      "execution_count": null,
      "outputs": [
        {
          "output_type": "execute_result",
          "data": {
            "text/plain": [
              "array([[0.25714195, 0.81121359],\n",
              "       [0.35560404, 0.67584755]])"
            ]
          },
          "metadata": {},
          "execution_count": 21
        }
      ]
    },
    {
      "cell_type": "markdown",
      "source": [
        "### 1. Crie um array com 4 linhas e 3 colunas com valores aleatórios"
      ],
      "metadata": {
        "id": "8KGd6hxvXHbw"
      }
    },
    {
      "cell_type": "code",
      "source": [
        "arr = np.random.random((4, 3))\n",
        "arr"
      ],
      "metadata": {
        "colab": {
          "base_uri": "https://localhost:8080/"
        },
        "id": "al_aYI5wAgFh",
        "outputId": "d7147afb-a0ab-437a-f9b0-a35035f81bb1"
      },
      "execution_count": null,
      "outputs": [
        {
          "output_type": "execute_result",
          "data": {
            "text/plain": [
              "array([[0.80839813, 0.86844316, 0.00749777],\n",
              "       [0.99345037, 0.27895285, 0.79271678],\n",
              "       [0.9944437 , 0.90478502, 0.44083896],\n",
              "       [0.19276331, 0.90139426, 0.06943972]])"
            ]
          },
          "metadata": {},
          "execution_count": 25
        }
      ]
    },
    {
      "cell_type": "markdown",
      "source": [
        "### 2. Crie um array com valores inteiros 3 linhas e 5 colunas com valores aleatórios"
      ],
      "metadata": {
        "id": "XjvUczhmXZi-"
      }
    },
    {
      "cell_type": "code",
      "source": [
        "arr = np.random.randint(-100, 100, size=(3, 5))\n",
        "arr"
      ],
      "metadata": {
        "colab": {
          "base_uri": "https://localhost:8080/"
        },
        "id": "hb-ygHS7A1_r",
        "outputId": "9c7f4a2d-89c7-46d5-e75e-24a172197cf2"
      },
      "execution_count": null,
      "outputs": [
        {
          "output_type": "execute_result",
          "data": {
            "text/plain": [
              "array([[ 35, -85,  87,  50, -91],\n",
              "       [ 30, -75,  67,  55,  51],\n",
              "       [-42,  53,  25, -35,  47]])"
            ]
          },
          "metadata": {},
          "execution_count": 34
        }
      ]
    },
    {
      "cell_type": "markdown",
      "source": [
        "### 3. Crie um array com 5 colunas e 10 linhas inicializados com zeros."
      ],
      "metadata": {
        "id": "6nnXiIr2ZyLZ"
      }
    },
    {
      "cell_type": "code",
      "source": [
        "arr = np.zeros((10, 5))\n",
        "arr"
      ],
      "metadata": {
        "colab": {
          "base_uri": "https://localhost:8080/"
        },
        "id": "LUG4gNMpBDtD",
        "outputId": "b74f5ad3-f453-4fb5-9ce0-7c2457bee4ce"
      },
      "execution_count": null,
      "outputs": [
        {
          "output_type": "execute_result",
          "data": {
            "text/plain": [
              "array([[0., 0., 0., 0., 0.],\n",
              "       [0., 0., 0., 0., 0.],\n",
              "       [0., 0., 0., 0., 0.],\n",
              "       [0., 0., 0., 0., 0.],\n",
              "       [0., 0., 0., 0., 0.],\n",
              "       [0., 0., 0., 0., 0.],\n",
              "       [0., 0., 0., 0., 0.],\n",
              "       [0., 0., 0., 0., 0.],\n",
              "       [0., 0., 0., 0., 0.],\n",
              "       [0., 0., 0., 0., 0.]])"
            ]
          },
          "metadata": {},
          "execution_count": 27
        }
      ]
    },
    {
      "cell_type": "markdown",
      "source": [
        "### 4. Crie um array que vá entre 0 e 90 pulando de 4 em 4"
      ],
      "metadata": {
        "id": "mojhFJbIa3YL"
      }
    },
    {
      "cell_type": "code",
      "source": [
        "arr = np.arange(0, 90, 4)\n",
        "arr"
      ],
      "metadata": {
        "colab": {
          "base_uri": "https://localhost:8080/"
        },
        "id": "uWuxGrsODrr8",
        "outputId": "6ea21327-0b6c-4d59-d687-3e700bf6db8e"
      },
      "execution_count": null,
      "outputs": [
        {
          "output_type": "execute_result",
          "data": {
            "text/plain": [
              "array([ 0,  4,  8, 12, 16, 20, 24, 28, 32, 36, 40, 44, 48, 52, 56, 60, 64,\n",
              "       68, 72, 76, 80, 84, 88])"
            ]
          },
          "metadata": {},
          "execution_count": 36
        }
      ]
    },
    {
      "cell_type": "markdown",
      "source": [
        "# <font color='lightskyblue'>Arrays multidimensionais</font>"
      ],
      "metadata": {
        "id": "3P8kKI8fagz-"
      }
    },
    {
      "cell_type": "code",
      "source": [
        "# Tensor 3D\n",
        "\n",
        "arr1_2d = np.array([[1, 2], [3, 4]])\n",
        "arr2_2d = np.array([[5, 6], [7, 8]])\n",
        "arr3_2d = np.array([[9, 2], [3, 4]])\n",
        "\n",
        "arr_3d = np.array([arr1_2d, arr1_2d, arr3_2d])\n",
        "arr_3d"
      ],
      "metadata": {
        "id": "HHOMuU8WYljG",
        "colab": {
          "base_uri": "https://localhost:8080/"
        },
        "outputId": "20deb472-d6d3-4c5e-8c27-b0ec23171e30"
      },
      "execution_count": null,
      "outputs": [
        {
          "output_type": "execute_result",
          "data": {
            "text/plain": [
              "array([[[1, 2],\n",
              "        [3, 4]],\n",
              "\n",
              "       [[1, 2],\n",
              "        [3, 4]],\n",
              "\n",
              "       [[9, 2],\n",
              "        [3, 4]]])"
            ]
          },
          "metadata": {},
          "execution_count": 41
        }
      ]
    },
    {
      "cell_type": "code",
      "source": [
        "# Tensor 4D\n",
        "\n",
        "arr_4d = np.array([arr_3d, arr_3d])\n",
        "arr_4d"
      ],
      "metadata": {
        "colab": {
          "base_uri": "https://localhost:8080/"
        },
        "id": "ohfJsUSAqYQT",
        "outputId": "3b2b0497-8b2d-43d7-cca6-b3be205c9dc1"
      },
      "execution_count": null,
      "outputs": [
        {
          "output_type": "execute_result",
          "data": {
            "text/plain": [
              "array([[[[1, 2],\n",
              "         [3, 4]],\n",
              "\n",
              "        [[1, 2],\n",
              "         [3, 4]],\n",
              "\n",
              "        [[9, 2],\n",
              "         [3, 4]]],\n",
              "\n",
              "\n",
              "       [[[1, 2],\n",
              "         [3, 4]],\n",
              "\n",
              "        [[1, 2],\n",
              "         [3, 4]],\n",
              "\n",
              "        [[9, 2],\n",
              "         [3, 4]]]])"
            ]
          },
          "metadata": {},
          "execution_count": 56
        }
      ]
    },
    {
      "cell_type": "markdown",
      "source": [
        "*   Montando arrays 3D: (arrays2d, linhas, colunas)\n",
        "*   Montando arrays 4D: (arrays3d, arrays2d, linhas, colunas)"
      ],
      "metadata": {
        "id": "pr7IBuVLq2Fb"
      }
    },
    {
      "cell_type": "code",
      "source": [
        "np.zeros((2, 3, 4))"
      ],
      "metadata": {
        "colab": {
          "base_uri": "https://localhost:8080/"
        },
        "id": "H0Et5jVHrpYI",
        "outputId": "17d4f36a-9166-4d27-b6b7-4bbad606610e"
      },
      "execution_count": null,
      "outputs": [
        {
          "output_type": "execute_result",
          "data": {
            "text/plain": [
              "array([[[0., 0., 0., 0.],\n",
              "        [0., 0., 0., 0.],\n",
              "        [0., 0., 0., 0.]],\n",
              "\n",
              "       [[0., 0., 0., 0.],\n",
              "        [0., 0., 0., 0.],\n",
              "        [0., 0., 0., 0.]]])"
            ]
          },
          "metadata": {},
          "execution_count": 57
        }
      ]
    },
    {
      "cell_type": "code",
      "source": [
        "np.random.random((2, 3, 4, 5))"
      ],
      "metadata": {
        "colab": {
          "base_uri": "https://localhost:8080/"
        },
        "id": "YzpkKUOebm5t",
        "outputId": "22319360-c31e-4feb-def4-51867f46213e"
      },
      "execution_count": null,
      "outputs": [
        {
          "output_type": "execute_result",
          "data": {
            "text/plain": [
              "array([[[[0.13857723, 0.20043078, 0.57459729, 0.46572994, 0.97240533],\n",
              "         [0.67869634, 0.69504035, 0.73086482, 0.78652423, 0.61798251],\n",
              "         [0.67432352, 0.23286054, 0.49963748, 0.81198658, 0.539241  ],\n",
              "         [0.34618342, 0.78373691, 0.7066876 , 0.00441693, 0.92269111]],\n",
              "\n",
              "        [[0.63019375, 0.19393232, 0.13129041, 0.83741488, 0.97884708],\n",
              "         [0.30694953, 0.96149802, 0.33674872, 0.49984951, 0.34051926],\n",
              "         [0.13554884, 0.78040944, 0.41865935, 0.18019808, 0.5599145 ],\n",
              "         [0.103311  , 0.95520271, 0.99649494, 0.68705933, 0.046879  ]],\n",
              "\n",
              "        [[0.18723999, 0.31319671, 0.12300493, 0.1463223 , 0.90164999],\n",
              "         [0.99886951, 0.29134614, 0.44051666, 0.47193592, 0.76632408],\n",
              "         [0.93771221, 0.47721611, 0.73218745, 0.89148643, 0.97255976],\n",
              "         [0.83022812, 0.70057867, 0.82367496, 0.61643576, 0.84356002]]],\n",
              "\n",
              "\n",
              "       [[[0.29596422, 0.14493344, 0.30290366, 0.32379204, 0.96444606],\n",
              "         [0.25141144, 0.71913229, 0.94068723, 0.55455889, 0.10481859],\n",
              "         [0.80912735, 0.07110749, 0.55226139, 0.93903801, 0.35842869],\n",
              "         [0.93870904, 0.26880772, 0.75609081, 0.94830977, 0.46093169]],\n",
              "\n",
              "        [[0.99746183, 0.64414602, 0.62887008, 0.77958075, 0.49493   ],\n",
              "         [0.94308919, 0.95283711, 0.87333807, 0.04730626, 0.52519553],\n",
              "         [0.26207392, 0.50151727, 0.93575397, 0.50240676, 0.83369544],\n",
              "         [0.28920747, 0.76488397, 0.26920388, 0.33238822, 0.54845016]],\n",
              "\n",
              "        [[0.83940351, 0.14528508, 0.55543825, 0.63284222, 0.82892126],\n",
              "         [0.1654309 , 0.16691944, 0.78602691, 0.23849278, 0.16163037],\n",
              "         [0.95986352, 0.57328743, 0.23002736, 0.939696  , 0.56631654],\n",
              "         [0.92208894, 0.73525314, 0.42541764, 0.31831832, 0.46769389]]]])"
            ]
          },
          "metadata": {},
          "execution_count": 62
        }
      ]
    },
    {
      "cell_type": "markdown",
      "source": [
        "## .shape, flatten() e reshape()"
      ],
      "metadata": {
        "id": "dd2UBryxoewM"
      }
    },
    {
      "cell_type": "code",
      "source": [
        "arr = np.array([[3, 4], [8, 11], [9, 9]])\n",
        "arr"
      ],
      "metadata": {
        "colab": {
          "base_uri": "https://localhost:8080/"
        },
        "id": "iuUyqGhaj64h",
        "outputId": "c84830fc-d3b7-4f15-a073-dc81767d9c2d"
      },
      "execution_count": null,
      "outputs": [
        {
          "output_type": "execute_result",
          "data": {
            "text/plain": [
              "array([[ 3,  4],\n",
              "       [ 8, 11],\n",
              "       [ 9,  9]])"
            ]
          },
          "metadata": {},
          "execution_count": 50
        }
      ]
    },
    {
      "cell_type": "code",
      "source": [
        "arr.shape"
      ],
      "metadata": {
        "colab": {
          "base_uri": "https://localhost:8080/"
        },
        "id": "PdQLoHSLj_tg",
        "outputId": "3fd36c26-199d-41bc-e358-f0b737025377"
      },
      "execution_count": null,
      "outputs": [
        {
          "output_type": "execute_result",
          "data": {
            "text/plain": [
              "(3, 2)"
            ]
          },
          "metadata": {},
          "execution_count": 51
        }
      ]
    },
    {
      "cell_type": "code",
      "source": [
        "arr.flatten()"
      ],
      "metadata": {
        "colab": {
          "base_uri": "https://localhost:8080/"
        },
        "id": "6zrSz-caeh1Y",
        "outputId": "55c6a4b7-6211-447e-e796-828398d500d3"
      },
      "execution_count": null,
      "outputs": [
        {
          "output_type": "execute_result",
          "data": {
            "text/plain": [
              "array([ 3,  4,  8, 11,  9,  9])"
            ]
          },
          "metadata": {},
          "execution_count": 52
        }
      ]
    },
    {
      "cell_type": "code",
      "source": [
        "arr.reshape((2, 3))"
      ],
      "metadata": {
        "colab": {
          "base_uri": "https://localhost:8080/"
        },
        "id": "UlixOcWApFFR",
        "outputId": "54c4137d-20bc-40fb-a85a-ffd7bf567df6"
      },
      "execution_count": null,
      "outputs": [
        {
          "output_type": "execute_result",
          "data": {
            "text/plain": [
              "array([[ 3,  4,  8],\n",
              "       [11,  9,  9]])"
            ]
          },
          "metadata": {},
          "execution_count": 53
        }
      ]
    },
    {
      "cell_type": "markdown",
      "source": [
        "### 1. Reduza o array (5,7) a apenas uma dimensão"
      ],
      "metadata": {
        "id": "3c2qHtxhsN77"
      }
    },
    {
      "cell_type": "code",
      "source": [
        "arr57 = np.zeros((5, 7))\n",
        "arr57.flatten()"
      ],
      "metadata": {
        "id": "05mvXbPciElu",
        "colab": {
          "base_uri": "https://localhost:8080/"
        },
        "outputId": "38b854be-75b7-4446-fbcc-51c6da47c699"
      },
      "execution_count": null,
      "outputs": [
        {
          "output_type": "execute_result",
          "data": {
            "text/plain": [
              "array([0., 0., 0., 0., 0., 0., 0., 0., 0., 0., 0., 0., 0., 0., 0., 0., 0.,\n",
              "       0., 0., 0., 0., 0., 0., 0., 0., 0., 0., 0., 0., 0., 0., 0., 0., 0.,\n",
              "       0.])"
            ]
          },
          "metadata": {},
          "execution_count": 63
        }
      ]
    },
    {
      "cell_type": "markdown",
      "source": [
        "### 2. Considerando que você é uma organizadora de um jogo de bingo. Crie um array que irá representar a cartilha desses jogos de bingo. os números da suas cartelas variam entre 1 e 30, e você terá 10 participantes. Cada cartela terá 12 números (4, 3). Crie um array que represente esse jogo"
      ],
      "metadata": {
        "id": "6mh-aOcQqy0S"
      }
    },
    {
      "cell_type": "code",
      "source": [
        "bingo = np.random.randint(1, 31, size=(10, 4, 3))\n",
        "bingo"
      ],
      "metadata": {
        "id": "2LWkIt6I2OGo",
        "colab": {
          "base_uri": "https://localhost:8080/"
        },
        "outputId": "7aac8c05-2071-4272-88dd-600171fb183f"
      },
      "execution_count": null,
      "outputs": [
        {
          "output_type": "execute_result",
          "data": {
            "text/plain": [
              "array([[[23,  2,  9],\n",
              "        [17, 15,  5],\n",
              "        [ 6, 22,  1],\n",
              "        [11, 24, 15]],\n",
              "\n",
              "       [[18, 12, 20],\n",
              "        [18, 12, 15],\n",
              "        [10, 29, 25],\n",
              "        [17, 21, 28]],\n",
              "\n",
              "       [[30,  7,  4],\n",
              "        [29, 25,  1],\n",
              "        [ 1, 10, 20],\n",
              "        [15, 30, 26]],\n",
              "\n",
              "       [[ 6, 15, 17],\n",
              "        [11, 19, 30],\n",
              "        [ 2, 25, 25],\n",
              "        [28, 27, 10]],\n",
              "\n",
              "       [[21, 15, 11],\n",
              "        [26, 26, 22],\n",
              "        [13,  1, 21],\n",
              "        [11, 12,  6]],\n",
              "\n",
              "       [[21,  4, 17],\n",
              "        [ 3, 21, 12],\n",
              "        [21, 10, 26],\n",
              "        [ 5, 26,  9]],\n",
              "\n",
              "       [[ 3,  7, 27],\n",
              "        [ 7, 15, 12],\n",
              "        [16, 30,  5],\n",
              "        [12, 18,  3]],\n",
              "\n",
              "       [[25, 13, 13],\n",
              "        [24,  3, 23],\n",
              "        [16,  4, 14],\n",
              "        [21,  1, 17]],\n",
              "\n",
              "       [[20, 23, 23],\n",
              "        [ 7, 10,  7],\n",
              "        [ 6, 12,  8],\n",
              "        [12, 30, 13]],\n",
              "\n",
              "       [[ 3,  2, 20],\n",
              "        [18, 24, 22],\n",
              "        [23, 12, 20],\n",
              "        [16, 11, 13]]])"
            ]
          },
          "metadata": {},
          "execution_count": 67
        }
      ]
    },
    {
      "cell_type": "markdown",
      "source": [
        "### 3. Faça o reshape das suas cartelas para que haja 5 cartelas de 4 linhas e 6 colunas"
      ],
      "metadata": {
        "id": "vopTx8gjtiMn"
      }
    },
    {
      "cell_type": "code",
      "source": [
        "bingo.reshape((5, 4, 6))"
      ],
      "metadata": {
        "id": "LVHYKk0ys5JA",
        "colab": {
          "base_uri": "https://localhost:8080/"
        },
        "outputId": "519ce433-0843-4775-d4f0-cfbe0cb84834"
      },
      "execution_count": null,
      "outputs": [
        {
          "output_type": "execute_result",
          "data": {
            "text/plain": [
              "array([[[23,  2,  9, 17, 15,  5],\n",
              "        [ 6, 22,  1, 11, 24, 15],\n",
              "        [18, 12, 20, 18, 12, 15],\n",
              "        [10, 29, 25, 17, 21, 28]],\n",
              "\n",
              "       [[30,  7,  4, 29, 25,  1],\n",
              "        [ 1, 10, 20, 15, 30, 26],\n",
              "        [ 6, 15, 17, 11, 19, 30],\n",
              "        [ 2, 25, 25, 28, 27, 10]],\n",
              "\n",
              "       [[21, 15, 11, 26, 26, 22],\n",
              "        [13,  1, 21, 11, 12,  6],\n",
              "        [21,  4, 17,  3, 21, 12],\n",
              "        [21, 10, 26,  5, 26,  9]],\n",
              "\n",
              "       [[ 3,  7, 27,  7, 15, 12],\n",
              "        [16, 30,  5, 12, 18,  3],\n",
              "        [25, 13, 13, 24,  3, 23],\n",
              "        [16,  4, 14, 21,  1, 17]],\n",
              "\n",
              "       [[20, 23, 23,  7, 10,  7],\n",
              "        [ 6, 12,  8, 12, 30, 13],\n",
              "        [ 3,  2, 20, 18, 24, 22],\n",
              "        [23, 12, 20, 16, 11, 13]]])"
            ]
          },
          "metadata": {},
          "execution_count": 68
        }
      ]
    },
    {
      "cell_type": "markdown",
      "source": [
        "# <font color='lightskyblue'>Tipos de dados</font>"
      ],
      "metadata": {
        "id": "3BHvipRfv7f9"
      }
    },
    {
      "cell_type": "markdown",
      "source": [
        "*   np.int64\n",
        "*   np.int32\n",
        "*   np.float64\n",
        "*   np.float32"
      ],
      "metadata": {
        "id": "5X9zSKc2yoHQ"
      }
    },
    {
      "cell_type": "markdown",
      "source": [
        "## .dtype e default"
      ],
      "metadata": {
        "id": "cAuLohURyDhJ"
      }
    },
    {
      "cell_type": "code",
      "source": [
        "np.array([2.14, 6.25, 160.87, 8.4]).dtype"
      ],
      "metadata": {
        "colab": {
          "base_uri": "https://localhost:8080/"
        },
        "id": "Zw9N5oXN_7WV",
        "outputId": "fd8c4b8f-feab-47fa-bd73-f6248f53cc67"
      },
      "execution_count": null,
      "outputs": [
        {
          "output_type": "execute_result",
          "data": {
            "text/plain": [
              "dtype('float64')"
            ]
          },
          "metadata": {},
          "execution_count": 78
        }
      ]
    },
    {
      "cell_type": "code",
      "source": [
        "np.array([2, 6, 160, 8]).dtype"
      ],
      "metadata": {
        "colab": {
          "base_uri": "https://localhost:8080/"
        },
        "id": "xKPsZ4pAACOz",
        "outputId": "bf1bb72b-6fc2-4632-b057-038c07832983"
      },
      "execution_count": null,
      "outputs": [
        {
          "output_type": "execute_result",
          "data": {
            "text/plain": [
              "dtype('int64')"
            ]
          },
          "metadata": {},
          "execution_count": 79
        }
      ]
    },
    {
      "cell_type": "code",
      "source": [
        "np.array([\"Hello\", \"Coder\", \"Girls\"]).dtype"
      ],
      "metadata": {
        "colab": {
          "base_uri": "https://localhost:8080/"
        },
        "id": "--fFIEgvAtKF",
        "outputId": "725b4772-f5b8-4dc4-83aa-186b3648f34e"
      },
      "execution_count": null,
      "outputs": [
        {
          "output_type": "execute_result",
          "data": {
            "text/plain": [
              "dtype('<U5')"
            ]
          },
          "metadata": {},
          "execution_count": 80
        }
      ]
    },
    {
      "cell_type": "code",
      "source": [
        "arr_flaot32 = np.array([2.14, 6.25, 160.87], dtype=np.float32)\n",
        "arr_flaot32"
      ],
      "metadata": {
        "colab": {
          "base_uri": "https://localhost:8080/"
        },
        "id": "lgYPwwpFA2AR",
        "outputId": "4af05e2b-2be6-4fa8-ae66-988473d8470b"
      },
      "execution_count": null,
      "outputs": [
        {
          "output_type": "execute_result",
          "data": {
            "text/plain": [
              "array([  2.14,   6.25, 160.87], dtype=float32)"
            ]
          },
          "metadata": {},
          "execution_count": 81
        }
      ]
    },
    {
      "cell_type": "code",
      "source": [
        "arr_vf = np.array([[True, False], [True, True]], dtype=np.bool8)\n",
        "arr_vf.astype(np.int32)"
      ],
      "metadata": {
        "colab": {
          "base_uri": "https://localhost:8080/"
        },
        "id": "XpBTC041BtpR",
        "outputId": "819218cb-ac90-46d1-a981-d73bff98480b"
      },
      "execution_count": null,
      "outputs": [
        {
          "output_type": "execute_result",
          "data": {
            "text/plain": [
              "array([[1, 0],\n",
              "       [1, 1]], dtype=int32)"
            ]
          },
          "metadata": {},
          "execution_count": 84
        }
      ]
    },
    {
      "cell_type": "code",
      "source": [
        "np.array([\"pedra\", False , 42, 42.42])"
      ],
      "metadata": {
        "colab": {
          "base_uri": "https://localhost:8080/"
        },
        "id": "6tE5yQ60CbsL",
        "outputId": "1796346a-bd8c-4108-bcaf-2116c1bbf10c"
      },
      "execution_count": null,
      "outputs": [
        {
          "output_type": "execute_result",
          "data": {
            "text/plain": [
              "array(['pedra', 'False', '42', '42.42'], dtype='<U32')"
            ]
          },
          "metadata": {},
          "execution_count": 85
        }
      ]
    },
    {
      "cell_type": "code",
      "source": [
        "np.array([0, 10]).dtype"
      ],
      "metadata": {
        "colab": {
          "base_uri": "https://localhost:8080/"
        },
        "id": "K2Rq5Mb2DbPq",
        "outputId": "f3d34eae-6036-423e-bb8e-0079f59a5679"
      },
      "execution_count": null,
      "outputs": [
        {
          "output_type": "execute_result",
          "data": {
            "text/plain": [
              "dtype('int64')"
            ]
          },
          "metadata": {},
          "execution_count": 88
        }
      ]
    },
    {
      "cell_type": "code",
      "source": [
        "np.array([0, 10, 1.]).dtype"
      ],
      "metadata": {
        "colab": {
          "base_uri": "https://localhost:8080/"
        },
        "id": "q_gjB8HGDbTE",
        "outputId": "eedb7060-1240-40b2-95cf-6ae9b69de105"
      },
      "execution_count": null,
      "outputs": [
        {
          "output_type": "execute_result",
          "data": {
            "text/plain": [
              "dtype('float64')"
            ]
          },
          "metadata": {},
          "execution_count": 89
        }
      ]
    },
    {
      "cell_type": "code",
      "source": [
        "np.array([True, False]).dtype"
      ],
      "metadata": {
        "colab": {
          "base_uri": "https://localhost:8080/"
        },
        "id": "hAKlEJtjDUH7",
        "outputId": "0ecdadf8-79f2-4c4b-f67f-35166859229e"
      },
      "execution_count": null,
      "outputs": [
        {
          "output_type": "execute_result",
          "data": {
            "text/plain": [
              "dtype('bool')"
            ]
          },
          "metadata": {},
          "execution_count": 87
        }
      ]
    },
    {
      "cell_type": "code",
      "source": [
        "np.array([True, False, 12]).dtype"
      ],
      "metadata": {
        "colab": {
          "base_uri": "https://localhost:8080/"
        },
        "id": "kR-8fpMjCi8f",
        "outputId": "005e8f44-5b25-4fc0-ba05-165be3734222"
      },
      "execution_count": null,
      "outputs": [
        {
          "output_type": "execute_result",
          "data": {
            "text/plain": [
              "dtype('int64')"
            ]
          },
          "metadata": {},
          "execution_count": 86
        }
      ]
    },
    {
      "cell_type": "markdown",
      "source": [
        "## Filtrando arrays"
      ],
      "metadata": {
        "id": "LcO2H98f1DpJ"
      }
    },
    {
      "cell_type": "code",
      "source": [
        "arr1= np.array ([1, 2, 3, 4, 5])\n",
        "print(arr1)\n",
        "\n",
        "# Mask\n",
        "mask = arr1 % 2 == 0\n",
        "print(mask)\n",
        "\n",
        "# Fancy indexing\n",
        "print(arr1[mask])"
      ],
      "metadata": {
        "colab": {
          "base_uri": "https://localhost:8080/"
        },
        "id": "QijRdNar1_HS",
        "outputId": "095a00e5-d2ee-42c1-dfbc-7fafc067a093"
      },
      "execution_count": 20,
      "outputs": [
        {
          "output_type": "stream",
          "name": "stdout",
          "text": [
            "[1 2 3 4 5]\n",
            "[False  True False  True False]\n",
            "[2 4]\n"
          ]
        }
      ]
    },
    {
      "cell_type": "code",
      "source": [
        "pessoas_id_idade = np.array([[1, 22], [2, 21], [3, 27], [4, 26]])\n",
        "print(pessoas_id_idade)\n",
        "\n",
        "# Quais valores da segunda coluna são pares? - mask\n",
        "filtro = pessoas_id_idade[:, 1] % 2 == 0\n",
        "print(filtro)\n",
        "\n",
        "# Fancy indexing\n",
        "print(pessoas_id_idade[filtro])"
      ],
      "metadata": {
        "colab": {
          "base_uri": "https://localhost:8080/"
        },
        "id": "TDrbhk9n1D6k",
        "outputId": "8972c184-cee3-4dd3-eba2-8f05eb5ed709"
      },
      "execution_count": 21,
      "outputs": [
        {
          "output_type": "stream",
          "name": "stdout",
          "text": [
            "[[ 1 22]\n",
            " [ 2 21]\n",
            " [ 3 27]\n",
            " [ 4 26]]\n",
            "[ True False False  True]\n",
            "[[ 1 22]\n",
            " [ 4 26]]\n"
          ]
        }
      ]
    },
    {
      "cell_type": "markdown",
      "source": [
        "Fancy indexing x np.where()"
      ],
      "metadata": {
        "id": "4hqdc48R3c3k"
      }
    },
    {
      "cell_type": "code",
      "source": [
        "np.where(pessoas_id_idade[:, 1]%2==0)"
      ],
      "metadata": {
        "colab": {
          "base_uri": "https://localhost:8080/"
        },
        "id": "HQEmd4_i3tIn",
        "outputId": "510d3795-44e0-4ea3-e306-2844093c3e11"
      },
      "execution_count": 25,
      "outputs": [
        {
          "output_type": "execute_result",
          "data": {
            "text/plain": [
              "(array([0, 3]),)"
            ]
          },
          "metadata": {},
          "execution_count": 25
        }
      ]
    },
    {
      "cell_type": "code",
      "source": [
        "cartela_bingo = np.array([[16, 10,  3, 15],\n",
        "                            [14, 23, 17, 27],\n",
        "                            [ 6, 19,  3,  1],\n",
        "                            [10,  4, 18, 19]])\n",
        "cartela_bingo"
      ],
      "metadata": {
        "colab": {
          "base_uri": "https://localhost:8080/"
        },
        "id": "KrXDZA2y3WQy",
        "outputId": "3e2061b9-09b5-4a3c-82d0-2badd7479e2c"
      },
      "execution_count": 22,
      "outputs": [
        {
          "output_type": "execute_result",
          "data": {
            "text/plain": [
              "array([[16, 10,  3, 15],\n",
              "       [14, 23, 17, 27],\n",
              "       [ 6, 19,  3,  1],\n",
              "       [10,  4, 18, 19]])"
            ]
          },
          "metadata": {},
          "execution_count": 22
        }
      ]
    },
    {
      "cell_type": "code",
      "source": [
        "np.where(cartela_bingo % 3 ==0)"
      ],
      "metadata": {
        "colab": {
          "base_uri": "https://localhost:8080/"
        },
        "id": "DRj53IVK3lM1",
        "outputId": "0a7759e5-73ff-4a45-8b94-eb69a9af6e24"
      },
      "execution_count": 26,
      "outputs": [
        {
          "output_type": "execute_result",
          "data": {
            "text/plain": [
              "(array([0, 0, 1, 2, 2, 3]), array([2, 3, 3, 0, 2, 2]))"
            ]
          },
          "metadata": {},
          "execution_count": 26
        }
      ]
    },
    {
      "cell_type": "code",
      "source": [
        "# Array tipo de dado: str>int\n",
        "np.where(cartela_bingo % 3 == 0, \"\", cartela_bingo)"
      ],
      "metadata": {
        "colab": {
          "base_uri": "https://localhost:8080/"
        },
        "id": "rcYgsAF-4LIi",
        "outputId": "567cab46-cdcd-4916-f4ac-0596d79cb7be"
      },
      "execution_count": 28,
      "outputs": [
        {
          "output_type": "execute_result",
          "data": {
            "text/plain": [
              "array([['16', '10', '', ''],\n",
              "       ['14', '23', '17', ''],\n",
              "       ['', '19', '', '1'],\n",
              "       ['10', '4', '', '19']], dtype='<U21')"
            ]
          },
          "metadata": {},
          "execution_count": 28
        }
      ]
    },
    {
      "cell_type": "markdown",
      "source": [
        "# <font color='lightskyblue'>Adicionando e removendo dados do array</font>"
      ],
      "metadata": {
        "id": "1VBoJ9-M8tZj"
      }
    },
    {
      "cell_type": "code",
      "source": [
        "arrv1 = np.random.randint(10, size=(3,2))\n",
        "print(arrv1)\n",
        "print('')\n",
        "\n",
        "arrv2 = np.array([[\"Pera\", \"Morango\"]])\n",
        "print(arrv2)\n",
        "print('')\n",
        "\n",
        "np.concatenate((arrv1, arrv2))"
      ],
      "metadata": {
        "colab": {
          "base_uri": "https://localhost:8080/"
        },
        "id": "qaWPW6wB828i",
        "outputId": "b6ae5c9a-8c4d-41db-cf88-493b4307b046"
      },
      "execution_count": 56,
      "outputs": [
        {
          "output_type": "stream",
          "name": "stdout",
          "text": [
            "[[9 0]\n",
            " [4 6]\n",
            " [3 2]]\n",
            "\n",
            "[['Pera' 'Morango']]\n",
            "\n"
          ]
        },
        {
          "output_type": "execute_result",
          "data": {
            "text/plain": [
              "array([['9', '0'],\n",
              "       ['4', '6'],\n",
              "       ['3', '2'],\n",
              "       ['Pera', 'Morango']], dtype='<U21')"
            ]
          },
          "metadata": {},
          "execution_count": 56
        }
      ]
    },
    {
      "cell_type": "code",
      "source": [
        "arrv1 = np.array([[7, 6], [4, 1], [1, 1]])\n",
        "print(arrv1)\n",
        "print('')\n",
        "\n",
        "arro1 = np.array([\"Uva\", \"Abacaxi\", \"Laranja\"]).reshape((3, 1))\n",
        "print(arro1)\n",
        "print('')\n",
        "\n",
        "np.concatenate((arrv1, arro1), axis=1)"
      ],
      "metadata": {
        "colab": {
          "base_uri": "https://localhost:8080/"
        },
        "id": "heFRFnHi9lEc",
        "outputId": "cc7100c2-31cf-4cd5-8358-035729768fb1"
      },
      "execution_count": 55,
      "outputs": [
        {
          "output_type": "stream",
          "name": "stdout",
          "text": [
            "[[7 6]\n",
            " [4 1]\n",
            " [1 1]]\n",
            "\n",
            "[['Uva']\n",
            " ['Abacaxi']\n",
            " ['Laranja']]\n",
            "\n"
          ]
        },
        {
          "output_type": "execute_result",
          "data": {
            "text/plain": [
              "array([['7', '6', 'Uva'],\n",
              "       ['4', '1', 'Abacaxi'],\n",
              "       ['1', '1', 'Laranja']], dtype='<U21')"
            ]
          },
          "metadata": {},
          "execution_count": 55
        }
      ]
    },
    {
      "cell_type": "code",
      "source": [
        "sala_espera = np.array([['5', '30', '1', 'Alice'], ['6', '29', '1', 'Bob'], ['7', '35', '3', 'Cristina'], ['8', '34', '3', 'Luiz']], dtype='<U8')\n",
        "sala_espera"
      ],
      "metadata": {
        "colab": {
          "base_uri": "https://localhost:8080/"
        },
        "id": "tnRN3lb-_FT-",
        "outputId": "5f4da451-b13c-4ce2-ee16-62ff27a2e358"
      },
      "execution_count": 58,
      "outputs": [
        {
          "output_type": "execute_result",
          "data": {
            "text/plain": [
              "array([['5', '30', '1', 'Alice'],\n",
              "       ['6', '29', '1', 'Bob'],\n",
              "       ['7', '35', '3', 'Cristina'],\n",
              "       ['8', '34', '3', 'Luiz']], dtype='<U8')"
            ]
          },
          "metadata": {},
          "execution_count": 58
        }
      ]
    },
    {
      "cell_type": "code",
      "source": [
        "np.delete(sala_espera, 2, axis=0)"
      ],
      "metadata": {
        "colab": {
          "base_uri": "https://localhost:8080/"
        },
        "id": "YjnAjvpW_Pry",
        "outputId": "a63ea568-d5b2-4dfa-e8a9-126b6209861f"
      },
      "execution_count": 59,
      "outputs": [
        {
          "output_type": "execute_result",
          "data": {
            "text/plain": [
              "array([['5', '30', '1', 'Alice'],\n",
              "       ['6', '29', '1', 'Bob'],\n",
              "       ['8', '34', '3', 'Luiz']], dtype='<U8')"
            ]
          },
          "metadata": {},
          "execution_count": 59
        }
      ]
    },
    {
      "cell_type": "code",
      "source": [
        "np.delete(sala_espera, 1, axis=1)"
      ],
      "metadata": {
        "colab": {
          "base_uri": "https://localhost:8080/"
        },
        "id": "LO0OUXi0_R4j",
        "outputId": "6e04ed02-0606-4d87-b1b6-55969486e6b9"
      },
      "execution_count": 60,
      "outputs": [
        {
          "output_type": "execute_result",
          "data": {
            "text/plain": [
              "array([['5', '1', 'Alice'],\n",
              "       ['6', '1', 'Bob'],\n",
              "       ['7', '3', 'Cristina'],\n",
              "       ['8', '3', 'Luiz']], dtype='<U8')"
            ]
          },
          "metadata": {},
          "execution_count": 60
        }
      ]
    },
    {
      "cell_type": "code",
      "source": [
        "acidentes = np.array([[1, 3, 2], [0, 1, 0], [2, 1, 4], [0, 0, 0], [1, 1, 0]])\n",
        "acidentes"
      ],
      "metadata": {
        "colab": {
          "base_uri": "https://localhost:8080/"
        },
        "id": "DQyPERFVASB9",
        "outputId": "24807525-e934-4552-bf58-a56175b5ff13"
      },
      "execution_count": 61,
      "outputs": [
        {
          "output_type": "execute_result",
          "data": {
            "text/plain": [
              "array([[1, 3, 2],\n",
              "       [0, 1, 0],\n",
              "       [2, 1, 4],\n",
              "       [0, 0, 0],\n",
              "       [1, 1, 0]])"
            ]
          },
          "metadata": {},
          "execution_count": 61
        }
      ]
    },
    {
      "cell_type": "code",
      "source": [
        "acidentes.sum()"
      ],
      "metadata": {
        "colab": {
          "base_uri": "https://localhost:8080/"
        },
        "id": "6JKXDcmfAZPl",
        "outputId": "405206b8-16a6-476d-cdae-0f9421f36486"
      },
      "execution_count": 62,
      "outputs": [
        {
          "output_type": "execute_result",
          "data": {
            "text/plain": [
              "16"
            ]
          },
          "metadata": {},
          "execution_count": 62
        }
      ]
    },
    {
      "cell_type": "code",
      "source": [
        "acidentes.sum(axis=0)"
      ],
      "metadata": {
        "colab": {
          "base_uri": "https://localhost:8080/"
        },
        "id": "a0DwyCTaAsZ_",
        "outputId": "a6a3cc3c-fbee-422e-f1fe-59ab57510426"
      },
      "execution_count": 63,
      "outputs": [
        {
          "output_type": "execute_result",
          "data": {
            "text/plain": [
              "array([4, 6, 6])"
            ]
          },
          "metadata": {},
          "execution_count": 63
        }
      ]
    },
    {
      "cell_type": "code",
      "source": [
        "acidentes.sum(axis=1)"
      ],
      "metadata": {
        "colab": {
          "base_uri": "https://localhost:8080/"
        },
        "id": "9DYRKBLvCJIA",
        "outputId": "688a96ee-8f6d-459f-f56c-034799eabce4"
      },
      "execution_count": 64,
      "outputs": [
        {
          "output_type": "execute_result",
          "data": {
            "text/plain": [
              "array([6, 1, 7, 0, 2])"
            ]
          },
          "metadata": {},
          "execution_count": 64
        }
      ]
    },
    {
      "cell_type": "code",
      "source": [
        "# Mín e máx\n",
        "print(acidentes.min())\n",
        "print(acidentes.max())\n",
        "print(acidentes.max(axis=0))"
      ],
      "metadata": {
        "colab": {
          "base_uri": "https://localhost:8080/"
        },
        "id": "LdVF5tBLCVie",
        "outputId": "8c858da2-11b4-4f04-e3b0-d1b17925fee3"
      },
      "execution_count": 71,
      "outputs": [
        {
          "output_type": "stream",
          "name": "stdout",
          "text": [
            "0\n",
            "4\n",
            "[2 3 4]\n"
          ]
        }
      ]
    },
    {
      "cell_type": "code",
      "source": [
        "# Médias\n",
        "print(acidentes.mean())\n",
        "print(acidentes.mean(axis=0))\n",
        "print(acidentes.mean(axis=1))"
      ],
      "metadata": {
        "colab": {
          "base_uri": "https://localhost:8080/"
        },
        "id": "zYzG9WNfC3Pe",
        "outputId": "9bca44ab-0dae-459f-d7e1-60f0bb4950c0"
      },
      "execution_count": 72,
      "outputs": [
        {
          "output_type": "stream",
          "name": "stdout",
          "text": [
            "1.0666666666666667\n",
            "[0.8 1.2 1.2]\n",
            "[2.         0.33333333 2.33333333 0.         0.66666667]\n"
          ]
        }
      ]
    },
    {
      "cell_type": "code",
      "source": [
        "# Keedims - manter as mesmas dimensões\n",
        "print(acidentes.mean(axis=0))\n",
        "print(acidentes.mean(axis=0, keepdims=True))\n",
        "print(acidentes.mean(axis=1))\n",
        "print(acidentes.mean(axis=1, keepdims=True))"
      ],
      "metadata": {
        "colab": {
          "base_uri": "https://localhost:8080/"
        },
        "id": "OddZGU4sDPej",
        "outputId": "a3ae8cee-75ae-485a-a866-f040b18da51b"
      },
      "execution_count": 74,
      "outputs": [
        {
          "output_type": "stream",
          "name": "stdout",
          "text": [
            "[0.8 1.2 1.2]\n",
            "[[0.8 1.2 1.2]]\n",
            "[2.         0.33333333 2.33333333 0.         0.66666667]\n",
            "[[2.        ]\n",
            " [0.33333333]\n",
            " [2.33333333]\n",
            " [0.        ]\n",
            " [0.66666667]]\n"
          ]
        }
      ]
    },
    {
      "cell_type": "code",
      "source": [
        "print(acidentes.cumsum(axis=0))\n",
        "print('')\n",
        "print(acidentes.cumsum(axis=1))"
      ],
      "metadata": {
        "colab": {
          "base_uri": "https://localhost:8080/"
        },
        "id": "C1RW65rKF2Ju",
        "outputId": "79c877ff-75ab-4599-b557-4551f7bf6833"
      },
      "execution_count": 76,
      "outputs": [
        {
          "output_type": "stream",
          "name": "stdout",
          "text": [
            "[[1 3 2]\n",
            " [1 4 2]\n",
            " [3 5 6]\n",
            " [3 5 6]\n",
            " [4 6 6]]\n",
            "\n",
            "[[1 4 6]\n",
            " [0 1 1]\n",
            " [2 3 7]\n",
            " [0 0 0]\n",
            " [1 2 2]]\n"
          ]
        }
      ]
    },
    {
      "cell_type": "code",
      "source": [
        "from matplotlib import pyplot as plt\n",
        "plt.plot(np.arange(1, 6), acidentes.cumsum(axis=0), label=['Cliente 1', 'Cliente 2', 'Cliente 3'])\n",
        "plt.legend()\n",
        "plt.show()"
      ],
      "metadata": {
        "colab": {
          "base_uri": "https://localhost:8080/",
          "height": 430
        },
        "id": "7hy04JcNGnbo",
        "outputId": "5c1b65e4-b9ee-4c90-c2fc-162b56c0e971"
      },
      "execution_count": 78,
      "outputs": [
        {
          "output_type": "display_data",
          "data": {
            "text/plain": [
              "<Figure size 640x480 with 1 Axes>"
            ],
            "image/png": "[encoded data removed]"
          },
          "metadata": {}
        }
      ]
    },
    {
      "cell_type": "markdown",
      "source": [
        "# Explorando Ecossistemas:\n",
        "Como bióloga marinha, me encontrei em uma expedição nas profundezas do Oceano Pacífico, onde estávamos estudando a biodiversidade e a saúde dos recifes de coral. O catálogo abaixo demonstra dados das espécies encontradas, considere a seguinte ordem de colunas:\n",
        "\n",
        "**ID da espécie, quantidade de representantes encontrados, profundeza, tamanho médio da espécie**\n",
        "\n",
        "\n",
        "\n",
        "*  Selecione a segunda coluna com a quantidade de espécies encontradas e adicione em um array as qtd_especies.\n",
        "*  De qtd_especies selecione apenas as primeiras 3 quantidades e print\n",
        "*  Print as 5 últimas quantidades de espécies\n",
        "*  Crie um array que contenha apenas os tamanhos das espécies e ordene por ordem crescente\n",
        "\n",
        "\n",
        "\n",
        "\n"
      ],
      "metadata": {
        "id": "5Xr_92nOfJAa"
      }
    },
    {
      "cell_type": "code",
      "source": [
        "especies = np.array([[747,  89,  33,   5],\n",
        "                    [623, 123,  32,  13],\n",
        "                    [501,  22,  49,   2],\n",
        "                    [116, 101,  42,  10],\n",
        "                    [297,  56,  69,  22],\n",
        "                    [613,  64,  27,   7],\n",
        "                    [295,  84,  29,  14],\n",
        "                    [692, 105,  72,  16],\n",
        "                    [229, 103,  35,   5],\n",
        "                    [374, 124,  70,   1]])\n",
        "especies"
      ],
      "metadata": {
        "colab": {
          "base_uri": "https://localhost:8080/"
        },
        "id": "AHM6Tv-v5vqz",
        "outputId": "645917ab-16e5-499a-af08-4757fb58d32b"
      },
      "execution_count": 29,
      "outputs": [
        {
          "output_type": "execute_result",
          "data": {
            "text/plain": [
              "array([[747,  89,  33,   5],\n",
              "       [623, 123,  32,  13],\n",
              "       [501,  22,  49,   2],\n",
              "       [116, 101,  42,  10],\n",
              "       [297,  56,  69,  22],\n",
              "       [613,  64,  27,   7],\n",
              "       [295,  84,  29,  14],\n",
              "       [692, 105,  72,  16],\n",
              "       [229, 103,  35,   5],\n",
              "       [374, 124,  70,   1]])"
            ]
          },
          "metadata": {},
          "execution_count": 29
        }
      ]
    },
    {
      "cell_type": "markdown",
      "source": [
        "*   Usando um index booleano crie um array que contém os dados da maior espécie encontrada (considerando o seu tamanho), esse valor corresponde ao valor 22.\n",
        "\n",
        "*   Usando fency index faça um array que contém apenas dados da espécie com ID 297\n",
        "*   Usando np.where() faça um array com a linha com dados correspondentes a espécie com 105 representantes encontrados.\n",
        "*   Considere a profundeza em que o espécie foi encontrada substitua valores maiores que 60 com \"Profundo\""
      ],
      "metadata": {
        "id": "Z8Ezq6W150vq"
      }
    },
    {
      "cell_type": "code",
      "source": [
        "maior_especie = especies[:, 3] == 22\n",
        "maior_especie"
      ],
      "metadata": {
        "colab": {
          "base_uri": "https://localhost:8080/"
        },
        "id": "qv6UXIro5wlE",
        "outputId": "c7337a12-6d47-4d5d-e384-4a6f3e34c2d3"
      },
      "execution_count": 31,
      "outputs": [
        {
          "output_type": "execute_result",
          "data": {
            "text/plain": [
              "array([False, False, False, False,  True, False, False, False, False,\n",
              "       False])"
            ]
          },
          "metadata": {},
          "execution_count": 31
        }
      ]
    },
    {
      "cell_type": "code",
      "source": [
        "mask_297 = especies[:, 0] == 297\n",
        "especies[mask_297]"
      ],
      "metadata": {
        "colab": {
          "base_uri": "https://localhost:8080/"
        },
        "id": "3xedIY-g68Lh",
        "outputId": "c864614d-2db6-449a-8aeb-cde07108b407"
      },
      "execution_count": 33,
      "outputs": [
        {
          "output_type": "execute_result",
          "data": {
            "text/plain": [
              "array([[297,  89,  33,   5],\n",
              "       [297, 123,  32,  13],\n",
              "       [297,  22,  49,   2],\n",
              "       [297, 101,  42,  10],\n",
              "       [297,  56,  69,  22],\n",
              "       [297,  64,  27,   7],\n",
              "       [297,  84,  29,  14],\n",
              "       [297, 105,  72,  16],\n",
              "       [297, 103,  35,   5],\n",
              "       [297, 124,  70,   1]])"
            ]
          },
          "metadata": {},
          "execution_count": 33
        }
      ]
    },
    {
      "cell_type": "code",
      "source": [
        "np.where(especies[:, 1] == 105)"
      ],
      "metadata": {
        "colab": {
          "base_uri": "https://localhost:8080/"
        },
        "id": "lv9-5Oao7UaH",
        "outputId": "0c782b01-7e18-4704-b3f9-ea1e57edf625"
      },
      "execution_count": 35,
      "outputs": [
        {
          "output_type": "execute_result",
          "data": {
            "text/plain": [
              "(array([7]),)"
            ]
          },
          "metadata": {},
          "execution_count": 35
        }
      ]
    },
    {
      "cell_type": "code",
      "source": [
        "especies[:, 2]> 60"
      ],
      "metadata": {
        "colab": {
          "base_uri": "https://localhost:8080/"
        },
        "id": "Oq0nDxBe71br",
        "outputId": "1535682a-f803-495b-e8b6-1760dc665a88"
      },
      "execution_count": 36,
      "outputs": [
        {
          "output_type": "execute_result",
          "data": {
            "text/plain": [
              "array([False, False, False, False,  True, False, False,  True, False,\n",
              "        True])"
            ]
          },
          "metadata": {},
          "execution_count": 36
        }
      ]
    },
    {
      "cell_type": "code",
      "source": [
        "np.where(especies[:, 2]> 68, \"Profundo\", especies[:, 2])"
      ],
      "metadata": {
        "colab": {
          "base_uri": "https://localhost:8080/"
        },
        "id": "bBGf7lJe74ro",
        "outputId": "a7da0839-0605-4b9c-cc56-09a7e9be8387"
      },
      "execution_count": 37,
      "outputs": [
        {
          "output_type": "execute_result",
          "data": {
            "text/plain": [
              "array(['33', '32', '49', '42', 'Profundo', '27', '29', 'Profundo', '35',\n",
              "       'Profundo'], dtype='<U21')"
            ]
          },
          "metadata": {},
          "execution_count": 37
        }
      ]
    },
    {
      "cell_type": "markdown",
      "source": [
        "*   Adicione mais 2 espécies ao array: [[204, 10, 40, 12], [392, 11, 81, 11]]\n",
        "*   Adicione mais uma coluna na no array original agora com o número de espécies encontradas com que indica se o animal enxerga ou não: [0, 1, 0, 0, 0, 0, 1, 0, 1, 1, 0]"
      ],
      "metadata": {
        "id": "0pGstY-H56ur"
      }
    },
    {
      "cell_type": "code",
      "source": [
        "novas_especies = np.array([[204, 10, 40, 12], [392, 11, 81, 11]])"
      ],
      "metadata": {
        "id": "mYMp6m_XHi66"
      },
      "execution_count": 81,
      "outputs": []
    },
    {
      "cell_type": "code",
      "source": [
        "np.concatenate((especies, novas_especies))"
      ],
      "metadata": {
        "colab": {
          "base_uri": "https://localhost:8080/"
        },
        "id": "HCDTN3neHjyS",
        "outputId": "362e7841-b844-4339-f199-40828adb763b"
      },
      "execution_count": 82,
      "outputs": [
        {
          "output_type": "execute_result",
          "data": {
            "text/plain": [
              "array([[297,  89,  33,   5],\n",
              "       [297, 123,  32,  13],\n",
              "       [297,  22,  49,   2],\n",
              "       [297, 101,  42,  10],\n",
              "       [297,  56,  69,  22],\n",
              "       [297,  64,  27,   7],\n",
              "       [297,  84,  29,  14],\n",
              "       [297, 105,  72,  16],\n",
              "       [297, 103,  35,   5],\n",
              "       [297, 124,  70,   1],\n",
              "       [204,  10,  40,  12],\n",
              "       [392,  11,  81,  11]])"
            ]
          },
          "metadata": {},
          "execution_count": 82
        }
      ]
    },
    {
      "cell_type": "code",
      "source": [
        "especies.shape"
      ],
      "metadata": {
        "colab": {
          "base_uri": "https://localhost:8080/"
        },
        "id": "cMAlT90CHvzX",
        "outputId": "5e80bb0d-9544-4039-9eaf-b31f47a77463"
      },
      "execution_count": 83,
      "outputs": [
        {
          "output_type": "execute_result",
          "data": {
            "text/plain": [
              "(10, 4)"
            ]
          },
          "metadata": {},
          "execution_count": 83
        }
      ]
    },
    {
      "cell_type": "code",
      "source": [
        "np.array([0, 1, 0, 0, 0, 0, 1, 0, 1, 1]).shape"
      ],
      "metadata": {
        "colab": {
          "base_uri": "https://localhost:8080/"
        },
        "id": "HEsc6hj_IMCw",
        "outputId": "efdd85b1-6be5-427e-b7ac-9b0eb747de5b"
      },
      "execution_count": 85,
      "outputs": [
        {
          "output_type": "execute_result",
          "data": {
            "text/plain": [
              "(10,)"
            ]
          },
          "metadata": {},
          "execution_count": 85
        }
      ]
    },
    {
      "cell_type": "code",
      "source": [
        "ver = np.array([0, 1, 0, 0, 0, 0, 1, 0, 1, 1]).reshape((10, 1))\n",
        "ver"
      ],
      "metadata": {
        "colab": {
          "base_uri": "https://localhost:8080/"
        },
        "id": "Q6ayxpltIcmm",
        "outputId": "a20c1f43-508c-4400-d8e0-ccee846bccd0"
      },
      "execution_count": 86,
      "outputs": [
        {
          "output_type": "execute_result",
          "data": {
            "text/plain": [
              "array([[0],\n",
              "       [1],\n",
              "       [0],\n",
              "       [0],\n",
              "       [0],\n",
              "       [0],\n",
              "       [1],\n",
              "       [0],\n",
              "       [1],\n",
              "       [1]])"
            ]
          },
          "metadata": {},
          "execution_count": 86
        }
      ]
    },
    {
      "cell_type": "code",
      "source": [
        "ver.shape"
      ],
      "metadata": {
        "colab": {
          "base_uri": "https://localhost:8080/"
        },
        "id": "ihGJL1R8IpMx",
        "outputId": "ff07c595-31ba-436c-aa42-abfbe4db8015"
      },
      "execution_count": 88,
      "outputs": [
        {
          "output_type": "execute_result",
          "data": {
            "text/plain": [
              "(10, 1)"
            ]
          },
          "metadata": {},
          "execution_count": 88
        }
      ]
    },
    {
      "cell_type": "code",
      "source": [
        "np.concatenate((especies, ver), axis=1)"
      ],
      "metadata": {
        "colab": {
          "base_uri": "https://localhost:8080/"
        },
        "id": "niyJPwVsIs1a",
        "outputId": "f71c5ed2-d4ea-4147-e5b3-876a7a00a1c6"
      },
      "execution_count": 89,
      "outputs": [
        {
          "output_type": "execute_result",
          "data": {
            "text/plain": [
              "array([[297,  89,  33,   5,   0],\n",
              "       [297, 123,  32,  13,   1],\n",
              "       [297,  22,  49,   2,   0],\n",
              "       [297, 101,  42,  10,   0],\n",
              "       [297,  56,  69,  22,   0],\n",
              "       [297,  64,  27,   7,   0],\n",
              "       [297,  84,  29,  14,   1],\n",
              "       [297, 105,  72,  16,   0],\n",
              "       [297, 103,  35,   5,   1],\n",
              "       [297, 124,  70,   1,   1]])"
            ]
          },
          "metadata": {},
          "execution_count": 89
        }
      ]
    },
    {
      "cell_type": "markdown",
      "source": [
        "# <font color='lightskyblue'>Operações com vetorização</font>"
      ],
      "metadata": {
        "id": "2s1Y03OEI-Al"
      }
    },
    {
      "cell_type": "code",
      "source": [
        "# Python\n",
        "arr = np.array([[1, 2], [4, 5]])\n",
        "for linha in range(0, arr.shape[0]):\n",
        "    for coluna in range(0, arr.shape[1]):\n",
        "        arr[linha] [coluna] += 3\n",
        "print(arr)\n",
        "\n",
        "print('')\n",
        "\n",
        "# Numpy\n",
        "arr = np.array([[1, 2], [4, 5]])\n",
        "arr += 3\n",
        "print(arr)"
      ],
      "metadata": {
        "colab": {
          "base_uri": "https://localhost:8080/"
        },
        "id": "qsus-uw5JDb2",
        "outputId": "3c912c7d-8340-4259-9828-8526a8fdb687"
      },
      "execution_count": 91,
      "outputs": [
        {
          "output_type": "stream",
          "name": "stdout",
          "text": [
            "[[4 5]\n",
            " [7 8]]\n",
            "\n",
            "[[4 5]\n",
            " [7 8]]\n"
          ]
        }
      ]
    },
    {
      "cell_type": "code",
      "source": [
        "arr = np.array([[1, 2], [4, 5]])\n",
        "arr += 3\n",
        "arr"
      ],
      "metadata": {
        "colab": {
          "base_uri": "https://localhost:8080/"
        },
        "id": "M3jQtpO8J4oZ",
        "outputId": "d773adaa-40e3-4086-e76c-bfa0e4c3d455"
      },
      "execution_count": 92,
      "outputs": [
        {
          "output_type": "execute_result",
          "data": {
            "text/plain": [
              "array([[4, 5],\n",
              "       [7, 8]])"
            ]
          },
          "metadata": {},
          "execution_count": 92
        }
      ]
    },
    {
      "cell_type": "code",
      "source": [
        "arr2= np.array([[1, 2], [4, 5]])\n",
        "arr2 * 5"
      ],
      "metadata": {
        "colab": {
          "base_uri": "https://localhost:8080/"
        },
        "id": "t34Hhn47J8Br",
        "outputId": "28c4a8a9-6456-40ac-de90-8c5d81030ee4"
      },
      "execution_count": 96,
      "outputs": [
        {
          "output_type": "execute_result",
          "data": {
            "text/plain": [
              "array([[ 5, 10],\n",
              "       [20, 25]])"
            ]
          },
          "metadata": {},
          "execution_count": 96
        }
      ]
    },
    {
      "cell_type": "code",
      "source": [
        "# Adicionando 2 arrays\n",
        "a = np.array([[1, 2, 3], [4, 5, 6]])\n",
        "b = np.array([[2, 2, 2], [0, 0, 1]])\n",
        "a + b"
      ],
      "metadata": {
        "colab": {
          "base_uri": "https://localhost:8080/"
        },
        "id": "-QfZ4ZgoKUx9",
        "outputId": "6f1c36ab-e7b9-4f12-b52e-00dc29888a1b"
      },
      "execution_count": 99,
      "outputs": [
        {
          "output_type": "execute_result",
          "data": {
            "text/plain": [
              "array([[3, 4, 5],\n",
              "       [4, 5, 7]])"
            ]
          },
          "metadata": {},
          "execution_count": 99
        }
      ]
    },
    {
      "cell_type": "code",
      "source": [
        "# Multiplicando 2 arrays\n",
        "a = np.array([[1, 2, 3], [4, 5, 6]])\n",
        "b = np.array([[2, 2, 2], [0, 0, 1]])\n",
        "a * b"
      ],
      "metadata": {
        "colab": {
          "base_uri": "https://localhost:8080/"
        },
        "id": "4HeNZK3FKWxK",
        "outputId": "be07284c-fad1-4ed7-e3f6-f164fcbde170"
      },
      "execution_count": 100,
      "outputs": [
        {
          "output_type": "execute_result",
          "data": {
            "text/plain": [
              "array([[2, 4, 6],\n",
              "       [0, 0, 6]])"
            ]
          },
          "metadata": {},
          "execution_count": 100
        }
      ]
    },
    {
      "cell_type": "code",
      "source": [
        "# Operações booleanas\n",
        "a = np.array([[1, 2, 3], [4, 5, 6]])\n",
        "a > 3"
      ],
      "metadata": {
        "colab": {
          "base_uri": "https://localhost:8080/"
        },
        "id": "QknY6QdRK1CM",
        "outputId": "0b9145c7-11ae-4c78-e05c-cad41819205d"
      },
      "execution_count": 101,
      "outputs": [
        {
          "output_type": "execute_result",
          "data": {
            "text/plain": [
              "array([[False, False, False],\n",
              "       [ True,  True,  True]])"
            ]
          },
          "metadata": {},
          "execution_count": 101
        }
      ]
    },
    {
      "cell_type": "code",
      "source": [
        "# Vetorização\n",
        "arr = np.array([\"hello\", \"meninas\", \"coders\"])\n",
        "print(len(arr) > 5)\n",
        "\n",
        "vetorizar_len = np.vectorize(len)\n",
        "print(vetorizar_len(arr) > 5)"
      ],
      "metadata": {
        "colab": {
          "base_uri": "https://localhost:8080/"
        },
        "id": "ctQ-ysqTLEqo",
        "outputId": "b52b057c-513a-4424-c30c-28be58d7bf16"
      },
      "execution_count": 106,
      "outputs": [
        {
          "output_type": "stream",
          "name": "stdout",
          "text": [
            "False\n",
            "[False  True  True]\n"
          ]
        }
      ]
    },
    {
      "cell_type": "code",
      "source": [
        "# Vetorização\n",
        "\n",
        "def minha_funcao(x):\n",
        "    return x**2 + 3*x + 1\n",
        "\n",
        "vetorizada_funcao = np.vectorize(minha_funcao)\n",
        "array_original = np.array([1, 2, 3, 4, 5])\n",
        "resultado = vetorizada_funcao(array_original)\n",
        "resultado"
      ],
      "metadata": {
        "colab": {
          "base_uri": "https://localhost:8080/"
        },
        "id": "kzGNzF3DLcfl",
        "outputId": "e7bbb7ce-ccf0-4925-d5ba-c846d81e7752"
      },
      "execution_count": 110,
      "outputs": [
        {
          "output_type": "execute_result",
          "data": {
            "text/plain": [
              "array([ 5, 11, 19, 29, 41])"
            ]
          },
          "metadata": {},
          "execution_count": 110
        }
      ]
    },
    {
      "cell_type": "code",
      "source": [
        "# Broadcasting\n",
        "\n",
        "arr2 = np.array([[1, 2], [4, 5]])\n",
        "print(arr2 * 5)\n",
        "print('')\n",
        "\n",
        "arr_3x3 = np.array([[1, 2], [4, 5], [7, 8]])\n",
        "print(arr_3x3)\n",
        "print('')\n",
        "\n",
        "arr_3x1 = np.array([1, 0, -1]).reshape((3,1))\n",
        "print(arr_3x1)\n",
        "print('')\n",
        "\n",
        "arr_3x3 + arr_3x1"
      ],
      "metadata": {
        "colab": {
          "base_uri": "https://localhost:8080/"
        },
        "id": "VqfE2tbxLsWl",
        "outputId": "5cb4e543-38b7-479a-ea0b-36542eb02359"
      },
      "execution_count": 114,
      "outputs": [
        {
          "output_type": "stream",
          "name": "stdout",
          "text": [
            "[[ 5 10]\n",
            " [20 25]]\n",
            "\n",
            "[[1 2]\n",
            " [4 5]\n",
            " [7 8]]\n",
            "\n",
            "[[ 1]\n",
            " [ 0]\n",
            " [-1]]\n",
            "\n"
          ]
        },
        {
          "output_type": "execute_result",
          "data": {
            "text/plain": [
              "array([[2, 3],\n",
              "       [4, 5],\n",
              "       [6, 7]])"
            ]
          },
          "metadata": {},
          "execution_count": 114
        }
      ]
    },
    {
      "cell_type": "code",
      "source": [
        "arr10 = np.arange(10).reshape((2, 5))\n",
        "arr5 = np.array ([0, 1, 2, 3, 4])\n",
        "print(arr10.shape, arr5.shape)\n",
        "arr10 + arr5"
      ],
      "metadata": {
        "colab": {
          "base_uri": "https://localhost:8080/"
        },
        "id": "1PsTsClIRN74",
        "outputId": "7829a980-d2c2-4945-b67f-99b064548967"
      },
      "execution_count": 116,
      "outputs": [
        {
          "output_type": "stream",
          "name": "stdout",
          "text": [
            "(2, 5) (5,)\n"
          ]
        },
        {
          "output_type": "execute_result",
          "data": {
            "text/plain": [
              "array([[ 0,  2,  4,  6,  8],\n",
              "       [ 5,  7,  9, 11, 13]])"
            ]
          },
          "metadata": {},
          "execution_count": 116
        }
      ]
    },
    {
      "cell_type": "code",
      "source": [
        "arr10 = np.arange(10).reshape((2, 5))\n",
        "arr2 = np.array([2, 1]).reshape(2, 1)\n",
        "print(arr10.shape, arr2.shape)\n",
        "arr10 + arr2"
      ],
      "metadata": {
        "colab": {
          "base_uri": "https://localhost:8080/"
        },
        "id": "lClaIIZJRg4M",
        "outputId": "ee4a4f4e-482b-4390-f118-4503c6a090ad"
      },
      "execution_count": 119,
      "outputs": [
        {
          "output_type": "stream",
          "name": "stdout",
          "text": [
            "(2, 5) (2, 1)\n"
          ]
        },
        {
          "output_type": "execute_result",
          "data": {
            "text/plain": [
              "array([[ 2,  3,  4,  5,  6],\n",
              "       [ 6,  7,  8,  9, 10]])"
            ]
          },
          "metadata": {},
          "execution_count": 119
        }
      ]
    },
    {
      "cell_type": "markdown",
      "source": [
        "Outras operações"
      ],
      "metadata": {
        "id": "aWffagTAJ_tn"
      }
    },
    {
      "cell_type": "code",
      "source": [
        "arr10/arr2"
      ],
      "metadata": {
        "colab": {
          "base_uri": "https://localhost:8080/"
        },
        "id": "ibZ1y9WvSCjm",
        "outputId": "ef17f377-4231-4604-c979-0e9db9d30323"
      },
      "execution_count": 120,
      "outputs": [
        {
          "output_type": "execute_result",
          "data": {
            "text/plain": [
              "array([[0. , 0.5, 1. , 1.5, 2. ],\n",
              "       [5. , 6. , 7. , 8. , 9. ]])"
            ]
          },
          "metadata": {},
          "execution_count": 120
        }
      ]
    },
    {
      "cell_type": "code",
      "source": [
        "arr10 * arr2"
      ],
      "metadata": {
        "colab": {
          "base_uri": "https://localhost:8080/"
        },
        "id": "nG3HuQEjSHV7",
        "outputId": "90462db6-c04e-43cc-8d6e-bb048e5efb17"
      },
      "execution_count": 121,
      "outputs": [
        {
          "output_type": "execute_result",
          "data": {
            "text/plain": [
              "array([[0, 2, 4, 6, 8],\n",
              "       [5, 6, 7, 8, 9]])"
            ]
          },
          "metadata": {},
          "execution_count": 121
        }
      ]
    },
    {
      "cell_type": "markdown",
      "source": [
        "# <font color='lightskyblue'>Arquivos</font>"
      ],
      "metadata": {
        "id": "5ZSwpNsMSAP7"
      }
    },
    {
      "cell_type": "code",
      "source": [
        "# Salvando\n",
        "\n",
        "np.save('arr10.npy', arr10)\n",
        "\n",
        "np.savetxt('arr10.csv', arr10, delimiter=',')"
      ],
      "metadata": {
        "id": "s_lZoLDOS_7I"
      },
      "execution_count": 127,
      "outputs": []
    },
    {
      "cell_type": "code",
      "source": [
        "# Carregando\n",
        "\n",
        "arr = np.load('arr10.npy')\n",
        "arr"
      ],
      "metadata": {
        "colab": {
          "base_uri": "https://localhost:8080/"
        },
        "id": "fRMr8Cc9S7mT",
        "outputId": "70f8d140-5f83-4693-ea43-749d7aff0e18"
      },
      "execution_count": 124,
      "outputs": [
        {
          "output_type": "execute_result",
          "data": {
            "text/plain": [
              "array([[0, 1, 2, 3, 4],\n",
              "       [5, 6, 7, 8, 9]])"
            ]
          },
          "metadata": {},
          "execution_count": 124
        }
      ]
    },
    {
      "cell_type": "markdown",
      "source": [
        "# Exercícios"
      ],
      "metadata": {
        "id": "1axynxDXTYMn"
      }
    },
    {
      "cell_type": "markdown",
      "source": [
        "Da engenharia à liderança, conectamos mulheres\n",
        "que querem fazer a diferença\n",
        "na tecnologia e inovação.\n",
        "womakerscode.org\n",
        "Python para Dados - Atividade de Fixação\n",
        "Numpy\n",
        "As atividades aqui apresentadas estão contidas nos notebooks:\n",
        "● WMC - Python para Dados 1.1 - Numpy.ipynb\n",
        "● WMC - Python para Dados 1.2 - Numpy.ipynb\n",
        "●\n",
        "Introdutórias\n",
        "1. Crie um array com 4 linhas e 3 colunas com valores aleatórios.\n",
        "2. Crie um array com valores inteiros, 3 linhas e 5 colunas com valores\n",
        "aleatórios.\n",
        "3. Crie um array com 5 colunas e 10 linhas inicializados com zeros.\n",
        "4. Crie um array que vá entre 0 e 90 pulando de 4 em 4.\n",
        "5. Reduza o array (5,7) a apenas uma dimensão.\n",
        "6. Considerando que você é uma organizadora de um jogo de bingo. Crie\n",
        "um array que irá representar a cartilha desses jogos de bingo. os\n",
        "números das suas cartelas variam entre 1 e 30, e você terá 10\n",
        "participantes. Cada cartela terá 12 números (4, 3). Crie um array que\n",
        "representa esse jogo.\n",
        "7. Faça o reshape das suas cartelas para que haja 5 cartelas de 4 linhas e\n",
        "6 colunas.\n",
        "Manipulando Arrays\n",
        "1. Explorando Ecossistemas:\n",
        "Como bióloga marinha, me encontrei em uma expedição nas\n",
        "profundezas do Oceano Pacífico, onde estávamos estudando a\n",
        "biodiversidade e a saúde dos recifes de coral. O catálogo abaixo\n",
        "demonstra dados das espécies encontradas, considere a seguinte\n",
        "ordem de colunas:\n",
        "Da engenharia à liderança, conectamos mulheres\n",
        "que querem fazer a diferença\n",
        "na tecnologia e inovação.\n",
        "womakerscode.org\n",
        "ID da espécie, quantidade de representantes encontrados, profundeza,\n",
        "tamanho médio da espécie.\n",
        "a. Selecione a segunda coluna com a quantidade de espécies\n",
        "encontradas e adicione em um array as qtd_especies.\n",
        "b. De qtd_especies selecione apenas as primeiras 3 quantidades e\n",
        "print.\n",
        "c. Print as 5 últimas quantidades de espécies.\n",
        "d. Crie um array que contenha apenas os tamanhos das espécies e\n",
        "ordene por ordem crescente.\n",
        "especies = np.array([[747, 89, 33, 5],\n",
        "[623, 123, 32, 13],\n",
        "[501, 22, 49, 2],\n",
        "[116, 101, 42, 10],\n",
        "[297, 56, 69, 22],\n",
        "[613, 64, 27, 7],\n",
        "[295, 84, 29, 14],\n",
        "[692, 105, 72, 16],\n",
        "[229, 103, 35, 5],\n",
        "[374, 124, 70, 1]])\n",
        "2. Ainda usando o Array de espécies marítimas.\n",
        "a. Usando um index boolean crie um array que contém os dados da\n",
        "maior espécie encontrada (considerando o seu tamanho), esse\n",
        "valor corresponde ao valor 22.\n",
        "b. Usando fency index faça um array que contém apenas dados da\n",
        "espécie com ID 297.\n",
        "c. Usando np.where() faça um array com a linha com dados\n",
        "correspondentes a espécie com 105 representantes\n",
        "encontrados.\n",
        "d. Considere a profundeza em que o espécie foi encontrada\n",
        "substitua valores maiores que 60 com \"Profundo”\n",
        "Da engenharia à liderança, conectamos mulheres\n",
        "que querem fazer a diferença\n",
        "na tecnologia e inovação.\n",
        "womakerscode.org\n",
        "3. Ainda no conjunto 'especies'.\n",
        "a. Adicione mais 2 espécies ao array: [[204, 10, 40, 12], [392, 11, 81,\n",
        "11]].\n",
        "b. Adicione mais uma coluna na no array original agora com o\n",
        "número de espécies encontradas com que indica se o animal\n",
        "enxerga ou não: [0, 1, 0, 0, 0, 0, 1, 0, 1, 1, 0].\n",
        "Cálculo com Array\n",
        "Considerando o array abaixo, responda:\n",
        "acidentes = np.array([[1, 3, 2],\n",
        "[0, 1, 0],\n",
        "[2, 1, 4],\n",
        "[0, 0, 0],\n",
        "[1, 1, 0]])\n",
        "1. O cliente que teve acidente abaixo da média nos últimos 2 anos,\n",
        "ganhará um desconto no seu seguro. Identifique-os.\n",
        "2. Qual cliente teve pelo menos 2 anos sem cometer acidentes?\n",
        "3. Uma professora quer que seus alunos apliquem a função (3x + 2y +\n",
        "x*y) em um conjunto de dados. Ela dá dois arrays aos estudantes e\n",
        "pede que seja feita essa operação.\n",
        "4. A mesma professora percebeu que houve um erro em todas as provas\n",
        "dos estudantes e esqueceu de anotar a nota de trabalhos\n",
        "apresentados durante o semestre. Já que foi feito em grupo ela vai\n",
        "adicionar a mesma nota para todos os estudantes. No array cada\n",
        "estudante representa uma linha e cada coluna uma prova. Adicione\n",
        "para cada prova de cada estudante os valores: 1, 2, 1."
      ],
      "metadata": {
        "id": "CUiJ7b7vTeZ_"
      }
    },
    {
      "cell_type": "code",
      "source": [],
      "metadata": {
        "id": "fBChgW3YTWeS"
      },
      "execution_count": null,
      "outputs": []
    },
    {
      "cell_type": "code",
      "source": [],
      "metadata": {
        "id": "de4QT5wAUKWI"
      },
      "execution_count": null,
      "outputs": []
    }
  ]
}